{
 "cells": [
  {
   "cell_type": "markdown",
   "id": "0a6b98d7",
   "metadata": {},
   "source": [
    "# Módulo 5: Redes Neuronales - Parte I\n",
    "\n",
    "## Reconocimiento de digitos en imágenes\n",
    "\n",
    "En esta actividad vamos a aprender a desarrollar nuestra propia red neuronal para reconocimiento dígitos en imagenes.\n",
    "\n",
    "Para ello, vamos a trabajar con un dataset (digits.csv) que contiene imagenes en escala de grises de **28x28 pixeles** (un total de 784 pixeles). **Cada imagen representa un digito (desde el 0 al 9) escrito a mano**. Cada pixel tiene un valor asociado entre 0 y 255 que indica la luminosidad u oscuridad de dicho pixel (valores mas grandes indican mayor oscuridad).\n",
    "\n",
    "El dataset tiene 785 columnas, en donde la primera columna es el label del dataset y las columnas restantes son los features que indican los valores de cada pixel de la imagen.\n",
    "\n",
    "### Clasificación binaria: ¿Es un 2?\n",
    "La idea es utilizar este dataset para reconocer dígitos que fueron escritos manualmente utilizando una red neuronal simple. \n",
    "\n",
    "En este caso, vamos a reconocer únicamente aquellas imágenes que representen el número 2. Es decir, la idea es hacer una **clasificación binaria** en donde, dada una imagen de un dígito se determine si corresponde con el número 2 o no.\n",
    "\n",
    "En primer lugar, cargamos en memoria el dataset (en un pandas DataFrame), analizamos los labels y observamos algunas imágenes.\n",
    "\n",
    "\n",
    "### <font color='red'>**Actividad 1:**</font>\n",
    "**a)** Escribir en Python un programa para dividir el dataset del archivo digits.csv almacenando los features en una variable llamada **X**  y los labels en una variable llamada **y**."
   ]
  },
  {
   "cell_type": "markdown",
   "id": "c748d52b-4f4c-41c2-a8bc-09e9e5f201ee",
   "metadata": {},
   "source": [
    "-> Suponiendo que el digits.csv contiene como primer columna el valor del label y el resto el valor individual de cada pixel"
   ]
  },
  {
   "cell_type": "code",
   "execution_count": 65,
   "id": "c828b4c1",
   "metadata": {},
   "outputs": [
    {
     "name": "stdout",
     "output_type": "stream",
     "text": [
      "valores de features:\n"
     ]
    },
    {
     "data": {
      "text/html": [
       "<div>\n",
       "<style scoped>\n",
       "    .dataframe tbody tr th:only-of-type {\n",
       "        vertical-align: middle;\n",
       "    }\n",
       "\n",
       "    .dataframe tbody tr th {\n",
       "        vertical-align: top;\n",
       "    }\n",
       "\n",
       "    .dataframe thead th {\n",
       "        text-align: right;\n",
       "    }\n",
       "</style>\n",
       "<table border=\"1\" class=\"dataframe\">\n",
       "  <thead>\n",
       "    <tr style=\"text-align: right;\">\n",
       "      <th></th>\n",
       "      <th>pixel0</th>\n",
       "      <th>pixel1</th>\n",
       "      <th>pixel2</th>\n",
       "      <th>pixel3</th>\n",
       "      <th>pixel4</th>\n",
       "      <th>pixel5</th>\n",
       "      <th>pixel6</th>\n",
       "      <th>pixel7</th>\n",
       "      <th>pixel8</th>\n",
       "      <th>pixel9</th>\n",
       "      <th>...</th>\n",
       "      <th>pixel774</th>\n",
       "      <th>pixel775</th>\n",
       "      <th>pixel776</th>\n",
       "      <th>pixel777</th>\n",
       "      <th>pixel778</th>\n",
       "      <th>pixel779</th>\n",
       "      <th>pixel780</th>\n",
       "      <th>pixel781</th>\n",
       "      <th>pixel782</th>\n",
       "      <th>pixel783</th>\n",
       "    </tr>\n",
       "  </thead>\n",
       "  <tbody>\n",
       "    <tr>\n",
       "      <th>0</th>\n",
       "      <td>172</td>\n",
       "      <td>47</td>\n",
       "      <td>117</td>\n",
       "      <td>192</td>\n",
       "      <td>67</td>\n",
       "      <td>251</td>\n",
       "      <td>195</td>\n",
       "      <td>103</td>\n",
       "      <td>9</td>\n",
       "      <td>211</td>\n",
       "      <td>...</td>\n",
       "      <td>229</td>\n",
       "      <td>219</td>\n",
       "      <td>246</td>\n",
       "      <td>100</td>\n",
       "      <td>159</td>\n",
       "      <td>221</td>\n",
       "      <td>178</td>\n",
       "      <td>252</td>\n",
       "      <td>174</td>\n",
       "      <td>93</td>\n",
       "    </tr>\n",
       "    <tr>\n",
       "      <th>1</th>\n",
       "      <td>114</td>\n",
       "      <td>161</td>\n",
       "      <td>12</td>\n",
       "      <td>224</td>\n",
       "      <td>233</td>\n",
       "      <td>80</td>\n",
       "      <td>66</td>\n",
       "      <td>200</td>\n",
       "      <td>243</td>\n",
       "      <td>125</td>\n",
       "      <td>...</td>\n",
       "      <td>79</td>\n",
       "      <td>74</td>\n",
       "      <td>162</td>\n",
       "      <td>168</td>\n",
       "      <td>166</td>\n",
       "      <td>246</td>\n",
       "      <td>149</td>\n",
       "      <td>34</td>\n",
       "      <td>117</td>\n",
       "      <td>160</td>\n",
       "    </tr>\n",
       "  </tbody>\n",
       "</table>\n",
       "<p>2 rows × 784 columns</p>\n",
       "</div>"
      ],
      "text/plain": [
       "   pixel0  pixel1  pixel2  pixel3  pixel4  pixel5  pixel6  pixel7  pixel8  \\\n",
       "0     172      47     117     192      67     251     195     103       9   \n",
       "1     114     161      12     224     233      80      66     200     243   \n",
       "\n",
       "   pixel9  ...  pixel774  pixel775  pixel776  pixel777  pixel778  pixel779  \\\n",
       "0     211  ...       229       219       246       100       159       221   \n",
       "1     125  ...        79        74       162       168       166       246   \n",
       "\n",
       "   pixel780  pixel781  pixel782  pixel783  \n",
       "0       178       252       174        93  \n",
       "1       149        34       117       160  \n",
       "\n",
       "[2 rows x 784 columns]"
      ]
     },
     "execution_count": 65,
     "metadata": {},
     "output_type": "execute_result"
    }
   ],
   "source": [
    "import pandas as pd\n",
    "\n",
    "df = pd.read_csv(\"digits.csv\")\n",
    "\n",
    "y = df.iloc[:,0] #primera columna\n",
    "X = df.iloc[:, 1:] #todas menos la 1ra\n",
    "\n",
    "print(\"valores de features:\")\n",
    "X\n"
   ]
  },
  {
   "cell_type": "code",
   "execution_count": 66,
   "id": "d89047c6-dcbf-41e4-a3b8-53205aa4d969",
   "metadata": {},
   "outputs": [
    {
     "name": "stdout",
     "output_type": "stream",
     "text": [
      "valores de labels:\n"
     ]
    },
    {
     "data": {
      "text/plain": [
       "0    2\n",
       "1    5\n",
       "Name: label, dtype: int64"
      ]
     },
     "execution_count": 66,
     "metadata": {},
     "output_type": "execute_result"
    }
   ],
   "source": [
    "print(\"valores de labels:\")\n",
    "y"
   ]
  },
  {
   "cell_type": "markdown",
   "id": "fb5cf506",
   "metadata": {},
   "source": [
    "**b)** Observar la cantidad de ejemplos por cada label, analizando la variable **y**."
   ]
  },
  {
   "cell_type": "code",
   "execution_count": 67,
   "id": "fde0f631",
   "metadata": {},
   "outputs": [
    {
     "name": "stdout",
     "output_type": "stream",
     "text": [
      "Cantidad de ejemplos: 2\n"
     ]
    }
   ],
   "source": [
    "# shape nos tira la dimension del array en una tupla como (nro_filas, nro_columnas). Tomamos el primer valor\n",
    "cant = y.shape[0]\n",
    "print(f\"Cantidad de ejemplos: {cant}\")"
   ]
  },
  {
   "cell_type": "markdown",
   "id": "fa83a0c0",
   "metadata": {},
   "source": [
    "### Visualización de imágenes del dataset\n",
    "Las imagenes (28px x 28px) fueron cargadas en memoria en un pandas Dataframe que representa un vector de una única dimensión (1D) con 784 valores, cada una representada por un pandas Series. Para imprimir y visualizar, como así tambien para crear una red neuronal que las lea debemos reformatear esta estructura y convertirla en una matriz (array) de 3 dimensiones (3D) de 28x28x1. Para ello utilizamos el metodo .reshape():\n",
    "\n",
    "X = X.values.reshape(-1,28,28,1)\n",
    "\n",
    "**Aclaración:** el primer parámetro de reshape, que se encuentra en -1, toma por defecto la dimensión del array (formado por X.values que contiene todos los valores del DataFrame en un array de 2 dimensiones). (Ver [documentación](https://numpy.org/doc/stable/reference/generated/numpy.reshape.html#numpy-reshape) para más info) \n",
    "\n",
    "Tensorflow y Keras requieren una dimensión extra al final que se corresponde con los canales de colores. En este caso, las imagenes del dataset se encuentran en la escala de grises con lo cual utilizaremos un único canal (para imagenes RGB se usan 3 canales)."
   ]
  },
  {
   "cell_type": "code",
   "execution_count": 68,
   "id": "391e9537",
   "metadata": {},
   "outputs": [],
   "source": [
    "#ya habia hecho .values antes entonces no necesito hacerlo de vuelta\n",
    "X = X.values.reshape(-1,28,28,1)"
   ]
  },
  {
   "cell_type": "markdown",
   "id": "1d27965e",
   "metadata": {},
   "source": [
    "A continuación observemos dos imágenes distintas y sus labels."
   ]
  },
  {
   "cell_type": "code",
   "execution_count": 69,
   "id": "e336297e",
   "metadata": {},
   "outputs": [
    {
     "name": "stdout",
     "output_type": "stream",
     "text": [
      "LABEL: 2\n"
     ]
    },
    {
     "data": {
      "image/png": "[encoded data removed]",
      "text/plain": [
       "<Figure size 640x480 with 1 Axes>"
      ]
     },
     "metadata": {},
     "output_type": "display_data"
    }
   ],
   "source": [
    "import matplotlib.pyplot as plt\n",
    "\n",
    "g1 = plt.imshow(X[0][:,:,0])\n",
    "print(\"LABEL:\", y[0])\n",
    "\n",
    "#a los digitos los cree aleatoriamente entonces no se parece un dos aunque el label lo diga"
   ]
  },
  {
   "cell_type": "code",
   "execution_count": 70,
   "id": "a9db9860",
   "metadata": {},
   "outputs": [
    {
     "name": "stdout",
     "output_type": "stream",
     "text": [
      "LABEL: 5\n"
     ]
    },
    {
     "data": {
      "image/png": "[encoded data removed]",
      "text/plain": [
       "<Figure size 640x480 with 1 Axes>"
      ]
     },
     "metadata": {},
     "output_type": "display_data"
    }
   ],
   "source": [
    "plt.imshow(X[1][:,:,0])\n",
    "print(\"LABEL:\", y[1])"
   ]
  },
  {
   "cell_type": "markdown",
   "id": "7d9829f5",
   "metadata": {},
   "source": [
    "### Redefinición de los Labels\n",
    "Como lo que queremos hacer es un clasificador binario que unicamente detecte imagenes con el valor 2, tenemos que modificar los labels para tener unicamente dos valores y=1, cuando la imagen representa un 2 e y=0, cuando la imagen representa cualquier otro digito.\n",
    "\n",
    "Para ello hacemos uso del potencial de pandas, que nos permite modificar valores de columnas facilmente utilizando condiciones y filtros. Por ejemplo, si quisieramos cambiar el valor de todos los labels que se corresponden con el digito 9 por un valor igual a -1, podemos hacer:\n",
    "\n",
    "**y.loc[y == 9] = -1**\n",
    "\n",
    "Esta linea de codigo buscaria en la variable **y** (que es una pandas Series) todas aquellas filas que contienen el valor 9 y los reemplazaria con un valor igual a -1.\n",
    "\n",
    "De esta misma forma, podremos modificar nuestro dataset para que contenga dos valores y=1, para todos los labels igual a 2 e y=0 para todos los labels distintos de 2.\n",
    "\n",
    "### <font color='red'>**Actividad 2:**</font>\n",
    "**a)** Modificar los valores de **y** para que sólo contenga los labels y=1 e y=0.\n"
   ]
  },
  {
   "cell_type": "code",
   "execution_count": 71,
   "id": "688c5c62-fd7f-4d18-a57c-a529e89bac00",
   "metadata": {},
   "outputs": [
    {
     "data": {
      "text/plain": [
       "0    2\n",
       "1    5\n",
       "Name: label, dtype: int64"
      ]
     },
     "execution_count": 71,
     "metadata": {},
     "output_type": "execute_result"
    }
   ],
   "source": [
    "y"
   ]
  },
  {
   "cell_type": "code",
   "execution_count": 73,
   "id": "e5fcc5b8",
   "metadata": {},
   "outputs": [
    {
     "data": {
      "text/plain": [
       "0    0\n",
       "1    0\n",
       "Name: label, dtype: int64"
      ]
     },
     "execution_count": 73,
     "metadata": {},
     "output_type": "execute_result"
    }
   ],
   "source": [
    "y.loc[y!=2] = 0\n",
    "y.loc[y==2] = 1\n",
    "y"
   ]
  },
  {
   "cell_type": "markdown",
   "id": "b83657fd",
   "metadata": {},
   "source": [
    "**b)** Observar la **cantidad de ejemplos por cada label**, analizando la variable **y**."
   ]
  },
  {
   "cell_type": "code",
   "execution_count": 64,
   "id": "3a482315",
   "metadata": {},
   "outputs": [
    {
     "name": "stdout",
     "output_type": "stream",
     "text": [
      "Cantidad de ejemplos: label\n",
      "0    2\n",
      "Name: count, dtype: int64\n"
     ]
    }
   ],
   "source": [
    "cant = y.value_counts()\n",
    "print(f\"Cantidad de ejemplos: {cant}\")"
   ]
  },
  {
   "cell_type": "markdown",
   "id": "535aa7e0",
   "metadata": {},
   "source": [
    "Como vimos anteriormente, para los algoritmos de ML en general suele ser mejor normalizar los datos para que el proceso de aprendizaje sea más efectivo y eficiente.\n",
    "\n",
    "Para ello normalizamos dividiendo por 255 todos los valores de pixeles que se encuentran en la variable X"
   ]
  },
  {
   "cell_type": "code",
   "execution_count": null,
   "id": "4374b6dc",
   "metadata": {},
   "outputs": [],
   "source": [
    "X = X / 255.0"
   ]
  },
  {
   "cell_type": "markdown",
   "id": "fb164b8c",
   "metadata": {},
   "source": [
    "En este punto tenemos unicamente dos labels: \n",
    "- **0**, para aquellas imágenes que no representan el dígito 2\n",
    "- **1**, para las imágenes que representan el dígito 2."
   ]
  },
  {
   "cell_type": "markdown",
   "id": "7fe5f54b",
   "metadata": {},
   "source": [
    "### Creación del modelo con Tensorflow y Keras\n",
    "\n",
    "A continuación vamos a definir el modelo de red neuronal para realizar clasificación binaria. Para ello, veamos como es posible crear redes neuronales utilizando el framework Tensorflow.\n",
    "\n",
    "Lo primero que tenemos que hacer es importar el modulo de tensorflow"
   ]
  },
  {
   "cell_type": "code",
   "execution_count": 1,
   "id": "90a42760",
   "metadata": {},
   "outputs": [
    {
     "ename": "ModuleNotFoundError",
     "evalue": "No module named 'tensorflow'",
     "output_type": "error",
     "traceback": [
      "\u001b[31m---------------------------------------------------------------------------\u001b[39m",
      "\u001b[31mModuleNotFoundError\u001b[39m                       Traceback (most recent call last)",
      "\u001b[36mCell\u001b[39m\u001b[36m \u001b[39m\u001b[32mIn[1]\u001b[39m\u001b[32m, line 1\u001b[39m\n\u001b[32m----> \u001b[39m\u001b[32m1\u001b[39m \u001b[38;5;28;01mimport\u001b[39;00m \u001b[34;01mtensorflow\u001b[39;00m \u001b[38;5;28;01mas\u001b[39;00m \u001b[34;01mtf\u001b[39;00m\n\u001b[32m      3\u001b[39m \u001b[38;5;66;03m# Imprimimos la version de tensorflow\u001b[39;00m\n\u001b[32m      4\u001b[39m tf.__version__\n",
      "\u001b[31mModuleNotFoundError\u001b[39m: No module named 'tensorflow'"
     ]
    }
   ],
   "source": [
    "import tensorflow as tf\n",
    "\n",
    "# Imprimimos la version de tensorflow\n",
    "tf.__version__"
   ]
  },
  {
   "cell_type": "markdown",
   "id": "fe8f5229",
   "metadata": {},
   "source": [
    "Antes de crear y entrenar nuestro modelo de red neuronal, es necesario dividir el dataset en un conjunto de entrenamiento y otro de testeo. Esto nos permitirá entrenar el modelo con una parte de los datos y luego evaluar su desempeño con información que no ha visto previamente.\n",
    "\n",
    "### <font color='red'>**Actividad 3:**</font>\n",
    "**a)** Dividir los datos dejando el 80% para entrenamiento y el 20% para testeo. Para ello usamos las variables *X* e *y* creadas anteriormente. Usar las variables **X_train, X_test, y_train, y_test** para almacenar los distintos datasets."
   ]
  },
  {
   "cell_type": "code",
   "execution_count": null,
   "id": "c7b24424",
   "metadata": {},
   "outputs": [],
   "source": [
    "# <<Escriba el codigo aqui>>"
   ]
  },
  {
   "cell_type": "markdown",
   "id": "5dc329dc",
   "metadata": {},
   "source": [
    "En particular vamos a utilizar Keras (tf.keras), que es la API de alto nivel de TensorFlow para construir y entrenar modelos de aprendizaje profundo. \n",
    "\n",
    "Keras provee una serie de clases que nos permiten construir fácilmente redes neuronales en una pocas líneas de código. Veamos algunas de ellas:\n",
    "\n",
    "[Sequential](https://keras.io/api/models/sequential/): Esta clase define una secuencia de layers en la red neuronal. Suele utilizarse como contenedor de toda la red y sus layers internas.\n",
    "\n",
    "[Flatten](https://keras.io/api/layers/reshaping_layers/flatten/): En general las imágenes estan representadas por una matriz de píxeles (en este ejemplo, de 28x28). La clase Flatten simplemente toma esa matriz y la convierte en una matriz unidimensional (1D).\n",
    "\n",
    "[Dense](https://keras.io/api/layers/core_layers/dense/): La clase Dense define la layer más simple de redes neuronales en donde todas las neuronas se conectan con todas las entradas y todas las salidas.\n",
    "\n",
    "Recordemos que cada layer de neuronas necesita una [función de activación](https://keras.io/api/layers/activations/) para decirles qué hacer. Hay muchas opciones, pero por ahora solo usaremos la funcion sigmoidea (**'sigmoid'**).\n",
    " \n",
    "Teniendo este conocimiento básico de Keras, la construcción del modelo se define de la siguiente manera:\n",
    "\n",
    " \n",
    "**model = tf.keras.models.Sequential()**\n",
    "\n",
    "**model.add(layer_1)**\n",
    "\n",
    "**...**\n",
    "\n",
    "**model.add(layer_n)**\n",
    "\n",
    "\n",
    "\n",
    "En general, si se trata de imágenes, la primera layer del modelo es de la clase Flatten. Las siguientes layers suelen ser del tipo Dense, con diferentes cantidades de neuronas. \n",
    "\n",
    "Recordemos que, como en nuestro caso estamos realizando un clasificador binario, necesitamos que la última layer tenga una única neurona.\n",
    "\n",
    "Ahora que sabemos como construir una red neuronal simple con Keras vamos a definir un modelo para nuestro problema.\n",
    "\n",
    "\n",
    "### <font color='red'>**Actividad 4:**</font>\n",
    "**a)** Crear un **modelo de red neuronal con Keras**, usando la clase Sequential. Luego, agregarle **3 layers** distintas: una layer para convertir las imágenes en una matriz 1D, una layer densa con 128 neuronas y una layer de salida también densa con una única neurona.\n",
    " "
   ]
  },
  {
   "cell_type": "code",
   "execution_count": null,
   "id": "218da835",
   "metadata": {},
   "outputs": [],
   "source": [
    "# <<Escriba el codigo aqui>>"
   ]
  },
  {
   "cell_type": "markdown",
   "id": "cafb62be",
   "metadata": {},
   "source": [
    "**b)** Compilar el modelo utilizando el método [.compile()](https://www.tensorflow.org/api_docs/python/tf/keras/Model#compile). La función de costo que vamos a utilizar es **binary_crossentropy** y como métrica sólo **accuracy**."
   ]
  },
  {
   "cell_type": "code",
   "execution_count": null,
   "id": "7a82f5e6",
   "metadata": {},
   "outputs": [],
   "source": [
    "# <<Escriba el codigo aqui>>"
   ]
  },
  {
   "cell_type": "markdown",
   "id": "97336402",
   "metadata": {},
   "source": [
    "**c)** Entrenar el modelo utilizando el método [.fit](https://www.tensorflow.org/api_docs/python/tf/keras/Model#fit), con el dataset de entrenamiento. Setear la cantidad de epochs a 5. \n",
    "\n",
    "**Aclaración:** La cantidad de **epochs** se refiere al paso completo de datos de los entrenamiento a través del modelo. En este ejemplo con 5 pasadas es suficiente."
   ]
  },
  {
   "cell_type": "code",
   "execution_count": null,
   "id": "a42fafb0",
   "metadata": {},
   "outputs": [],
   "source": [
    "# <<Escriba el codigo aqui>>"
   ]
  },
  {
   "cell_type": "markdown",
   "id": "d52d467c",
   "metadata": {},
   "source": [
    "## Evaluación del modelo\n",
    "En este punto, ya tenemos nuestra red neuronal entrenada con los datos de entrenamiento. Ahora queremos evaluar si el modelo aprendió de forma adecuada. Para ello, primero analizaremos su rendimiento sobre los mismos datos con los que fue entrenada y luego observaremos cómo se comporta frente a datos nuevos, es decir, el conjunto de testeo.\n",
    "\n",
    "### Evaluación del modelo con los datos de entrenamiento\n",
    "Primero vamos a evaluar el modelo utilizando los mismos datos con los que fue entrenado (**X_train**). Le mostraremos las características (features) sin las etiquetas reales (labels), para que las prediga, y así podamos observar cómo se desempeña sobre el conjunto de entrenamiento.\n",
    "### <font color='red'>**Actividad 5:**</font>\n",
    "\n",
    "**a)** Generar **predicciones** para el dataset de entrenamiento (**X_train**), utilizando el metodo [.predict()](https://www.tensorflow.org/api_docs/python/tf/keras/Model#predict) y almacenar el resultado en una variable llamada **y_pred**.\n"
   ]
  },
  {
   "cell_type": "code",
   "execution_count": null,
   "id": "7caa0816",
   "metadata": {},
   "outputs": [],
   "source": [
    "# <<Escriba el codigo aqui>>"
   ]
  },
  {
   "cell_type": "markdown",
   "id": "617c44f9",
   "metadata": {},
   "source": [
    "Ahora que tenemos todas las predicciones del dataset de entrenamiento vamos a imprimir las 10 primeras y compararlas con el label real.\n",
    "\n",
    "**Aclaración:** Recordemos que  el método .predict() devuelve la probabilidad de que pertenezca a la clase positiva. En este ejemplo, sera la probabilidad de que la imagen sea efectivamente un 2."
   ]
  },
  {
   "cell_type": "code",
   "execution_count": null,
   "id": "55ad91bf",
   "metadata": {},
   "outputs": [],
   "source": [
    "y_pred = y_pred.flatten()\n",
    "\n",
    "resultado = pd.DataFrame({\n",
    "    'Real': y_train,\n",
    "    'Probabilidad': y_pred,\n",
    "    'Predicción': (y_pred > 0.5).astype(int)\n",
    "})\n",
    "print(resultado.head(10))\n"
   ]
  },
  {
   "cell_type": "markdown",
   "id": "0c53c72f",
   "metadata": {},
   "source": [
    "**b)** Evaluar el modelo en el dataset de entrenamiento utilizando el método [.evaluate()](https://www.tensorflow.org/api_docs/python/tf/keras/Model#evaluate), el cual nos va a decir que tan preciso es el modelo al momento de predecir los labels de los mismos ejemplos con los que fue entrenado.\n",
    "\n",
    "**Aclaración:** Observar que el metodo .evaluate devuelve un vector con dos valores: el error y el accuracy."
   ]
  },
  {
   "cell_type": "code",
   "execution_count": null,
   "id": "7ad944c3",
   "metadata": {},
   "outputs": [],
   "source": [
    "# <<Escriba el codigo aqui>>"
   ]
  },
  {
   "cell_type": "markdown",
   "id": "0dba7f9d",
   "metadata": {},
   "source": [
    "\n",
    "### Evaluación del modelo con los datos de testeo\n",
    "Ahora vamos a evaluar el modelo utilizando datos que no fueron vistos durante el entrenamiento. Para ello, usaremos el conjunto de testeo (X_test). Le proporcionaremos al modelo únicamente las características (features), sin las etiquetas reales (labels), para que las prediga y así podamos analizar su desempeño sobre datos desconocidos.\n",
    "\n",
    "### <font color='red'>**Actividad 6:**</font>\n",
    "**a)** Generar **predicciones** para el dataset de testeo (**X_test**), utilizando el metodo [.predict()](https://www.tensorflow.org/api_docs/python/tf/keras/Model#predict) y almacenar el resultado en una variable llamada **y_pred**."
   ]
  },
  {
   "cell_type": "code",
   "execution_count": null,
   "id": "932175b0",
   "metadata": {},
   "outputs": [],
   "source": [
    "# <<Escriba el codigo aqui>>"
   ]
  },
  {
   "cell_type": "markdown",
   "id": "7d3d6bb6",
   "metadata": {},
   "source": [
    "Ahora que tenemos todas las predicciones del dataset de testeo vamos a imprimir las 10 primeras y compararlas con el label real."
   ]
  },
  {
   "cell_type": "code",
   "execution_count": null,
   "id": "41281d5c",
   "metadata": {},
   "outputs": [],
   "source": [
    "y_pred = y_pred.flatten()\n",
    "\n",
    "resultado = pd.DataFrame({\n",
    "    'Real': y_test,\n",
    "    'Probabilidad': y_pred,\n",
    "    'Predicción': (y_pred > 0.5).astype(int)\n",
    "})\n",
    "print(resultado.head(10))"
   ]
  },
  {
   "cell_type": "markdown",
   "id": "f1ea6425",
   "metadata": {},
   "source": [
    "**b)** Evaluar el modelo en el dataset de testeo utilizando el método [.evaluate()](https://www.tensorflow.org/api_docs/python/tf/keras/Model#evaluate), el cual nos va a decir que tan preciso es el modelo al momento de predecir los labels de ejemplos desconocidos.\n",
    "\n",
    "**Aclaración:** Observar que el metodo .evaluate devuelve un vector con dos valores: el error y el accuracy."
   ]
  },
  {
   "cell_type": "code",
   "execution_count": null,
   "id": "5d5c7970",
   "metadata": {},
   "outputs": [],
   "source": [
    "# <<Escriba el codigo aqui>>"
   ]
  },
  {
   "cell_type": "markdown",
   "id": "f8606168",
   "metadata": {},
   "source": [
    "## Observaciones finales\n",
    "\n",
    "Si todo va bien, en este punro el modelo muestra un muy buen desempeño tanto en el conjunto de entrenamiento como en el de testeo.\n",
    "- **Entrenamiento**: error = 0.036, accuracy ≈ 98.98%\n",
    "- **Testeo**: error = 0.042, accuracy ≈ 98.83%\n",
    "\n",
    "La pequeña diferencia entre ambas métricas sugiere que el modelo generaliza bien y no presenta **overfitting** evidente.\n",
    "\n",
    "Sin embargo, el dataset está **fuertemente desbalanceado** (clase 0: **37823 ejemplos**, clase 1: **solo 4177**).\n",
    "Esto implica que **la métrica de accuracy puede dar una falsa sensación de buen rendimiento**, ya que el modelo podría acertar mayormente por predecir la clase mayoritaria. Para una evaluación más realista, sería recomendable complementar el análisis con métricas como:\n",
    "- **Precision, recall y F1-score**, especialmente para la clase minoritaria.\n",
    "- **Matriz de confusión**, para visualizar los verdaderos positivos y falsos negativos.\n",
    "\n",
    "Además se podría tratar de balancear el dataset para tener más o menos la misma cantidad de ejemplo de la clase positiva como de la negativa."
   ]
  }
 ],
 "metadata": {
  "kernelspec": {
   "display_name": "Python 3 (ipykernel)",
   "language": "python",
   "name": "python3"
  },
  "language_info": {
   "codemirror_mode": {
    "name": "ipython",
    "version": 3
   },
   "file_extension": ".py",
   "mimetype": "text/x-python",
   "name": "python",
   "nbconvert_exporter": "python",
   "pygments_lexer": "ipython3",
   "version": "3.11.9"
  }
 },
 "nbformat": 4,
 "nbformat_minor": 5
}
