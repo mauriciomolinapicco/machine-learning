{
 "cells": [
  {
   "cell_type": "markdown",
   "id": "0a6b98d7",
   "metadata": {},
   "source": [
    "# Módulo 5: Redes Neuronales - Parte I\n",
    "\n",
    "## Reconocimiento de digitos en imágenes\n",
    "\n",
    "En esta actividad vamos a aprender a desarrollar nuestra propia red neuronal para reconocimiento dígitos en imagenes.\n",
    "\n",
    "Para ello, vamos a trabajar con un dataset (digits.csv) que contiene imagenes en escala de grises de **28x28 pixeles** (un total de 784 pixeles). **Cada imagen representa un digito (desde el 0 al 9) escrito a mano**. Cada pixel tiene un valor asociado entre 0 y 255 que indica la luminosidad u oscuridad de dicho pixel (valores mas grandes indican mayor oscuridad).\n",
    "\n",
    "El dataset tiene 785 columnas, en donde la primera columna es el label del dataset y las columnas restantes son los features que indican los valores de cada pixel de la imagen.\n",
    "\n",
    "### Clasificación binaria: ¿Es un 2?\n",
    "La idea es utilizar este dataset para reconocer dígitos que fueron escritos manualmente utilizando una red neuronal simple. \n",
    "\n",
    "En este caso, vamos a reconocer únicamente aquellas imágenes que representen el número 2. Es decir, la idea es hacer una **clasificación binaria** en donde, dada una imagen de un dígito se determine si corresponde con el número 2 o no.\n",
    "\n",
    "En primer lugar, cargamos en memoria el dataset (en un pandas DataFrame), analizamos los labels y observamos algunas imágenes.\n",
    "\n",
    "\n",
    "### <font color='red'>**Actividad 1:**</font>\n",
    "**a)** Escribir en Python un programa para dividir el dataset del archivo digits.csv almacenando los features en una variable llamada **X**  y los labels en una variable llamada **y**."
   ]
  },
  {
   "cell_type": "markdown",
   "id": "c748d52b-4f4c-41c2-a8bc-09e9e5f201ee",
   "metadata": {},
   "source": [
    "-> Suponiendo que el digits.csv contiene como primer columna el valor del label y el resto el valor individual de cada pixel"
   ]
  },
  {
   "cell_type": "code",
   "execution_count": 112,
   "id": "c828b4c1",
   "metadata": {},
   "outputs": [
    {
     "name": "stdout",
     "output_type": "stream",
     "text": [
      "valores de features:\n"
     ]
    },
    {
     "data": {
      "text/html": [
       "<div>\n",
       "<style scoped>\n",
       "    .dataframe tbody tr th:only-of-type {\n",
       "        vertical-align: middle;\n",
       "    }\n",
       "\n",
       "    .dataframe tbody tr th {\n",
       "        vertical-align: top;\n",
       "    }\n",
       "\n",
       "    .dataframe thead th {\n",
       "        text-align: right;\n",
       "    }\n",
       "</style>\n",
       "<table border=\"1\" class=\"dataframe\">\n",
       "  <thead>\n",
       "    <tr style=\"text-align: right;\">\n",
       "      <th></th>\n",
       "      <th>pixel0</th>\n",
       "      <th>pixel1</th>\n",
       "      <th>pixel2</th>\n",
       "      <th>pixel3</th>\n",
       "      <th>pixel4</th>\n",
       "      <th>pixel5</th>\n",
       "      <th>pixel6</th>\n",
       "      <th>pixel7</th>\n",
       "      <th>pixel8</th>\n",
       "      <th>pixel9</th>\n",
       "      <th>...</th>\n",
       "      <th>pixel774</th>\n",
       "      <th>pixel775</th>\n",
       "      <th>pixel776</th>\n",
       "      <th>pixel777</th>\n",
       "      <th>pixel778</th>\n",
       "      <th>pixel779</th>\n",
       "      <th>pixel780</th>\n",
       "      <th>pixel781</th>\n",
       "      <th>pixel782</th>\n",
       "      <th>pixel783</th>\n",
       "    </tr>\n",
       "  </thead>\n",
       "  <tbody>\n",
       "    <tr>\n",
       "      <th>0</th>\n",
       "      <td>165</td>\n",
       "      <td>25</td>\n",
       "      <td>77</td>\n",
       "      <td>72</td>\n",
       "      <td>9</td>\n",
       "      <td>148</td>\n",
       "      <td>115</td>\n",
       "      <td>208</td>\n",
       "      <td>243</td>\n",
       "      <td>197</td>\n",
       "      <td>...</td>\n",
       "      <td>65</td>\n",
       "      <td>192</td>\n",
       "      <td>197</td>\n",
       "      <td>88</td>\n",
       "      <td>34</td>\n",
       "      <td>207</td>\n",
       "      <td>3</td>\n",
       "      <td>188</td>\n",
       "      <td>238</td>\n",
       "      <td>165</td>\n",
       "    </tr>\n",
       "    <tr>\n",
       "      <th>1</th>\n",
       "      <td>171</td>\n",
       "      <td>211</td>\n",
       "      <td>88</td>\n",
       "      <td>70</td>\n",
       "      <td>148</td>\n",
       "      <td>134</td>\n",
       "      <td>28</td>\n",
       "      <td>115</td>\n",
       "      <td>134</td>\n",
       "      <td>66</td>\n",
       "      <td>...</td>\n",
       "      <td>94</td>\n",
       "      <td>215</td>\n",
       "      <td>29</td>\n",
       "      <td>102</td>\n",
       "      <td>123</td>\n",
       "      <td>158</td>\n",
       "      <td>203</td>\n",
       "      <td>194</td>\n",
       "      <td>221</td>\n",
       "      <td>60</td>\n",
       "    </tr>\n",
       "    <tr>\n",
       "      <th>2</th>\n",
       "      <td>135</td>\n",
       "      <td>179</td>\n",
       "      <td>244</td>\n",
       "      <td>73</td>\n",
       "      <td>215</td>\n",
       "      <td>192</td>\n",
       "      <td>240</td>\n",
       "      <td>145</td>\n",
       "      <td>168</td>\n",
       "      <td>243</td>\n",
       "      <td>...</td>\n",
       "      <td>241</td>\n",
       "      <td>106</td>\n",
       "      <td>223</td>\n",
       "      <td>103</td>\n",
       "      <td>11</td>\n",
       "      <td>56</td>\n",
       "      <td>245</td>\n",
       "      <td>191</td>\n",
       "      <td>142</td>\n",
       "      <td>32</td>\n",
       "    </tr>\n",
       "    <tr>\n",
       "      <th>3</th>\n",
       "      <td>193</td>\n",
       "      <td>121</td>\n",
       "      <td>117</td>\n",
       "      <td>65</td>\n",
       "      <td>36</td>\n",
       "      <td>250</td>\n",
       "      <td>25</td>\n",
       "      <td>204</td>\n",
       "      <td>72</td>\n",
       "      <td>50</td>\n",
       "      <td>...</td>\n",
       "      <td>68</td>\n",
       "      <td>123</td>\n",
       "      <td>39</td>\n",
       "      <td>127</td>\n",
       "      <td>207</td>\n",
       "      <td>13</td>\n",
       "      <td>163</td>\n",
       "      <td>230</td>\n",
       "      <td>123</td>\n",
       "      <td>139</td>\n",
       "    </tr>\n",
       "    <tr>\n",
       "      <th>4</th>\n",
       "      <td>103</td>\n",
       "      <td>75</td>\n",
       "      <td>240</td>\n",
       "      <td>54</td>\n",
       "      <td>164</td>\n",
       "      <td>82</td>\n",
       "      <td>203</td>\n",
       "      <td>179</td>\n",
       "      <td>162</td>\n",
       "      <td>186</td>\n",
       "      <td>...</td>\n",
       "      <td>62</td>\n",
       "      <td>62</td>\n",
       "      <td>241</td>\n",
       "      <td>251</td>\n",
       "      <td>78</td>\n",
       "      <td>106</td>\n",
       "      <td>158</td>\n",
       "      <td>91</td>\n",
       "      <td>51</td>\n",
       "      <td>4</td>\n",
       "    </tr>\n",
       "    <tr>\n",
       "      <th>5</th>\n",
       "      <td>196</td>\n",
       "      <td>134</td>\n",
       "      <td>233</td>\n",
       "      <td>41</td>\n",
       "      <td>3</td>\n",
       "      <td>167</td>\n",
       "      <td>236</td>\n",
       "      <td>100</td>\n",
       "      <td>155</td>\n",
       "      <td>141</td>\n",
       "      <td>...</td>\n",
       "      <td>180</td>\n",
       "      <td>171</td>\n",
       "      <td>193</td>\n",
       "      <td>134</td>\n",
       "      <td>28</td>\n",
       "      <td>133</td>\n",
       "      <td>232</td>\n",
       "      <td>74</td>\n",
       "      <td>135</td>\n",
       "      <td>29</td>\n",
       "    </tr>\n",
       "    <tr>\n",
       "      <th>6</th>\n",
       "      <td>100</td>\n",
       "      <td>82</td>\n",
       "      <td>47</td>\n",
       "      <td>188</td>\n",
       "      <td>63</td>\n",
       "      <td>123</td>\n",
       "      <td>194</td>\n",
       "      <td>41</td>\n",
       "      <td>29</td>\n",
       "      <td>96</td>\n",
       "      <td>...</td>\n",
       "      <td>116</td>\n",
       "      <td>3</td>\n",
       "      <td>161</td>\n",
       "      <td>171</td>\n",
       "      <td>89</td>\n",
       "      <td>1</td>\n",
       "      <td>98</td>\n",
       "      <td>184</td>\n",
       "      <td>49</td>\n",
       "      <td>103</td>\n",
       "    </tr>\n",
       "    <tr>\n",
       "      <th>7</th>\n",
       "      <td>40</td>\n",
       "      <td>82</td>\n",
       "      <td>41</td>\n",
       "      <td>54</td>\n",
       "      <td>213</td>\n",
       "      <td>175</td>\n",
       "      <td>92</td>\n",
       "      <td>127</td>\n",
       "      <td>193</td>\n",
       "      <td>41</td>\n",
       "      <td>...</td>\n",
       "      <td>43</td>\n",
       "      <td>205</td>\n",
       "      <td>228</td>\n",
       "      <td>225</td>\n",
       "      <td>204</td>\n",
       "      <td>16</td>\n",
       "      <td>57</td>\n",
       "      <td>5</td>\n",
       "      <td>225</td>\n",
       "      <td>123</td>\n",
       "    </tr>\n",
       "    <tr>\n",
       "      <th>8</th>\n",
       "      <td>223</td>\n",
       "      <td>8</td>\n",
       "      <td>33</td>\n",
       "      <td>54</td>\n",
       "      <td>64</td>\n",
       "      <td>160</td>\n",
       "      <td>223</td>\n",
       "      <td>2</td>\n",
       "      <td>234</td>\n",
       "      <td>155</td>\n",
       "      <td>...</td>\n",
       "      <td>197</td>\n",
       "      <td>37</td>\n",
       "      <td>150</td>\n",
       "      <td>161</td>\n",
       "      <td>18</td>\n",
       "      <td>128</td>\n",
       "      <td>31</td>\n",
       "      <td>236</td>\n",
       "      <td>30</td>\n",
       "      <td>173</td>\n",
       "    </tr>\n",
       "    <tr>\n",
       "      <th>9</th>\n",
       "      <td>130</td>\n",
       "      <td>149</td>\n",
       "      <td>18</td>\n",
       "      <td>80</td>\n",
       "      <td>99</td>\n",
       "      <td>255</td>\n",
       "      <td>12</td>\n",
       "      <td>72</td>\n",
       "      <td>124</td>\n",
       "      <td>218</td>\n",
       "      <td>...</td>\n",
       "      <td>58</td>\n",
       "      <td>155</td>\n",
       "      <td>156</td>\n",
       "      <td>86</td>\n",
       "      <td>68</td>\n",
       "      <td>195</td>\n",
       "      <td>24</td>\n",
       "      <td>231</td>\n",
       "      <td>154</td>\n",
       "      <td>250</td>\n",
       "    </tr>\n",
       "    <tr>\n",
       "      <th>10</th>\n",
       "      <td>137</td>\n",
       "      <td>187</td>\n",
       "      <td>105</td>\n",
       "      <td>244</td>\n",
       "      <td>183</td>\n",
       "      <td>71</td>\n",
       "      <td>84</td>\n",
       "      <td>139</td>\n",
       "      <td>198</td>\n",
       "      <td>92</td>\n",
       "      <td>...</td>\n",
       "      <td>52</td>\n",
       "      <td>99</td>\n",
       "      <td>123</td>\n",
       "      <td>48</td>\n",
       "      <td>30</td>\n",
       "      <td>3</td>\n",
       "      <td>10</td>\n",
       "      <td>32</td>\n",
       "      <td>149</td>\n",
       "      <td>169</td>\n",
       "    </tr>\n",
       "    <tr>\n",
       "      <th>11</th>\n",
       "      <td>122</td>\n",
       "      <td>110</td>\n",
       "      <td>97</td>\n",
       "      <td>146</td>\n",
       "      <td>225</td>\n",
       "      <td>179</td>\n",
       "      <td>204</td>\n",
       "      <td>191</td>\n",
       "      <td>52</td>\n",
       "      <td>194</td>\n",
       "      <td>...</td>\n",
       "      <td>108</td>\n",
       "      <td>206</td>\n",
       "      <td>181</td>\n",
       "      <td>227</td>\n",
       "      <td>248</td>\n",
       "      <td>183</td>\n",
       "      <td>231</td>\n",
       "      <td>170</td>\n",
       "      <td>248</td>\n",
       "      <td>95</td>\n",
       "    </tr>\n",
       "    <tr>\n",
       "      <th>12</th>\n",
       "      <td>43</td>\n",
       "      <td>72</td>\n",
       "      <td>251</td>\n",
       "      <td>150</td>\n",
       "      <td>39</td>\n",
       "      <td>168</td>\n",
       "      <td>34</td>\n",
       "      <td>35</td>\n",
       "      <td>244</td>\n",
       "      <td>228</td>\n",
       "      <td>...</td>\n",
       "      <td>230</td>\n",
       "      <td>230</td>\n",
       "      <td>145</td>\n",
       "      <td>28</td>\n",
       "      <td>43</td>\n",
       "      <td>127</td>\n",
       "      <td>20</td>\n",
       "      <td>108</td>\n",
       "      <td>36</td>\n",
       "      <td>8</td>\n",
       "    </tr>\n",
       "    <tr>\n",
       "      <th>13</th>\n",
       "      <td>47</td>\n",
       "      <td>5</td>\n",
       "      <td>30</td>\n",
       "      <td>188</td>\n",
       "      <td>179</td>\n",
       "      <td>175</td>\n",
       "      <td>51</td>\n",
       "      <td>2</td>\n",
       "      <td>212</td>\n",
       "      <td>88</td>\n",
       "      <td>...</td>\n",
       "      <td>202</td>\n",
       "      <td>7</td>\n",
       "      <td>183</td>\n",
       "      <td>61</td>\n",
       "      <td>72</td>\n",
       "      <td>113</td>\n",
       "      <td>213</td>\n",
       "      <td>182</td>\n",
       "      <td>183</td>\n",
       "      <td>150</td>\n",
       "    </tr>\n",
       "    <tr>\n",
       "      <th>14</th>\n",
       "      <td>15</td>\n",
       "      <td>217</td>\n",
       "      <td>170</td>\n",
       "      <td>33</td>\n",
       "      <td>227</td>\n",
       "      <td>166</td>\n",
       "      <td>117</td>\n",
       "      <td>30</td>\n",
       "      <td>108</td>\n",
       "      <td>41</td>\n",
       "      <td>...</td>\n",
       "      <td>238</td>\n",
       "      <td>149</td>\n",
       "      <td>223</td>\n",
       "      <td>144</td>\n",
       "      <td>52</td>\n",
       "      <td>126</td>\n",
       "      <td>67</td>\n",
       "      <td>45</td>\n",
       "      <td>88</td>\n",
       "      <td>235</td>\n",
       "    </tr>\n",
       "    <tr>\n",
       "      <th>15</th>\n",
       "      <td>37</td>\n",
       "      <td>118</td>\n",
       "      <td>85</td>\n",
       "      <td>213</td>\n",
       "      <td>11</td>\n",
       "      <td>42</td>\n",
       "      <td>252</td>\n",
       "      <td>47</td>\n",
       "      <td>176</td>\n",
       "      <td>13</td>\n",
       "      <td>...</td>\n",
       "      <td>141</td>\n",
       "      <td>37</td>\n",
       "      <td>84</td>\n",
       "      <td>107</td>\n",
       "      <td>30</td>\n",
       "      <td>188</td>\n",
       "      <td>57</td>\n",
       "      <td>251</td>\n",
       "      <td>130</td>\n",
       "      <td>165</td>\n",
       "    </tr>\n",
       "    <tr>\n",
       "      <th>16</th>\n",
       "      <td>180</td>\n",
       "      <td>150</td>\n",
       "      <td>93</td>\n",
       "      <td>84</td>\n",
       "      <td>65</td>\n",
       "      <td>41</td>\n",
       "      <td>120</td>\n",
       "      <td>86</td>\n",
       "      <td>182</td>\n",
       "      <td>199</td>\n",
       "      <td>...</td>\n",
       "      <td>159</td>\n",
       "      <td>104</td>\n",
       "      <td>125</td>\n",
       "      <td>65</td>\n",
       "      <td>104</td>\n",
       "      <td>223</td>\n",
       "      <td>224</td>\n",
       "      <td>146</td>\n",
       "      <td>232</td>\n",
       "      <td>30</td>\n",
       "    </tr>\n",
       "    <tr>\n",
       "      <th>17</th>\n",
       "      <td>14</td>\n",
       "      <td>213</td>\n",
       "      <td>223</td>\n",
       "      <td>160</td>\n",
       "      <td>139</td>\n",
       "      <td>102</td>\n",
       "      <td>236</td>\n",
       "      <td>78</td>\n",
       "      <td>15</td>\n",
       "      <td>135</td>\n",
       "      <td>...</td>\n",
       "      <td>134</td>\n",
       "      <td>251</td>\n",
       "      <td>122</td>\n",
       "      <td>21</td>\n",
       "      <td>165</td>\n",
       "      <td>210</td>\n",
       "      <td>80</td>\n",
       "      <td>198</td>\n",
       "      <td>207</td>\n",
       "      <td>111</td>\n",
       "    </tr>\n",
       "    <tr>\n",
       "      <th>18</th>\n",
       "      <td>166</td>\n",
       "      <td>105</td>\n",
       "      <td>77</td>\n",
       "      <td>185</td>\n",
       "      <td>20</td>\n",
       "      <td>1</td>\n",
       "      <td>176</td>\n",
       "      <td>174</td>\n",
       "      <td>53</td>\n",
       "      <td>30</td>\n",
       "      <td>...</td>\n",
       "      <td>152</td>\n",
       "      <td>33</td>\n",
       "      <td>178</td>\n",
       "      <td>208</td>\n",
       "      <td>123</td>\n",
       "      <td>73</td>\n",
       "      <td>28</td>\n",
       "      <td>78</td>\n",
       "      <td>158</td>\n",
       "      <td>173</td>\n",
       "    </tr>\n",
       "    <tr>\n",
       "      <th>19</th>\n",
       "      <td>202</td>\n",
       "      <td>225</td>\n",
       "      <td>156</td>\n",
       "      <td>191</td>\n",
       "      <td>61</td>\n",
       "      <td>198</td>\n",
       "      <td>168</td>\n",
       "      <td>198</td>\n",
       "      <td>232</td>\n",
       "      <td>213</td>\n",
       "      <td>...</td>\n",
       "      <td>113</td>\n",
       "      <td>254</td>\n",
       "      <td>53</td>\n",
       "      <td>193</td>\n",
       "      <td>103</td>\n",
       "      <td>85</td>\n",
       "      <td>54</td>\n",
       "      <td>173</td>\n",
       "      <td>92</td>\n",
       "      <td>199</td>\n",
       "    </tr>\n",
       "  </tbody>\n",
       "</table>\n",
       "<p>20 rows × 784 columns</p>\n",
       "</div>"
      ],
      "text/plain": [
       "    pixel0  pixel1  pixel2  pixel3  pixel4  pixel5  pixel6  pixel7  pixel8  \\\n",
       "0      165      25      77      72       9     148     115     208     243   \n",
       "1      171     211      88      70     148     134      28     115     134   \n",
       "2      135     179     244      73     215     192     240     145     168   \n",
       "3      193     121     117      65      36     250      25     204      72   \n",
       "4      103      75     240      54     164      82     203     179     162   \n",
       "5      196     134     233      41       3     167     236     100     155   \n",
       "6      100      82      47     188      63     123     194      41      29   \n",
       "7       40      82      41      54     213     175      92     127     193   \n",
       "8      223       8      33      54      64     160     223       2     234   \n",
       "9      130     149      18      80      99     255      12      72     124   \n",
       "10     137     187     105     244     183      71      84     139     198   \n",
       "11     122     110      97     146     225     179     204     191      52   \n",
       "12      43      72     251     150      39     168      34      35     244   \n",
       "13      47       5      30     188     179     175      51       2     212   \n",
       "14      15     217     170      33     227     166     117      30     108   \n",
       "15      37     118      85     213      11      42     252      47     176   \n",
       "16     180     150      93      84      65      41     120      86     182   \n",
       "17      14     213     223     160     139     102     236      78      15   \n",
       "18     166     105      77     185      20       1     176     174      53   \n",
       "19     202     225     156     191      61     198     168     198     232   \n",
       "\n",
       "    pixel9  ...  pixel774  pixel775  pixel776  pixel777  pixel778  pixel779  \\\n",
       "0      197  ...        65       192       197        88        34       207   \n",
       "1       66  ...        94       215        29       102       123       158   \n",
       "2      243  ...       241       106       223       103        11        56   \n",
       "3       50  ...        68       123        39       127       207        13   \n",
       "4      186  ...        62        62       241       251        78       106   \n",
       "5      141  ...       180       171       193       134        28       133   \n",
       "6       96  ...       116         3       161       171        89         1   \n",
       "7       41  ...        43       205       228       225       204        16   \n",
       "8      155  ...       197        37       150       161        18       128   \n",
       "9      218  ...        58       155       156        86        68       195   \n",
       "10      92  ...        52        99       123        48        30         3   \n",
       "11     194  ...       108       206       181       227       248       183   \n",
       "12     228  ...       230       230       145        28        43       127   \n",
       "13      88  ...       202         7       183        61        72       113   \n",
       "14      41  ...       238       149       223       144        52       126   \n",
       "15      13  ...       141        37        84       107        30       188   \n",
       "16     199  ...       159       104       125        65       104       223   \n",
       "17     135  ...       134       251       122        21       165       210   \n",
       "18      30  ...       152        33       178       208       123        73   \n",
       "19     213  ...       113       254        53       193       103        85   \n",
       "\n",
       "    pixel780  pixel781  pixel782  pixel783  \n",
       "0          3       188       238       165  \n",
       "1        203       194       221        60  \n",
       "2        245       191       142        32  \n",
       "3        163       230       123       139  \n",
       "4        158        91        51         4  \n",
       "5        232        74       135        29  \n",
       "6         98       184        49       103  \n",
       "7         57         5       225       123  \n",
       "8         31       236        30       173  \n",
       "9         24       231       154       250  \n",
       "10        10        32       149       169  \n",
       "11       231       170       248        95  \n",
       "12        20       108        36         8  \n",
       "13       213       182       183       150  \n",
       "14        67        45        88       235  \n",
       "15        57       251       130       165  \n",
       "16       224       146       232        30  \n",
       "17        80       198       207       111  \n",
       "18        28        78       158       173  \n",
       "19        54       173        92       199  \n",
       "\n",
       "[20 rows x 784 columns]"
      ]
     },
     "execution_count": 112,
     "metadata": {},
     "output_type": "execute_result"
    }
   ],
   "source": [
    "import pandas as pd\n",
    "\n",
    "df = pd.read_csv(\"digits.csv\")\n",
    "\n",
    "y = df.iloc[:,0] #primera columna\n",
    "X = df.iloc[:, 1:] #todas menos la 1ra\n",
    "\n",
    "print(\"valores de features:\")\n",
    "X\n"
   ]
  },
  {
   "cell_type": "code",
   "execution_count": 113,
   "id": "d89047c6-dcbf-41e4-a3b8-53205aa4d969",
   "metadata": {},
   "outputs": [
    {
     "name": "stdout",
     "output_type": "stream",
     "text": [
      "valores de labels:\n"
     ]
    },
    {
     "data": {
      "text/plain": [
       "0     5\n",
       "1     0\n",
       "2     3\n",
       "3     3\n",
       "4     7\n",
       "5     9\n",
       "6     3\n",
       "7     5\n",
       "8     2\n",
       "9     2\n",
       "10    2\n",
       "11    6\n",
       "12    8\n",
       "13    8\n",
       "14    1\n",
       "15    6\n",
       "16    2\n",
       "17    7\n",
       "18    8\n",
       "19    1\n",
       "Name: label, dtype: int64"
      ]
     },
     "execution_count": 113,
     "metadata": {},
     "output_type": "execute_result"
    }
   ],
   "source": [
    "print(\"valores de labels:\")\n",
    "y"
   ]
  },
  {
   "cell_type": "markdown",
   "id": "fb5cf506",
   "metadata": {},
   "source": [
    "**b)** Observar la cantidad de ejemplos por cada label, analizando la variable **y**."
   ]
  },
  {
   "cell_type": "code",
   "execution_count": 114,
   "id": "fde0f631",
   "metadata": {},
   "outputs": [
    {
     "name": "stdout",
     "output_type": "stream",
     "text": [
      "Cantidad de ejemplos: 20\n"
     ]
    }
   ],
   "source": [
    "# shape nos tira la dimension del array en una tupla como (nro_filas, nro_columnas). Tomamos el primer valor\n",
    "cant = y.shape[0]\n",
    "print(f\"Cantidad de ejemplos: {cant}\")"
   ]
  },
  {
   "cell_type": "markdown",
   "id": "fa83a0c0",
   "metadata": {},
   "source": [
    "### Visualización de imágenes del dataset\n",
    "Las imagenes (28px x 28px) fueron cargadas en memoria en un pandas Dataframe que representa un vector de una única dimensión (1D) con 784 valores, cada una representada por un pandas Series. Para imprimir y visualizar, como así tambien para crear una red neuronal que las lea debemos reformatear esta estructura y convertirla en una matriz (array) de 3 dimensiones (3D) de 28x28x1. Para ello utilizamos el metodo .reshape():\n",
    "\n",
    "X = X.values.reshape(-1,28,28,1)\n",
    "\n",
    "**Aclaración:** el primer parámetro de reshape, que se encuentra en -1, toma por defecto la dimensión del array (formado por X.values que contiene todos los valores del DataFrame en un array de 2 dimensiones). (Ver [documentación](https://numpy.org/doc/stable/reference/generated/numpy.reshape.html#numpy-reshape) para más info) \n",
    "\n",
    "Tensorflow y Keras requieren una dimensión extra al final que se corresponde con los canales de colores. En este caso, las imagenes del dataset se encuentran en la escala de grises con lo cual utilizaremos un único canal (para imagenes RGB se usan 3 canales)."
   ]
  },
  {
   "cell_type": "code",
   "execution_count": 115,
   "id": "391e9537",
   "metadata": {},
   "outputs": [],
   "source": [
    "#ya habia hecho .values antes entonces no necesito hacerlo de vuelta\n",
    "X = X.values.reshape(-1,28,28,1)"
   ]
  },
  {
   "cell_type": "markdown",
   "id": "1d27965e",
   "metadata": {},
   "source": [
    "A continuación observemos dos imágenes distintas y sus labels."
   ]
  },
  {
   "cell_type": "code",
   "execution_count": 116,
   "id": "e336297e",
   "metadata": {},
   "outputs": [
    {
     "name": "stdout",
     "output_type": "stream",
     "text": [
      "LABEL: 5\n"
     ]
    },
    {
     "data": {
      "image/png": "[encoded data removed]",
      "text/plain": [
       "<Figure size 640x480 with 1 Axes>"
      ]
     },
     "metadata": {},
     "output_type": "display_data"
    }
   ],
   "source": [
    "import matplotlib.pyplot as plt\n",
    "\n",
    "g1 = plt.imshow(X[0][:,:,0])\n",
    "print(\"LABEL:\", y[0])\n",
    "\n",
    "#a los digitos los cree aleatoriamente entonces no se parece un dos aunque el label lo diga"
   ]
  },
  {
   "cell_type": "code",
   "execution_count": 117,
   "id": "a9db9860",
   "metadata": {},
   "outputs": [
    {
     "name": "stdout",
     "output_type": "stream",
     "text": [
      "LABEL: 0\n"
     ]
    },
    {
     "data": {
      "image/png": "[encoded data removed]",
      "text/plain": [
       "<Figure size 640x480 with 1 Axes>"
      ]
     },
     "metadata": {},
     "output_type": "display_data"
    }
   ],
   "source": [
    "plt.imshow(X[1][:,:,0])\n",
    "print(\"LABEL:\", y[1])"
   ]
  },
  {
   "cell_type": "markdown",
   "id": "7d9829f5",
   "metadata": {},
   "source": [
    "### Redefinición de los Labels\n",
    "Como lo que queremos hacer es un clasificador binario que unicamente detecte imagenes con el valor 2, tenemos que modificar los labels para tener unicamente dos valores y=1, cuando la imagen representa un 2 e y=0, cuando la imagen representa cualquier otro digito.\n",
    "\n",
    "Para ello hacemos uso del potencial de pandas, que nos permite modificar valores de columnas facilmente utilizando condiciones y filtros. Por ejemplo, si quisieramos cambiar el valor de todos los labels que se corresponden con el digito 9 por un valor igual a -1, podemos hacer:\n",
    "\n",
    "**y.loc[y == 9] = -1**\n",
    "\n",
    "Esta linea de codigo buscaria en la variable **y** (que es una pandas Series) todas aquellas filas que contienen el valor 9 y los reemplazaria con un valor igual a -1.\n",
    "\n",
    "De esta misma forma, podremos modificar nuestro dataset para que contenga dos valores y=1, para todos los labels igual a 2 e y=0 para todos los labels distintos de 2.\n",
    "\n",
    "### <font color='red'>**Actividad 2:**</font>\n",
    "**a)** Modificar los valores de **y** para que sólo contenga los labels y=1 e y=0.\n"
   ]
  },
  {
   "cell_type": "code",
   "execution_count": 118,
   "id": "688c5c62-fd7f-4d18-a57c-a529e89bac00",
   "metadata": {},
   "outputs": [
    {
     "data": {
      "text/plain": [
       "0     5\n",
       "1     0\n",
       "2     3\n",
       "3     3\n",
       "4     7\n",
       "5     9\n",
       "6     3\n",
       "7     5\n",
       "8     2\n",
       "9     2\n",
       "10    2\n",
       "11    6\n",
       "12    8\n",
       "13    8\n",
       "14    1\n",
       "15    6\n",
       "16    2\n",
       "17    7\n",
       "18    8\n",
       "19    1\n",
       "Name: label, dtype: int64"
      ]
     },
     "execution_count": 118,
     "metadata": {},
     "output_type": "execute_result"
    }
   ],
   "source": [
    "y"
   ]
  },
  {
   "cell_type": "code",
   "execution_count": 119,
   "id": "e5fcc5b8",
   "metadata": {},
   "outputs": [
    {
     "data": {
      "text/plain": [
       "0     0\n",
       "1     0\n",
       "2     0\n",
       "3     0\n",
       "4     0\n",
       "5     0\n",
       "6     0\n",
       "7     0\n",
       "8     1\n",
       "9     1\n",
       "10    1\n",
       "11    0\n",
       "12    0\n",
       "13    0\n",
       "14    0\n",
       "15    0\n",
       "16    1\n",
       "17    0\n",
       "18    0\n",
       "19    0\n",
       "Name: label, dtype: int64"
      ]
     },
     "execution_count": 119,
     "metadata": {},
     "output_type": "execute_result"
    }
   ],
   "source": [
    "y.loc[y!=2] = 0\n",
    "y.loc[y!=0] = 1 #todo lo que no quedo en 0 lo transformo en 2\n",
    "y"
   ]
  },
  {
   "cell_type": "markdown",
   "id": "f5f85502-0f9a-46d8-834c-41fbadca6f88",
   "metadata": {},
   "source": [
    "### Importante: no correr la celda anterior mas de una vez sino todos los datos se convierten en 0"
   ]
  },
  {
   "cell_type": "markdown",
   "id": "b83657fd",
   "metadata": {},
   "source": [
    "**b)** Observar la **cantidad de ejemplos por cada label**, analizando la variable **y**."
   ]
  },
  {
   "cell_type": "code",
   "execution_count": 120,
   "id": "3a482315",
   "metadata": {},
   "outputs": [
    {
     "name": "stdout",
     "output_type": "stream",
     "text": [
      "Cantidad de ejemplos: label\n",
      "0    16\n",
      "1     4\n",
      "Name: count, dtype: int64\n"
     ]
    }
   ],
   "source": [
    "cant = y.value_counts()\n",
    "print(f\"Cantidad de ejemplos: {cant}\")"
   ]
  },
  {
   "cell_type": "markdown",
   "id": "535aa7e0",
   "metadata": {},
   "source": [
    "Como vimos anteriormente, para los algoritmos de ML en general suele ser mejor normalizar los datos para que el proceso de aprendizaje sea más efectivo y eficiente.\n",
    "\n",
    "Para ello normalizamos dividiendo por 255 todos los valores de pixeles que se encuentran en la variable X"
   ]
  },
  {
   "cell_type": "code",
   "execution_count": 121,
   "id": "4374b6dc",
   "metadata": {},
   "outputs": [],
   "source": [
    "X = X / 255.0"
   ]
  },
  {
   "cell_type": "markdown",
   "id": "fb164b8c",
   "metadata": {},
   "source": [
    "En este punto tenemos unicamente dos labels: \n",
    "- **0**, para aquellas imágenes que no representan el dígito 2\n",
    "- **1**, para las imágenes que representan el dígito 2."
   ]
  },
  {
   "cell_type": "markdown",
   "id": "7fe5f54b",
   "metadata": {},
   "source": [
    "### Creación del modelo con Tensorflow y Keras\n",
    "\n",
    "A continuación vamos a definir el modelo de red neuronal para realizar clasificación binaria. Para ello, veamos como es posible crear redes neuronales utilizando el framework Tensorflow.\n",
    "\n",
    "Lo primero que tenemos que hacer es importar el modulo de tensorflow"
   ]
  },
  {
   "cell_type": "code",
   "execution_count": 122,
   "id": "90a42760",
   "metadata": {},
   "outputs": [
    {
     "data": {
      "text/plain": [
       "'2.20.0'"
      ]
     },
     "execution_count": 122,
     "metadata": {},
     "output_type": "execute_result"
    }
   ],
   "source": [
    "import tensorflow as tf\n",
    "\n",
    "# Imprimimos la version de tensorflow\n",
    "tf.__version__"
   ]
  },
  {
   "cell_type": "markdown",
   "id": "fe8f5229",
   "metadata": {},
   "source": [
    "Antes de crear y entrenar nuestro modelo de red neuronal, es necesario dividir el dataset en un conjunto de entrenamiento y otro de testeo. Esto nos permitirá entrenar el modelo con una parte de los datos y luego evaluar su desempeño con información que no ha visto previamente.\n",
    "\n",
    "### <font color='red'>**Actividad 3:**</font>\n",
    "**a)** Dividir los datos dejando el 80% para entrenamiento y el 20% para testeo. Para ello usamos las variables *X* e *y* creadas anteriormente. Usar las variables **X_train, X_test, y_train, y_test** para almacenar los distintos datasets."
   ]
  },
  {
   "cell_type": "code",
   "execution_count": 125,
   "id": "c7b24424",
   "metadata": {},
   "outputs": [
    {
     "name": "stdout",
     "output_type": "stream",
     "text": [
      "X_train: (16, 28, 28, 1)\n",
      "X_test: (4, 28, 28, 1)\n",
      "y_train: (16,)\n",
      "y_test: (4,)\n"
     ]
    }
   ],
   "source": [
    "from sklearn.model_selection import train_test_split\n",
    "\n",
    "X_train, X_test, y_train, y_test = train_test_split(\n",
    "    X, y, test_size=0.2, random_state=42, stratify=y\n",
    "    #random state es una semilla de randoms (reproducible en futuras ocasiones)\n",
    "    #stratify mantiene la proporcion de clases de entrenamiento y test\n",
    ")\n",
    "\n",
    "print(\"X_train:\", X_train.shape)\n",
    "print(\"X_test:\", X_test.shape)\n",
    "print(\"y_train:\", y_train.shape)\n",
    "print(\"y_test:\", y_test.shape)\n"
   ]
  },
  {
   "cell_type": "markdown",
   "id": "5dc329dc",
   "metadata": {},
   "source": [
    "En particular vamos a utilizar Keras (tf.keras), que es la API de alto nivel de TensorFlow para construir y entrenar modelos de aprendizaje profundo. \n",
    "\n",
    "Keras provee una serie de clases que nos permiten construir fácilmente redes neuronales en una pocas líneas de código. Veamos algunas de ellas:\n",
    "\n",
    "[Sequential](https://keras.io/api/models/sequential/): Esta clase define una secuencia de layers en la red neuronal. Suele utilizarse como contenedor de toda la red y sus layers internas.\n",
    "\n",
    "[Flatten](https://keras.io/api/layers/reshaping_layers/flatten/): En general las imágenes estan representadas por una matriz de píxeles (en este ejemplo, de 28x28). La clase Flatten simplemente toma esa matriz y la convierte en una matriz unidimensional (1D).\n",
    "\n",
    "[Dense](https://keras.io/api/layers/core_layers/dense/): La clase Dense define la layer más simple de redes neuronales en donde todas las neuronas se conectan con todas las entradas y todas las salidas.\n",
    "\n",
    "Recordemos que cada layer de neuronas necesita una [función de activación](https://keras.io/api/layers/activations/) para decirles qué hacer. Hay muchas opciones, pero por ahora solo usaremos la funcion sigmoidea (**'sigmoid'**).\n",
    " \n",
    "Teniendo este conocimiento básico de Keras, la construcción del modelo se define de la siguiente manera:\n",
    "\n",
    " \n",
    "**model = tf.keras.models.Sequential()**\n",
    "\n",
    "**model.add(layer_1)**\n",
    "\n",
    "**...**\n",
    "\n",
    "**model.add(layer_n)**\n",
    "\n",
    "\n",
    "\n",
    "En general, si se trata de imágenes, la primera layer del modelo es de la clase Flatten. Las siguientes layers suelen ser del tipo Dense, con diferentes cantidades de neuronas. \n",
    "\n",
    "Recordemos que, como en nuestro caso estamos realizando un clasificador binario, necesitamos que la última layer tenga una única neurona.\n",
    "\n",
    "Ahora que sabemos como construir una red neuronal simple con Keras vamos a definir un modelo para nuestro problema.\n",
    "\n",
    "\n",
    "### <font color='red'>**Actividad 4:**</font>\n",
    "**a)** Crear un **modelo de red neuronal con Keras**, usando la clase Sequential. Luego, agregarle **3 layers** distintas: una layer para convertir las imágenes en una matriz 1D, una layer densa con 128 neuronas y una layer de salida también densa con una única neurona.\n",
    " "
   ]
  },
  {
   "cell_type": "code",
   "execution_count": 134,
   "id": "218da835",
   "metadata": {},
   "outputs": [
    {
     "data": {
      "text/html": [
       "<pre style=\"white-space:pre;overflow-x:auto;line-height:normal;font-family:Menlo,'DejaVu Sans Mono',consolas,'Courier New',monospace\"><span style=\"font-weight: bold\">Model: \"sequential_8\"</span>\n",
       "</pre>\n"
      ],
      "text/plain": [
       "\u001b[1mModel: \"sequential_8\"\u001b[0m\n"
      ]
     },
     "metadata": {},
     "output_type": "display_data"
    },
    {
     "data": {
      "text/html": [
       "<pre style=\"white-space:pre;overflow-x:auto;line-height:normal;font-family:Menlo,'DejaVu Sans Mono',consolas,'Courier New',monospace\">┏━━━━━━━━━━━━━━━━━━━━━━━━━━━━━━━━━━━━━━┳━━━━━━━━━━━━━━━━━━━━━━━━━━━━━┳━━━━━━━━━━━━━━━━━┓\n",
       "┃<span style=\"font-weight: bold\"> Layer (type)                         </span>┃<span style=\"font-weight: bold\"> Output Shape                </span>┃<span style=\"font-weight: bold\">         Param # </span>┃\n",
       "┡━━━━━━━━━━━━━━━━━━━━━━━━━━━━━━━━━━━━━━╇━━━━━━━━━━━━━━━━━━━━━━━━━━━━━╇━━━━━━━━━━━━━━━━━┩\n",
       "│ flatten_6 (<span style=\"color: #0087ff; text-decoration-color: #0087ff\">Flatten</span>)                  │ (<span style=\"color: #00d7ff; text-decoration-color: #00d7ff\">None</span>, <span style=\"color: #00af00; text-decoration-color: #00af00\">784</span>)                 │               <span style=\"color: #00af00; text-decoration-color: #00af00\">0</span> │\n",
       "├──────────────────────────────────────┼─────────────────────────────┼─────────────────┤\n",
       "│ dense_8 (<span style=\"color: #0087ff; text-decoration-color: #0087ff\">Dense</span>)                      │ (<span style=\"color: #00d7ff; text-decoration-color: #00d7ff\">None</span>, <span style=\"color: #00af00; text-decoration-color: #00af00\">64</span>)                  │          <span style=\"color: #00af00; text-decoration-color: #00af00\">50,240</span> │\n",
       "├──────────────────────────────────────┼─────────────────────────────┼─────────────────┤\n",
       "│ dense_9 (<span style=\"color: #0087ff; text-decoration-color: #0087ff\">Dense</span>)                      │ (<span style=\"color: #00d7ff; text-decoration-color: #00d7ff\">None</span>, <span style=\"color: #00af00; text-decoration-color: #00af00\">1</span>)                   │              <span style=\"color: #00af00; text-decoration-color: #00af00\">65</span> │\n",
       "└──────────────────────────────────────┴─────────────────────────────┴─────────────────┘\n",
       "</pre>\n"
      ],
      "text/plain": [
       "┏━━━━━━━━━━━━━━━━━━━━━━━━━━━━━━━━━━━━━━┳━━━━━━━━━━━━━━━━━━━━━━━━━━━━━┳━━━━━━━━━━━━━━━━━┓\n",
       "┃\u001b[1m \u001b[0m\u001b[1mLayer (type)                        \u001b[0m\u001b[1m \u001b[0m┃\u001b[1m \u001b[0m\u001b[1mOutput Shape               \u001b[0m\u001b[1m \u001b[0m┃\u001b[1m \u001b[0m\u001b[1m        Param #\u001b[0m\u001b[1m \u001b[0m┃\n",
       "┡━━━━━━━━━━━━━━━━━━━━━━━━━━━━━━━━━━━━━━╇━━━━━━━━━━━━━━━━━━━━━━━━━━━━━╇━━━━━━━━━━━━━━━━━┩\n",
       "│ flatten_6 (\u001b[38;5;33mFlatten\u001b[0m)                  │ (\u001b[38;5;45mNone\u001b[0m, \u001b[38;5;34m784\u001b[0m)                 │               \u001b[38;5;34m0\u001b[0m │\n",
       "├──────────────────────────────────────┼─────────────────────────────┼─────────────────┤\n",
       "│ dense_8 (\u001b[38;5;33mDense\u001b[0m)                      │ (\u001b[38;5;45mNone\u001b[0m, \u001b[38;5;34m64\u001b[0m)                  │          \u001b[38;5;34m50,240\u001b[0m │\n",
       "├──────────────────────────────────────┼─────────────────────────────┼─────────────────┤\n",
       "│ dense_9 (\u001b[38;5;33mDense\u001b[0m)                      │ (\u001b[38;5;45mNone\u001b[0m, \u001b[38;5;34m1\u001b[0m)                   │              \u001b[38;5;34m65\u001b[0m │\n",
       "└──────────────────────────────────────┴─────────────────────────────┴─────────────────┘\n"
      ]
     },
     "metadata": {},
     "output_type": "display_data"
    },
    {
     "data": {
      "text/html": [
       "<pre style=\"white-space:pre;overflow-x:auto;line-height:normal;font-family:Menlo,'DejaVu Sans Mono',consolas,'Courier New',monospace\"><span style=\"font-weight: bold\"> Total params: </span><span style=\"color: #00af00; text-decoration-color: #00af00\">50,305</span> (196.50 KB)\n",
       "</pre>\n"
      ],
      "text/plain": [
       "\u001b[1m Total params: \u001b[0m\u001b[38;5;34m50,305\u001b[0m (196.50 KB)\n"
      ]
     },
     "metadata": {},
     "output_type": "display_data"
    },
    {
     "data": {
      "text/html": [
       "<pre style=\"white-space:pre;overflow-x:auto;line-height:normal;font-family:Menlo,'DejaVu Sans Mono',consolas,'Courier New',monospace\"><span style=\"font-weight: bold\"> Trainable params: </span><span style=\"color: #00af00; text-decoration-color: #00af00\">50,305</span> (196.50 KB)\n",
       "</pre>\n"
      ],
      "text/plain": [
       "\u001b[1m Trainable params: \u001b[0m\u001b[38;5;34m50,305\u001b[0m (196.50 KB)\n"
      ]
     },
     "metadata": {},
     "output_type": "display_data"
    },
    {
     "data": {
      "text/html": [
       "<pre style=\"white-space:pre;overflow-x:auto;line-height:normal;font-family:Menlo,'DejaVu Sans Mono',consolas,'Courier New',monospace\"><span style=\"font-weight: bold\"> Non-trainable params: </span><span style=\"color: #00af00; text-decoration-color: #00af00\">0</span> (0.00 B)\n",
       "</pre>\n"
      ],
      "text/plain": [
       "\u001b[1m Non-trainable params: \u001b[0m\u001b[38;5;34m0\u001b[0m (0.00 B)\n"
      ]
     },
     "metadata": {},
     "output_type": "display_data"
    }
   ],
   "source": [
    "#Creamos el modelo\n",
    "modelo = tf.keras.Sequential()\n",
    "\n",
    "#primera capa flatten que convierte la imagen a un vector 1D\n",
    "modelo.add(tf.keras.layers.Flatten(input_shape=(28,28,1)))\n",
    "\n",
    "#layer dense (todas las neuronas de entradas se conectan con todas las de salida) con 64 neuronas\n",
    "modelo.add(tf.keras.layers.Dense(64, activation=\"sigmoid\")) \n",
    "#leyendo en documentacion vimos que no es tan recomendable usar funcion sigmoidea de activacion en capas ocultas\n",
    "#pero en la consigna especifica que sea de esa forma\n",
    "\n",
    "#layer de salida -> clasificador binario por eso tiene una neurona\n",
    "modelo.add(tf.keras.layers.Dense(1, activation=\"sigmoid\"))\n",
    "\n",
    "#muestra un cuadrito visual\n",
    "modelo.summary()\n"
   ]
  },
  {
   "cell_type": "markdown",
   "id": "cafb62be",
   "metadata": {},
   "source": [
    "**b)** Compilar el modelo utilizando el método [.compile()](https://www.tensorflow.org/api_docs/python/tf/keras/Model#compile). La función de costo que vamos a utilizar es **binary_crossentropy** y como métrica sólo **accuracy**."
   ]
  },
  {
   "cell_type": "code",
   "execution_count": 135,
   "id": "7a82f5e6",
   "metadata": {},
   "outputs": [],
   "source": [
    "modelo.compile(\n",
    "    optimizer='adam', # este algoritmo ajusta automaticamente los pesos de la red\n",
    "    loss='binary_crossentropy', # funcion de perdida -> para clasificacion binaria mide la probabilidad de ser 0 o 1\n",
    "    metrics=['accuracy'] #monitorear el % de predicciones correctas\n",
    ")"
   ]
  },
  {
   "cell_type": "markdown",
   "id": "97336402",
   "metadata": {},
   "source": [
    "**c)** Entrenar el modelo utilizando el método [.fit](https://www.tensorflow.org/api_docs/python/tf/keras/Model#fit), con el dataset de entrenamiento. Setear la cantidad de epochs a 5. \n",
    "\n",
    "**Aclaración:** La cantidad de **epochs** se refiere al paso completo de datos de los entrenamiento a través del modelo. En este ejemplo con 5 pasadas es suficiente."
   ]
  },
  {
   "cell_type": "code",
   "execution_count": 138,
   "id": "a42fafb0",
   "metadata": {},
   "outputs": [
    {
     "name": "stdout",
     "output_type": "stream",
     "text": [
      "Epoch 1/5\n",
      "\u001b[1m1/1\u001b[0m \u001b[32m━━━━━━━━━━━━━━━━━━━━\u001b[0m\u001b[37m\u001b[0m \u001b[1m0s\u001b[0m 45ms/step - accuracy: 0.8125 - loss: 0.5244\n",
      "Epoch 2/5\n",
      "\u001b[1m1/1\u001b[0m \u001b[32m━━━━━━━━━━━━━━━━━━━━\u001b[0m\u001b[37m\u001b[0m \u001b[1m0s\u001b[0m 39ms/step - accuracy: 0.8125 - loss: 0.5058\n",
      "Epoch 3/5\n",
      "\u001b[1m1/1\u001b[0m \u001b[32m━━━━━━━━━━━━━━━━━━━━\u001b[0m\u001b[37m\u001b[0m \u001b[1m0s\u001b[0m 39ms/step - accuracy: 0.8125 - loss: 0.4834\n",
      "Epoch 4/5\n",
      "\u001b[1m1/1\u001b[0m \u001b[32m━━━━━━━━━━━━━━━━━━━━\u001b[0m\u001b[37m\u001b[0m \u001b[1m0s\u001b[0m 39ms/step - accuracy: 0.8125 - loss: 0.4586\n",
      "Epoch 5/5\n",
      "\u001b[1m1/1\u001b[0m \u001b[32m━━━━━━━━━━━━━━━━━━━━\u001b[0m\u001b[37m\u001b[0m \u001b[1m0s\u001b[0m 40ms/step - accuracy: 0.8125 - loss: 0.4331\n"
     ]
    },
    {
     "data": {
      "text/plain": [
       "<keras.src.callbacks.history.History at 0x1c83a3beb10>"
      ]
     },
     "execution_count": 138,
     "metadata": {},
     "output_type": "execute_result"
    }
   ],
   "source": [
    "historial = modelo.fit(\n",
    "    X_train, #features\n",
    "    y_train, #labels\n",
    "    epochs=5,     #cantidad de pasadas\n",
    ")"
   ]
  },
  {
   "cell_type": "markdown",
   "id": "4eb507b2-ea81-4de9-a957-f42d19c5aef1",
   "metadata": {},
   "source": [
    "historial almacena informacion sobre el entrenamiento"
   ]
  },
  {
   "cell_type": "markdown",
   "id": "d52d467c",
   "metadata": {},
   "source": [
    "## Evaluación del modelo\n",
    "En este punto, ya tenemos nuestra red neuronal entrenada con los datos de entrenamiento. Ahora queremos evaluar si el modelo aprendió de forma adecuada. Para ello, primero analizaremos su rendimiento sobre los mismos datos con los que fue entrenada y luego observaremos cómo se comporta frente a datos nuevos, es decir, el conjunto de testeo.\n",
    "\n",
    "### Evaluación del modelo con los datos de entrenamiento\n",
    "Primero vamos a evaluar el modelo utilizando los mismos datos con los que fue entrenado (**X_train**). Le mostraremos las características (features) sin las etiquetas reales (labels), para que las prediga, y así podamos observar cómo se desempeña sobre el conjunto de entrenamiento.\n",
    "### <font color='red'>**Actividad 5:**</font>\n",
    "\n",
    "**a)** Generar **predicciones** para el dataset de entrenamiento (**X_train**), utilizando el metodo [.predict()](https://www.tensorflow.org/api_docs/python/tf/keras/Model#predict) y almacenar el resultado en una variable llamada **y_pred**.\n"
   ]
  },
  {
   "cell_type": "code",
   "execution_count": 140,
   "id": "7caa0816",
   "metadata": {},
   "outputs": [
    {
     "name": "stdout",
     "output_type": "stream",
     "text": [
      "\u001b[1m1/1\u001b[0m \u001b[32m━━━━━━━━━━━━━━━━━━━━\u001b[0m\u001b[37m\u001b[0m \u001b[1m0s\u001b[0m 40ms/step\n"
     ]
    },
    {
     "data": {
      "text/plain": [
       "array([[0.10957176],\n",
       "       [0.1355011 ],\n",
       "       [0.10346267],\n",
       "       [0.10189847],\n",
       "       [0.11881021],\n",
       "       [0.09776733],\n",
       "       [0.10296161],\n",
       "       [0.10625075],\n",
       "       [0.1912419 ],\n",
       "       [0.11173767],\n",
       "       [0.10237992],\n",
       "       [0.19145031],\n",
       "       [0.1122005 ],\n",
       "       [0.08952007],\n",
       "       [0.17332573],\n",
       "       [0.1096918 ]], dtype=float32)"
      ]
     },
     "execution_count": 140,
     "metadata": {},
     "output_type": "execute_result"
    }
   ],
   "source": [
    "y_pred = modelo.predict(X_train)\n",
    "y_pred"
   ]
  },
  {
   "cell_type": "markdown",
   "id": "617c44f9",
   "metadata": {},
   "source": [
    "Ahora que tenemos todas las predicciones del dataset de entrenamiento vamos a imprimir las 10 primeras y compararlas con el label real.\n",
    "\n",
    "**Aclaración:** Recordemos que  el método .predict() devuelve la probabilidad de que pertenezca a la clase positiva. En este ejemplo, sera la probabilidad de que la imagen sea efectivamente un 2."
   ]
  },
  {
   "cell_type": "code",
   "execution_count": 141,
   "id": "55ad91bf",
   "metadata": {},
   "outputs": [
    {
     "name": "stdout",
     "output_type": "stream",
     "text": [
      "    Real  Probabilidad  Predicción\n",
      "13     0      0.109572           0\n",
      "12     0      0.135501           0\n",
      "11     0      0.103463           0\n",
      "5      0      0.101898           0\n",
      "2      0      0.118810           0\n",
      "19     0      0.097767           0\n",
      "18     0      0.102962           0\n",
      "4      0      0.106251           0\n",
      "10     1      0.191242           0\n",
      "0      0      0.111738           0\n"
     ]
    }
   ],
   "source": [
    "y_pred = y_pred.flatten()\n",
    "\n",
    "resultado = pd.DataFrame({\n",
    "    'Real': y_train,\n",
    "    'Probabilidad': y_pred,\n",
    "    'Predicción': (y_pred > 0.5).astype(int)\n",
    "})\n",
    "print(resultado.head(10))\n"
   ]
  },
  {
   "cell_type": "markdown",
   "id": "0c53c72f",
   "metadata": {},
   "source": [
    "**b)** Evaluar el modelo en el dataset de entrenamiento utilizando el método [.evaluate()](https://www.tensorflow.org/api_docs/python/tf/keras/Model#evaluate), el cual nos va a decir que tan preciso es el modelo al momento de predecir los labels de los mismos ejemplos con los que fue entrenado.\n",
    "\n",
    "**Aclaración:** Observar que el metodo .evaluate devuelve un vector con dos valores: el error y el accuracy."
   ]
  },
  {
   "cell_type": "code",
   "execution_count": 144,
   "id": "7ad944c3",
   "metadata": {},
   "outputs": [
    {
     "name": "stdout",
     "output_type": "stream",
     "text": [
      "\u001b[1m1/1\u001b[0m \u001b[32m━━━━━━━━━━━━━━━━━━━━\u001b[0m\u001b[37m\u001b[0m \u001b[1m0s\u001b[0m 36ms/step - accuracy: 0.8125 - loss: 0.4090\n",
      "Error:  0.4090062081813812\n",
      "Accuracy:  0.8125\n"
     ]
    }
   ],
   "source": [
    "resultado = modelo.evaluate(X_train, y_train)\n",
    "print(\"Error: \", resultado[0])\n",
    "print(\"Accuracy: \", resultado[1])"
   ]
  },
  {
   "cell_type": "markdown",
   "id": "66c328ce-1c34-4e56-be3e-d26e525cf8d5",
   "metadata": {},
   "source": [
    "En este caso me dio el accuracy 0.8125 lo que significa que logra acertar 81% aprox"
   ]
  },
  {
   "cell_type": "markdown",
   "id": "0dba7f9d",
   "metadata": {},
   "source": [
    "\n",
    "### Evaluación del modelo con los datos de testeo\n",
    "Ahora vamos a evaluar el modelo utilizando datos que no fueron vistos durante el entrenamiento. Para ello, usaremos el conjunto de testeo (X_test). Le proporcionaremos al modelo únicamente las características (features), sin las etiquetas reales (labels), para que las prediga y así podamos analizar su desempeño sobre datos desconocidos.\n",
    "\n",
    "### <font color='red'>**Actividad 6:**</font>\n",
    "**a)** Generar **predicciones** para el dataset de testeo (**X_test**), utilizando el metodo [.predict()](https://www.tensorflow.org/api_docs/python/tf/keras/Model#predict) y almacenar el resultado en una variable llamada **y_pred**."
   ]
  },
  {
   "cell_type": "code",
   "execution_count": 145,
   "id": "932175b0",
   "metadata": {},
   "outputs": [
    {
     "name": "stdout",
     "output_type": "stream",
     "text": [
      "\u001b[1m1/1\u001b[0m \u001b[32m━━━━━━━━━━━━━━━━━━━━\u001b[0m\u001b[37m\u001b[0m \u001b[1m0s\u001b[0m 52ms/step\n"
     ]
    }
   ],
   "source": [
    "# almacenamos la prediccion para el ds de prueba en y_pred\n",
    "y_pred = modelo.predict(X_test)"
   ]
  },
  {
   "cell_type": "markdown",
   "id": "7d3d6bb6",
   "metadata": {},
   "source": [
    "Ahora que tenemos todas las predicciones del dataset de testeo vamos a imprimir las 10 primeras y compararlas con el label real."
   ]
  },
  {
   "cell_type": "code",
   "execution_count": 146,
   "id": "41281d5c",
   "metadata": {},
   "outputs": [
    {
     "name": "stdout",
     "output_type": "stream",
     "text": [
      "    Real  Probabilidad  Predicción\n",
      "15     0      0.116654           0\n",
      "8      1      0.114786           0\n",
      "6      0      0.115347           0\n",
      "3      0      0.101258           0\n"
     ]
    }
   ],
   "source": [
    "y_pred = y_pred.flatten()\n",
    "\n",
    "resultado = pd.DataFrame({\n",
    "    'Real': y_test,\n",
    "    'Probabilidad': y_pred,\n",
    "    'Predicción': (y_pred > 0.5).astype(int)\n",
    "})\n",
    "print(resultado.head(10))"
   ]
  },
  {
   "cell_type": "markdown",
   "id": "f1ea6425",
   "metadata": {},
   "source": [
    "**b)** Evaluar el modelo en el dataset de testeo utilizando el método [.evaluate()](https://www.tensorflow.org/api_docs/python/tf/keras/Model#evaluate), el cual nos va a decir que tan preciso es el modelo al momento de predecir los labels de ejemplos desconocidos.\n",
    "\n",
    "**Aclaración:** Observar que el metodo .evaluate devuelve un vector con dos valores: el error y el accuracy."
   ]
  },
  {
   "cell_type": "code",
   "execution_count": null,
   "id": "5d5c7970",
   "metadata": {},
   "outputs": [],
   "source": [
    "resultado = modelo.evaluate(X_test, y_test)"
   ]
  },
  {
   "cell_type": "markdown",
   "id": "f8606168",
   "metadata": {},
   "source": [
    "## Observaciones finales\n",
    "\n",
    "Si todo va bien, en este punro el modelo muestra un muy buen desempeño tanto en el conjunto de entrenamiento como en el de testeo.\n",
    "- **Entrenamiento**: error = 0.036, accuracy ≈ 98.98%\n",
    "- **Testeo**: error = 0.042, accuracy ≈ 98.83%\n",
    "\n",
    "La pequeña diferencia entre ambas métricas sugiere que el modelo generaliza bien y no presenta **overfitting** evidente.\n",
    "\n",
    "Sin embargo, el dataset está **fuertemente desbalanceado** (clase 0: **37823 ejemplos**, clase 1: **solo 4177**).\n",
    "Esto implica que **la métrica de accuracy puede dar una falsa sensación de buen rendimiento**, ya que el modelo podría acertar mayormente por predecir la clase mayoritaria. Para una evaluación más realista, sería recomendable complementar el análisis con métricas como:\n",
    "- **Precision, recall y F1-score**, especialmente para la clase minoritaria.\n",
    "- **Matriz de confusión**, para visualizar los verdaderos positivos y falsos negativos.\n",
    "\n",
    "Además se podría tratar de balancear el dataset para tener más o menos la misma cantidad de ejemplo de la clase positiva como de la negativa."
   ]
  }
 ],
 "metadata": {
  "kernelspec": {
   "display_name": "Python 3 (ipykernel)",
   "language": "python",
   "name": "python3"
  },
  "language_info": {
   "codemirror_mode": {
    "name": "ipython",
    "version": 3
   },
   "file_extension": ".py",
   "mimetype": "text/x-python",
   "name": "python",
   "nbconvert_exporter": "python",
   "pygments_lexer": "ipython3",
   "version": "3.11.9"
  }
 },
 "nbformat": 4,
 "nbformat_minor": 5
}
