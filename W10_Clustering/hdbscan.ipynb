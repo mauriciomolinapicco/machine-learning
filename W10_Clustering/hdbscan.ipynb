{
 "cells": [
  {
   "cell_type": "code",
   "execution_count": 5,
   "id": "f932f6d7-7d6f-4481-baaa-99ea0565a18b",
   "metadata": {},
   "outputs": [
    {
     "name": "stderr",
     "output_type": "stream",
     "text": [
      "C:\\Users\\Ezequiel\\AppData\\Local\\Packages\\PythonSoftwareFoundation.Python.3.11_qbz5n2kfra8p0\\LocalCache\\local-packages\\Python311\\site-packages\\sklearn\\utils\\deprecation.py:151: FutureWarning: 'force_all_finite' was renamed to 'ensure_all_finite' in 1.6 and will be removed in 1.8.\n",
      "  warnings.warn(\n",
      "C:\\Users\\Ezequiel\\AppData\\Local\\Packages\\PythonSoftwareFoundation.Python.3.11_qbz5n2kfra8p0\\LocalCache\\local-packages\\Python311\\site-packages\\sklearn\\utils\\deprecation.py:151: FutureWarning: 'force_all_finite' was renamed to 'ensure_all_finite' in 1.6 and will be removed in 1.8.\n",
      "  warnings.warn(\n"
     ]
    },
    {
     "data": {
      "image/png": "[encoded data removed]",
      "text/plain": [
       "<Figure size 640x480 with 1 Axes>"
      ]
     },
     "metadata": {},
     "output_type": "display_data"
    }
   ],
   "source": [
    "# Paso 1: Importar las bibliotecas necesarias\n",
    "import hdbscan\n",
    "import numpy as np\n",
    "import matplotlib.pyplot as plt\n",
    "\n",
    "# Paso 2: Preparar los datos de ejemplo\n",
    "X = np.array([[1, 2], [1.5, 1.8], [5, 8], [8, 8], [1, 0.6], [9, 11], [11, 12], [12, 10], [6, 7], [7, 6]])\n",
    "\n",
    "# Paso 3: Crear y ajustar el modelo de HDBSCAN\n",
    "hdbscan_model = hdbscan.HDBSCAN(min_cluster_size=2)\n",
    "hdbscan_model.fit(X)\n",
    "\n",
    "# Paso 4: Obtener las etiquetas de los clusters y los outliers\n",
    "labels = hdbscan_model.labels_\n",
    "probabilities = hdbscan_model.probabilities_\n",
    "\n",
    "# Paso 5: Visualizar los resultados\n",
    "unique_labels = np.unique(labels)\n",
    "colors = ['r', 'g', 'b', 'y']\n",
    "\n",
    "for label, color in zip(unique_labels, colors):\n",
    "    if label == -1: # Outliers\n",
    "        color = 'k'\n",
    "        \n",
    "    class_member_mask = (labels == label)\n",
    "    xy = X[class_member_mask]\n",
    "    plt.scatter(xy[:, 0], xy[:, 1], color=color, marker='o')\n",
    "\n",
    "plt.show()"
   ]
  },
  {
   "cell_type": "markdown",
   "id": "3208867b-0844-4d3f-9708-aab5097b5eec",
   "metadata": {},
   "source": [
    "Hiperparametro = 𝑚𝑖𝑛_𝑐𝑙𝑢𝑠𝑡𝑒𝑟_𝑠𝑖𝑧𝑒"
   ]
  },
  {
   "cell_type": "code",
   "execution_count": null,
   "id": "5fb61e82-ba38-4978-9c6c-fbf09fa15d09",
   "metadata": {},
   "outputs": [],
   "source": []
  }
 ],
 "metadata": {
  "kernelspec": {
   "display_name": "Python 3 (ipykernel)",
   "language": "python",
   "name": "python3"
  },
  "language_info": {
   "codemirror_mode": {
    "name": "ipython",
    "version": 3
   },
   "file_extension": ".py",
   "mimetype": "text/x-python",
   "name": "python",
   "nbconvert_exporter": "python",
   "pygments_lexer": "ipython3",
   "version": "3.11.9"
  }
 },
 "nbformat": 4,
 "nbformat_minor": 5
}
