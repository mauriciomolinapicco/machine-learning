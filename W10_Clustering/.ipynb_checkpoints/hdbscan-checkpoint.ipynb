{
 "cells": [
  {
   "cell_type": "code",
   "execution_count": 4,
   "id": "f932f6d7-7d6f-4481-baaa-99ea0565a18b",
   "metadata": {},
   "outputs": [
    {
     "ename": "ModuleNotFoundError",
     "evalue": "No module named 'hdbscan'",
     "output_type": "error",
     "traceback": [
      "\u001b[31m---------------------------------------------------------------------------\u001b[39m",
      "\u001b[31mModuleNotFoundError\u001b[39m                       Traceback (most recent call last)",
      "\u001b[36mCell\u001b[39m\u001b[36m \u001b[39m\u001b[32mIn[4]\u001b[39m\u001b[32m, line 2\u001b[39m\n\u001b[32m      1\u001b[39m \u001b[38;5;66;03m# Paso 1: Importar las bibliotecas necesarias\u001b[39;00m\n\u001b[32m----> \u001b[39m\u001b[32m2\u001b[39m \u001b[38;5;28;01mimport\u001b[39;00m \u001b[34;01mhdbscan\u001b[39;00m\n\u001b[32m      3\u001b[39m \u001b[38;5;28;01mimport\u001b[39;00m \u001b[34;01mnumpy\u001b[39;00m \u001b[38;5;28;01mas\u001b[39;00m \u001b[34;01mnp\u001b[39;00m\n\u001b[32m      4\u001b[39m \u001b[38;5;28;01mimport\u001b[39;00m \u001b[34;01mmatplotlib\u001b[39;00m\u001b[34;01m.\u001b[39;00m\u001b[34;01mpyplot\u001b[39;00m \u001b[38;5;28;01mas\u001b[39;00m \u001b[34;01mplt\u001b[39;00m\n",
      "\u001b[31mModuleNotFoundError\u001b[39m: No module named 'hdbscan'"
     ]
    }
   ],
   "source": [
    "# Paso 1: Importar las bibliotecas necesarias\n",
    "import hdbscan\n",
    "import numpy as np\n",
    "import matplotlib.pyplot as plt\n",
    "\n",
    "# Paso 2: Preparar los datos de ejemplo\n",
    "X = np.array([[1, 2], [1.5, 1.8], [5, 8], [8, 8], [1, 0.6], [9, 11], [11, 12], [12, 10], [6, 7], [7, 6]])\n",
    "\n",
    "# Paso 3: Crear y ajustar el modelo de HDBSCAN\n",
    "hdbscan_model = hdbscan.HDBSCAN(min_cluster_size=2)\n",
    "hdbscan_model.fit(X)\n",
    "\n",
    "# Paso 4: Obtener las etiquetas de los clusters y los outliers\n",
    "labels = hdbscan_model.labels_\n",
    "probabilities = hdbscan_model.probabilities_\n",
    "\n",
    "# Paso 5: Visualizar los resultados\n",
    "unique_labels = np.unique(labels)\n",
    "colors = ['r', 'g', 'b', 'y']\n",
    "\n",
    "for label, color in zip(unique_labels, colors):\n",
    "    if label == -1: # Outliers\n",
    "        color = 'k'\n",
    "        \n",
    "    class_member_mask = (labels == label)\n",
    "    xy = X[class_member_mask]\n",
    "    plt.scatter(xy[:, 0], xy[:, 1], color=color, marker='o')\n",
    "\n",
    "plt.show()"
   ]
  },
  {
   "cell_type": "code",
   "execution_count": null,
   "id": "8973a287-e957-4d60-b86b-53361d963ba1",
   "metadata": {},
   "outputs": [],
   "source": []
  }
 ],
 "metadata": {
  "kernelspec": {
   "display_name": "Python 3 (ipykernel)",
   "language": "python",
   "name": "python3"
  },
  "language_info": {
   "codemirror_mode": {
    "name": "ipython",
    "version": 3
   },
   "file_extension": ".py",
   "mimetype": "text/x-python",
   "name": "python",
   "nbconvert_exporter": "python",
   "pygments_lexer": "ipython3",
   "version": "3.11.9"
  }
 },
 "nbformat": 4,
 "nbformat_minor": 5
}
