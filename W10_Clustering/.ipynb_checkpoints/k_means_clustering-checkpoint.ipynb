{
 "cells": [
  {
   "cell_type": "code",
   "execution_count": 1,
   "id": "390eb517-a82e-4596-8875-e852d010a6b0",
   "metadata": {},
   "outputs": [
    {
     "data": {
      "image/png": "[encoded data removed]",
      "text/plain": [
       "<Figure size 640x480 with 1 Axes>"
      ]
     },
     "metadata": {},
     "output_type": "display_data"
    }
   ],
   "source": [
    "# Paso 1: Importar las bibliotecas necesarias\n",
    "from sklearn.cluster import KMeans\n",
    "import numpy as np\n",
    "\n",
    "# Paso 2: Preparar los datos de ejemplo\n",
    "X = np.array([[1, 2], [1.5, 1.8], [5, 8], [8, 8], [1, 0.6], [9, 11]])\n",
    "\n",
    "# Paso 3: Crear y ajustar el modelo de K-Means\n",
    "kmeans = KMeans(n_clusters=2) # Especificamos el número de clusters deseado\n",
    "kmeans.fit(X)\n",
    "\n",
    "# Paso 4: Obtener las etiquetas de los clusters y los centroides\n",
    "labels = kmeans.labels_\n",
    "centroids = kmeans.cluster_centers_\n",
    "\n",
    "# Paso 5: Visualizar los resultados\n",
    "import matplotlib.pyplot as plt\n",
    "colors = ['r', 'g']\n",
    "for i in range(len(X)):\n",
    "    plt.scatter(X[i][0], X[i][1], c=colors[labels[i]], marker='o')\n",
    "    \n",
    "plt.scatter(centroids[:, 0], centroids[:, 1], marker='x', color='b')\n",
    "plt.show()"
   ]
  },
  {
   "cell_type": "code",
   "execution_count": null,
   "id": "6f400706-9854-40e0-9c1d-3f02db273e14",
   "metadata": {},
   "outputs": [],
   "source": []
  }
 ],
 "metadata": {
  "kernelspec": {
   "display_name": "Python 3 (ipykernel)",
   "language": "python",
   "name": "python3"
  },
  "language_info": {
   "codemirror_mode": {
    "name": "ipython",
    "version": 3
   },
   "file_extension": ".py",
   "mimetype": "text/x-python",
   "name": "python",
   "nbconvert_exporter": "python",
   "pygments_lexer": "ipython3",
   "version": "3.11.9"
  }
 },
 "nbformat": 4,
 "nbformat_minor": 5
}
