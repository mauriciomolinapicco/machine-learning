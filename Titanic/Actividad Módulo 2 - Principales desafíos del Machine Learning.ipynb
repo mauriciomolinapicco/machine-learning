{
 "cells": [
  {
   "cell_type": "markdown",
   "id": "4b2e66bb",
   "metadata": {},
   "source": [
    "# Módulo 2: Principales desafíos del Machine Learning\n",
    "## Ejemplo de preprocesamiento: Titanic Dataset\n",
    "\n",
    "Veamos un **ejemplo de preprocesamiento** sobre el dataset del famoso barco hundido en el año 1912, el Titanic. \n",
    "\n",
    "El dataset brinda información sobre los pasajeros del **Titanic**, como sus edades, género, número de hermanos, esposas, hijos y padres dentro del barco, puntos de embarque y si sobrevivieron o no al desastre. \n",
    "\n",
    "En base a estas características, el objetivo de un posible proyecto de Machine Learning podría ser predecir si un pasajero arbitrario en el Titanic sobreviviría o no al hundimiento.\n",
    "\n",
    "En este primer ejemplo vamos a analizar el dataset, entendiendo mejor los features que lo componen, observando relaciones entre ellos, buscando errores, datos faltantes, entre otros.\n"
   ]
  },
  {
   "cell_type": "markdown",
   "id": "a99464b3",
   "metadata": {},
   "source": [
    "En primer lugar, vamos a **importar todas las librerías** necesarias para resolver el problema. Además, definimos el estilo de los gráficos que utilizaremos."
   ]
  },
  {
   "cell_type": "code",
   "execution_count": 2,
   "id": "c280bcac",
   "metadata": {},
   "outputs": [],
   "source": [
    "#Importamos todas las librerias necesarias para resolver el problema\n",
    "import numpy as np\n",
    "import pandas as pd\n",
    "import seaborn as sns\n",
    "import matplotlib.pyplot as plt\n",
    "from matplotlib import style\n",
    "\n",
    "# Codigo para definir el estilo de los graficos de matplotlib\n",
    "style.use('fivethirtyeight')\n",
    "plt.rc('xtick',labelsize=8)\n",
    "plt.rc('ytick',labelsize=8)"
   ]
  },
  {
   "cell_type": "markdown",
   "id": "2d4ea9b1",
   "metadata": {},
   "source": [
    "Luego, con el método **.read_csv(file_path)** vamos a cargar el dataset con los datos del Titanic en un pandas.DataFrame y vamos observar los primeros 5 ejemplos con el método **.head()**.\n",
    "\n",
    "**Aclaración:** Deben reemplazar el file_path con el nombre del directorio donde se encuentra el archivo titanic.csv"
   ]
  },
  {
   "cell_type": "code",
   "execution_count": 4,
   "id": "954ef09a",
   "metadata": {},
   "outputs": [
    {
     "data": {
      "text/html": [
       "<div>\n",
       "<style scoped>\n",
       "    .dataframe tbody tr th:only-of-type {\n",
       "        vertical-align: middle;\n",
       "    }\n",
       "\n",
       "    .dataframe tbody tr th {\n",
       "        vertical-align: top;\n",
       "    }\n",
       "\n",
       "    .dataframe thead th {\n",
       "        text-align: right;\n",
       "    }\n",
       "</style>\n",
       "<table border=\"1\" class=\"dataframe\">\n",
       "  <thead>\n",
       "    <tr style=\"text-align: right;\">\n",
       "      <th></th>\n",
       "      <th>PassengerId</th>\n",
       "      <th>Survived</th>\n",
       "      <th>Pclass</th>\n",
       "      <th>Name</th>\n",
       "      <th>Sex</th>\n",
       "      <th>Age</th>\n",
       "      <th>SibSp</th>\n",
       "      <th>Parch</th>\n",
       "      <th>Ticket</th>\n",
       "      <th>Fare</th>\n",
       "      <th>Cabin</th>\n",
       "      <th>Embarked</th>\n",
       "    </tr>\n",
       "  </thead>\n",
       "  <tbody>\n",
       "    <tr>\n",
       "      <th>0</th>\n",
       "      <td>1</td>\n",
       "      <td>0</td>\n",
       "      <td>3</td>\n",
       "      <td>Braund, Mr. Owen Harris</td>\n",
       "      <td>male</td>\n",
       "      <td>22.0</td>\n",
       "      <td>1</td>\n",
       "      <td>0</td>\n",
       "      <td>A/5 21171</td>\n",
       "      <td>7.2500</td>\n",
       "      <td>NaN</td>\n",
       "      <td>S</td>\n",
       "    </tr>\n",
       "    <tr>\n",
       "      <th>1</th>\n",
       "      <td>2</td>\n",
       "      <td>1</td>\n",
       "      <td>1</td>\n",
       "      <td>Cumings, Mrs. John Bradley (Florence Briggs Th...</td>\n",
       "      <td>female</td>\n",
       "      <td>38.0</td>\n",
       "      <td>1</td>\n",
       "      <td>0</td>\n",
       "      <td>PC 17599</td>\n",
       "      <td>71.2833</td>\n",
       "      <td>C85</td>\n",
       "      <td>C</td>\n",
       "    </tr>\n",
       "    <tr>\n",
       "      <th>2</th>\n",
       "      <td>3</td>\n",
       "      <td>1</td>\n",
       "      <td>3</td>\n",
       "      <td>Heikkinen, Miss. Laina</td>\n",
       "      <td>female</td>\n",
       "      <td>26.0</td>\n",
       "      <td>0</td>\n",
       "      <td>0</td>\n",
       "      <td>STON/O2. 3101282</td>\n",
       "      <td>7.9250</td>\n",
       "      <td>NaN</td>\n",
       "      <td>S</td>\n",
       "    </tr>\n",
       "    <tr>\n",
       "      <th>3</th>\n",
       "      <td>4</td>\n",
       "      <td>1</td>\n",
       "      <td>1</td>\n",
       "      <td>Futrelle, Mrs. Jacques Heath (Lily May Peel)</td>\n",
       "      <td>female</td>\n",
       "      <td>35.0</td>\n",
       "      <td>1</td>\n",
       "      <td>0</td>\n",
       "      <td>113803</td>\n",
       "      <td>53.1000</td>\n",
       "      <td>C123</td>\n",
       "      <td>S</td>\n",
       "    </tr>\n",
       "    <tr>\n",
       "      <th>4</th>\n",
       "      <td>5</td>\n",
       "      <td>0</td>\n",
       "      <td>3</td>\n",
       "      <td>Allen, Mr. William Henry</td>\n",
       "      <td>male</td>\n",
       "      <td>35.0</td>\n",
       "      <td>0</td>\n",
       "      <td>0</td>\n",
       "      <td>373450</td>\n",
       "      <td>8.0500</td>\n",
       "      <td>NaN</td>\n",
       "      <td>S</td>\n",
       "    </tr>\n",
       "  </tbody>\n",
       "</table>\n",
       "</div>"
      ],
      "text/plain": [
       "   PassengerId  Survived  Pclass  \\\n",
       "0            1         0       3   \n",
       "1            2         1       1   \n",
       "2            3         1       3   \n",
       "3            4         1       1   \n",
       "4            5         0       3   \n",
       "\n",
       "                                                Name     Sex   Age  SibSp  \\\n",
       "0                            Braund, Mr. Owen Harris    male  22.0      1   \n",
       "1  Cumings, Mrs. John Bradley (Florence Briggs Th...  female  38.0      1   \n",
       "2                             Heikkinen, Miss. Laina  female  26.0      0   \n",
       "3       Futrelle, Mrs. Jacques Heath (Lily May Peel)  female  35.0      1   \n",
       "4                           Allen, Mr. William Henry    male  35.0      0   \n",
       "\n",
       "   Parch            Ticket     Fare Cabin Embarked  \n",
       "0      0         A/5 21171   7.2500   NaN        S  \n",
       "1      0          PC 17599  71.2833   C85        C  \n",
       "2      0  STON/O2. 3101282   7.9250   NaN        S  \n",
       "3      0            113803  53.1000  C123        S  \n",
       "4      0            373450   8.0500   NaN        S  "
      ]
     },
     "execution_count": 4,
     "metadata": {},
     "output_type": "execute_result"
    }
   ],
   "source": [
    "# Leemos el archivo .csv \n",
    "# ATENCION: REEMPLAZAR POR EL PATH DONDE SE ENCUENTRE EL ARCHIVO\n",
    "titanic = pd.read_csv('titanic.csv')\n",
    "\n",
    "# Observamos los 5 primeros elementos\n",
    "titanic.head()"
   ]
  },
  {
   "cell_type": "markdown",
   "id": "a7f33d80",
   "metadata": {},
   "source": [
    "#### Observaciones:\n",
    "Algunas observaciones que podemos extraer de los primeros ejemplos del dataset:\n",
    "- El dataset cuenta con **features numéricos, features de texto libre y features categóricos**.\n",
    "\n",
    "- El feature **PassengerId** podría ser el indíce en nuestro DataFrame.\n",
    "\n",
    "- El Label sería el feature **Survived** que nos dice si ese pasajero sobrevivió (1) o no sobrevivió (0). \n",
    "\n",
    "- El resto de las columnas son los features de los cuales nuestro modelo debe aprender.\n",
    "\n",
    "Veamos que significa cada feature:\n",
    "- **PassengerId**, es un valor único por pasajero que define su ID\n",
    "- **Pclass**, es la clase en la que viajaba (1 para primera clase, 2 para segunda clase y 3 para tercera clase)\n",
    "- **Name**, es el nombre completo del pasajero. Inlcuye el título social (Mr., Miss., etc)\n",
    "- **Sex**, es el género (masculino, femenino)\n",
    "- **Age**, la edad\n",
    "- **SibSp**, describe la cantidad de hermanos/as y esposo/a que viajan también en el barco\n",
    "- **Parch**, describe la cantidad de padres e hijos que viajan también en el barco\n",
    "- **Ticket**, es el identificador del pasaje\n",
    "- **Fare**, es la tarifa que pagó por el pasaje\n",
    "- **Cabin**, es el identificador de la cabina en la que se alojaba\n",
    "- **Embarked**, es el puerto de embarque en donde subió al barco. Tiene tres valores posibles: S (Southampton), C (Cherbourg) y Q (Queenstown).\n",
    "\n",
    "Ahora que tenemos una idea general de cómo esta formado nuestro dataset, comencemos a analizarlo y procesarlo para que quede listo para entrenar un algoritmo de ML.\n",
    "\n",
    "\n",
    "### Limpieza de datos y análisis inicial\n",
    "\n",
    "- Para iniciar con nuestro análisis vamos a **definir PassengerId como indice de nuestro DataFrame**"
   ]
  },
  {
   "cell_type": "code",
   "execution_count": 5,
   "id": "4bb83c46",
   "metadata": {},
   "outputs": [
    {
     "data": {
      "text/html": [
       "<div>\n",
       "<style scoped>\n",
       "    .dataframe tbody tr th:only-of-type {\n",
       "        vertical-align: middle;\n",
       "    }\n",
       "\n",
       "    .dataframe tbody tr th {\n",
       "        vertical-align: top;\n",
       "    }\n",
       "\n",
       "    .dataframe thead th {\n",
       "        text-align: right;\n",
       "    }\n",
       "</style>\n",
       "<table border=\"1\" class=\"dataframe\">\n",
       "  <thead>\n",
       "    <tr style=\"text-align: right;\">\n",
       "      <th></th>\n",
       "      <th>Survived</th>\n",
       "      <th>Pclass</th>\n",
       "      <th>Name</th>\n",
       "      <th>Sex</th>\n",
       "      <th>Age</th>\n",
       "      <th>SibSp</th>\n",
       "      <th>Parch</th>\n",
       "      <th>Ticket</th>\n",
       "      <th>Fare</th>\n",
       "      <th>Cabin</th>\n",
       "      <th>Embarked</th>\n",
       "    </tr>\n",
       "    <tr>\n",
       "      <th>PassengerId</th>\n",
       "      <th></th>\n",
       "      <th></th>\n",
       "      <th></th>\n",
       "      <th></th>\n",
       "      <th></th>\n",
       "      <th></th>\n",
       "      <th></th>\n",
       "      <th></th>\n",
       "      <th></th>\n",
       "      <th></th>\n",
       "      <th></th>\n",
       "    </tr>\n",
       "  </thead>\n",
       "  <tbody>\n",
       "    <tr>\n",
       "      <th>887</th>\n",
       "      <td>0</td>\n",
       "      <td>2</td>\n",
       "      <td>Montvila, Rev. Juozas</td>\n",
       "      <td>male</td>\n",
       "      <td>27.0</td>\n",
       "      <td>0</td>\n",
       "      <td>0</td>\n",
       "      <td>211536</td>\n",
       "      <td>13.00</td>\n",
       "      <td>NaN</td>\n",
       "      <td>S</td>\n",
       "    </tr>\n",
       "    <tr>\n",
       "      <th>888</th>\n",
       "      <td>1</td>\n",
       "      <td>1</td>\n",
       "      <td>Graham, Miss. Margaret Edith</td>\n",
       "      <td>female</td>\n",
       "      <td>19.0</td>\n",
       "      <td>0</td>\n",
       "      <td>0</td>\n",
       "      <td>112053</td>\n",
       "      <td>30.00</td>\n",
       "      <td>B42</td>\n",
       "      <td>S</td>\n",
       "    </tr>\n",
       "    <tr>\n",
       "      <th>889</th>\n",
       "      <td>0</td>\n",
       "      <td>3</td>\n",
       "      <td>Johnston, Miss. Catherine Helen \"Carrie\"</td>\n",
       "      <td>female</td>\n",
       "      <td>NaN</td>\n",
       "      <td>1</td>\n",
       "      <td>2</td>\n",
       "      <td>W./C. 6607</td>\n",
       "      <td>23.45</td>\n",
       "      <td>NaN</td>\n",
       "      <td>S</td>\n",
       "    </tr>\n",
       "    <tr>\n",
       "      <th>890</th>\n",
       "      <td>1</td>\n",
       "      <td>1</td>\n",
       "      <td>Behr, Mr. Karl Howell</td>\n",
       "      <td>male</td>\n",
       "      <td>26.0</td>\n",
       "      <td>0</td>\n",
       "      <td>0</td>\n",
       "      <td>111369</td>\n",
       "      <td>30.00</td>\n",
       "      <td>C148</td>\n",
       "      <td>C</td>\n",
       "    </tr>\n",
       "    <tr>\n",
       "      <th>891</th>\n",
       "      <td>0</td>\n",
       "      <td>3</td>\n",
       "      <td>Dooley, Mr. Patrick</td>\n",
       "      <td>male</td>\n",
       "      <td>32.0</td>\n",
       "      <td>0</td>\n",
       "      <td>0</td>\n",
       "      <td>370376</td>\n",
       "      <td>7.75</td>\n",
       "      <td>NaN</td>\n",
       "      <td>Q</td>\n",
       "    </tr>\n",
       "  </tbody>\n",
       "</table>\n",
       "</div>"
      ],
      "text/plain": [
       "             Survived  Pclass                                      Name  \\\n",
       "PassengerId                                                               \n",
       "887                 0       2                     Montvila, Rev. Juozas   \n",
       "888                 1       1              Graham, Miss. Margaret Edith   \n",
       "889                 0       3  Johnston, Miss. Catherine Helen \"Carrie\"   \n",
       "890                 1       1                     Behr, Mr. Karl Howell   \n",
       "891                 0       3                       Dooley, Mr. Patrick   \n",
       "\n",
       "                Sex   Age  SibSp  Parch      Ticket   Fare Cabin Embarked  \n",
       "PassengerId                                                                \n",
       "887            male  27.0      0      0      211536  13.00   NaN        S  \n",
       "888          female  19.0      0      0      112053  30.00   B42        S  \n",
       "889          female   NaN      1      2  W./C. 6607  23.45   NaN        S  \n",
       "890            male  26.0      0      0      111369  30.00  C148        C  \n",
       "891            male  32.0      0      0      370376   7.75   NaN        Q  "
      ]
     },
     "execution_count": 5,
     "metadata": {},
     "output_type": "execute_result"
    }
   ],
   "source": [
    "# 1. Seteamos en indice para que sea el id del pasajero\n",
    "titanic = titanic.set_index('PassengerId')\n",
    "\n",
    "# Observamos los 5 ultimos elementos\n",
    "titanic.tail()"
   ]
  },
  {
   "cell_type": "markdown",
   "id": "3528c4b6",
   "metadata": {},
   "source": [
    "- Observamos la **cantidad de ejemplos y de features** que tiene nuestro dataset"
   ]
  },
  {
   "cell_type": "code",
   "execution_count": 6,
   "id": "7b36fdc3",
   "metadata": {},
   "outputs": [
    {
     "data": {
      "text/plain": [
       "(891, 11)"
      ]
     },
     "execution_count": 6,
     "metadata": {},
     "output_type": "execute_result"
    }
   ],
   "source": [
    "# (Filas x Columnas)\n",
    "titanic.shape"
   ]
  },
  {
   "cell_type": "markdown",
   "id": "7bced634",
   "metadata": {},
   "source": [
    "- Analizamos los **tipos de datos que representan los features**"
   ]
  },
  {
   "cell_type": "code",
   "execution_count": 7,
   "id": "646070b6",
   "metadata": {},
   "outputs": [
    {
     "data": {
      "text/plain": [
       "Survived      int64\n",
       "Pclass        int64\n",
       "Name         object\n",
       "Sex          object\n",
       "Age         float64\n",
       "SibSp         int64\n",
       "Parch         int64\n",
       "Ticket       object\n",
       "Fare        float64\n",
       "Cabin        object\n",
       "Embarked     object\n",
       "dtype: object"
      ]
     },
     "execution_count": 7,
     "metadata": {},
     "output_type": "execute_result"
    }
   ],
   "source": [
    "titanic.dtypes"
   ]
  },
  {
   "cell_type": "markdown",
   "id": "244e7178",
   "metadata": {},
   "source": [
    "#### Observaciones:\n",
    "- **Name, Sex, Ticket y Cabin, Embarked** son del tipo object, es decir, **texto o valores categóricos**\n",
    "- **Age y Fare** son del tipo **float** (numéricos reales)\n",
    "- El resto son valores numéricos **enteros**"
   ]
  },
  {
   "cell_type": "markdown",
   "id": "ba4097cd",
   "metadata": {},
   "source": [
    "- Analizamos **estadísticamente los features numéricos** del dataset usando el método .describe()"
   ]
  },
  {
   "cell_type": "code",
   "execution_count": 10,
   "id": "d1d5ea7e",
   "metadata": {},
   "outputs": [
    {
     "data": {
      "text/html": [
       "<div>\n",
       "<style scoped>\n",
       "    .dataframe tbody tr th:only-of-type {\n",
       "        vertical-align: middle;\n",
       "    }\n",
       "\n",
       "    .dataframe tbody tr th {\n",
       "        vertical-align: top;\n",
       "    }\n",
       "\n",
       "    .dataframe thead th {\n",
       "        text-align: right;\n",
       "    }\n",
       "</style>\n",
       "<table border=\"1\" class=\"dataframe\">\n",
       "  <thead>\n",
       "    <tr style=\"text-align: right;\">\n",
       "      <th></th>\n",
       "      <th>count</th>\n",
       "      <th>mean</th>\n",
       "      <th>std</th>\n",
       "      <th>min</th>\n",
       "      <th>25%</th>\n",
       "      <th>50%</th>\n",
       "      <th>75%</th>\n",
       "      <th>max</th>\n",
       "    </tr>\n",
       "  </thead>\n",
       "  <tbody>\n",
       "    <tr>\n",
       "      <th>Survived</th>\n",
       "      <td>891.0</td>\n",
       "      <td>0.383838</td>\n",
       "      <td>0.486592</td>\n",
       "      <td>0.00</td>\n",
       "      <td>0.0000</td>\n",
       "      <td>0.0000</td>\n",
       "      <td>1.0</td>\n",
       "      <td>1.0000</td>\n",
       "    </tr>\n",
       "    <tr>\n",
       "      <th>Pclass</th>\n",
       "      <td>891.0</td>\n",
       "      <td>2.308642</td>\n",
       "      <td>0.836071</td>\n",
       "      <td>1.00</td>\n",
       "      <td>2.0000</td>\n",
       "      <td>3.0000</td>\n",
       "      <td>3.0</td>\n",
       "      <td>3.0000</td>\n",
       "    </tr>\n",
       "    <tr>\n",
       "      <th>Age</th>\n",
       "      <td>714.0</td>\n",
       "      <td>29.699118</td>\n",
       "      <td>14.526497</td>\n",
       "      <td>0.42</td>\n",
       "      <td>20.1250</td>\n",
       "      <td>28.0000</td>\n",
       "      <td>38.0</td>\n",
       "      <td>80.0000</td>\n",
       "    </tr>\n",
       "    <tr>\n",
       "      <th>SibSp</th>\n",
       "      <td>891.0</td>\n",
       "      <td>0.523008</td>\n",
       "      <td>1.102743</td>\n",
       "      <td>0.00</td>\n",
       "      <td>0.0000</td>\n",
       "      <td>0.0000</td>\n",
       "      <td>1.0</td>\n",
       "      <td>8.0000</td>\n",
       "    </tr>\n",
       "    <tr>\n",
       "      <th>Parch</th>\n",
       "      <td>891.0</td>\n",
       "      <td>0.381594</td>\n",
       "      <td>0.806057</td>\n",
       "      <td>0.00</td>\n",
       "      <td>0.0000</td>\n",
       "      <td>0.0000</td>\n",
       "      <td>0.0</td>\n",
       "      <td>6.0000</td>\n",
       "    </tr>\n",
       "    <tr>\n",
       "      <th>Fare</th>\n",
       "      <td>891.0</td>\n",
       "      <td>32.204208</td>\n",
       "      <td>49.693429</td>\n",
       "      <td>0.00</td>\n",
       "      <td>7.9104</td>\n",
       "      <td>14.4542</td>\n",
       "      <td>31.0</td>\n",
       "      <td>512.3292</td>\n",
       "    </tr>\n",
       "  </tbody>\n",
       "</table>\n",
       "</div>"
      ],
      "text/plain": [
       "          count       mean        std   min      25%      50%   75%       max\n",
       "Survived  891.0   0.383838   0.486592  0.00   0.0000   0.0000   1.0    1.0000\n",
       "Pclass    891.0   2.308642   0.836071  1.00   2.0000   3.0000   3.0    3.0000\n",
       "Age       714.0  29.699118  14.526497  0.42  20.1250  28.0000  38.0   80.0000\n",
       "SibSp     891.0   0.523008   1.102743  0.00   0.0000   0.0000   1.0    8.0000\n",
       "Parch     891.0   0.381594   0.806057  0.00   0.0000   0.0000   0.0    6.0000\n",
       "Fare      891.0  32.204208  49.693429  0.00   7.9104  14.4542  31.0  512.3292"
      ]
     },
     "execution_count": 10,
     "metadata": {},
     "output_type": "execute_result"
    }
   ],
   "source": [
    "# .transpose() es para visualizar la matriz transpuesta (puede obviarse)\n",
    "titanic.describe().transpose()"
   ]
  },
  {
   "cell_type": "markdown",
   "id": "302386e5",
   "metadata": {},
   "source": [
    "- Consultamos la cantidad de **valores faltantes por cada feature**"
   ]
  },
  {
   "cell_type": "code",
   "execution_count": 11,
   "id": "c7342682",
   "metadata": {},
   "outputs": [
    {
     "data": {
      "text/plain": [
       "Survived      0\n",
       "Pclass        0\n",
       "Name          0\n",
       "Sex           0\n",
       "Age         177\n",
       "SibSp         0\n",
       "Parch         0\n",
       "Ticket        0\n",
       "Fare          0\n",
       "Cabin       687\n",
       "Embarked      2\n",
       "dtype: int64"
      ]
     },
     "execution_count": 11,
     "metadata": {},
     "output_type": "execute_result"
    }
   ],
   "source": [
    "titanic.isnull().sum()"
   ]
  },
  {
   "cell_type": "markdown",
   "id": "9388bddb",
   "metadata": {},
   "source": [
    "#### Observaciones\n",
    "- **Cabin** tiene **687 valores faltantes** de los 891 ejemplos (~77%)\n",
    "- **Age** tiene **177 valores faltantes** de los 891 ejemplos (~20%)"
   ]
  },
  {
   "cell_type": "markdown",
   "id": "914504ac",
   "metadata": {},
   "source": [
    "- Observamos el label y obtenemos la **cantidad de sobrevivientes y cantidad de fallecidos** con el método value_counts() el cual cuenta la cantidad de ejemplos que hay en el dataset de cada clase."
   ]
  },
  {
   "cell_type": "code",
   "execution_count": 12,
   "id": "50c27858",
   "metadata": {},
   "outputs": [
    {
     "data": {
      "text/plain": [
       "Survived\n",
       "0    549\n",
       "1    342\n",
       "Name: count, dtype: int64"
      ]
     },
     "execution_count": 12,
     "metadata": {},
     "output_type": "execute_result"
    }
   ],
   "source": [
    "titanic.Survived.value_counts()"
   ]
  },
  {
   "cell_type": "markdown",
   "id": "4f2487c9",
   "metadata": {},
   "source": [
    " #### Observaciones\n",
    " Del total de pasajeros del dataset: \n",
    " - 549 no sobrevivieron\n",
    " - 342 sobrevivieron\n",
    " \n",
    "Este paso (observar los labels con el método value_counts()) en el preprocesamiento es muy importante porque permite verificar si el dataset está **balanceado**, lo cual es clave para entrenar modelos que no estén sesgados hacia una clase. **Si el conjunto de datos está desbalanceado, el modelo podría aprender a predecir siempre la clase mayoritaria**, obteniendo una alta precisión aparente pero un desempeño pobre en las clases minoritarias."
   ]
  },
  {
   "cell_type": "markdown",
   "id": "9b4e42dc",
   "metadata": {},
   "source": [
    "### Extracción de nuevos features\n",
    "Ahora que tenemos más claridad sobre nuestro dataset usaremos algunos métodos de pandas que nos ayudarán a analizar los features existentes para extraer nuevos.\n",
    "\n",
    "El método .groupby() agrupa los ejemplos segun los features seleccionados y permite realizar diferentes cálculos de a grupos (contar los elementos agrupados, sumarlos, promediarlos, etc). \n",
    "\n",
    "En este caso el objetivo es:\n",
    "1. Obtener la **cantidad de pasajeros por cada clase**\n",
    "2. Obtener la **cantidad de sobrevivientes por cada clase**\n",
    "\n",
    "Nos enfocamos en principio en las clases de las cabinas porque, según la historia que se conoce del hundimiento del Titanic, los pasajeros de clases más bajas tuvieron menos chances de sobrevivir. El objetivo es verificar esto con nuestro dataset. Si ese es el caso, sabremos que Pclass es un feature importante para definir el Label.\n",
    "\n",
    "\n",
    "- Observamos la **cantidad de pasajeros por clase**. Para ello agrupamos Pclass, junto con el Label. En este caso se usa el método **count()** que cuenta la cantidad de ejemplos por cada grupo\n"
   ]
  },
  {
   "cell_type": "code",
   "execution_count": 13,
   "id": "8202a185",
   "metadata": {},
   "outputs": [
    {
     "data": {
      "text/html": [
       "<div>\n",
       "<style scoped>\n",
       "    .dataframe tbody tr th:only-of-type {\n",
       "        vertical-align: middle;\n",
       "    }\n",
       "\n",
       "    .dataframe tbody tr th {\n",
       "        vertical-align: top;\n",
       "    }\n",
       "\n",
       "    .dataframe thead th {\n",
       "        text-align: right;\n",
       "    }\n",
       "</style>\n",
       "<table border=\"1\" class=\"dataframe\">\n",
       "  <thead>\n",
       "    <tr style=\"text-align: right;\">\n",
       "      <th></th>\n",
       "      <th>Survived</th>\n",
       "    </tr>\n",
       "    <tr>\n",
       "      <th>Pclass</th>\n",
       "      <th></th>\n",
       "    </tr>\n",
       "  </thead>\n",
       "  <tbody>\n",
       "    <tr>\n",
       "      <th>1</th>\n",
       "      <td>216</td>\n",
       "    </tr>\n",
       "    <tr>\n",
       "      <th>2</th>\n",
       "      <td>184</td>\n",
       "    </tr>\n",
       "    <tr>\n",
       "      <th>3</th>\n",
       "      <td>491</td>\n",
       "    </tr>\n",
       "  </tbody>\n",
       "</table>\n",
       "</div>"
      ],
      "text/plain": [
       "        Survived\n",
       "Pclass          \n",
       "1            216\n",
       "2            184\n",
       "3            491"
      ]
     },
     "execution_count": 13,
     "metadata": {},
     "output_type": "execute_result"
    }
   ],
   "source": [
    "titanic[['Pclass', 'Survived']].groupby('Pclass').count()"
   ]
  },
  {
   "cell_type": "markdown",
   "id": "7f3f85c4",
   "metadata": {},
   "source": [
    "#### Observaciones\n",
    "Total de pasajeros por clase:\n",
    "- **216** pasajeros de **1ra clase**\n",
    "- **184** pasajeros de **2da clase**\n",
    "- **491** pasajeros de **3ra clase**"
   ]
  },
  {
   "cell_type": "markdown",
   "id": "799b2945",
   "metadata": {},
   "source": [
    "- Observamos la **cantidad de sobrevivientes por clase**. En este caso se usa **sum()**, porque sumamos porque los valores del feature Survived tiene valores de 0 (no sobrevivio), y 1 (sobrevivio). Por lo tanto **sum()** nos dará la cantidad que sobrevivieron, sumando solo los unos.\n"
   ]
  },
  {
   "cell_type": "code",
   "execution_count": 14,
   "id": "329cbbd0",
   "metadata": {},
   "outputs": [
    {
     "data": {
      "text/html": [
       "<div>\n",
       "<style scoped>\n",
       "    .dataframe tbody tr th:only-of-type {\n",
       "        vertical-align: middle;\n",
       "    }\n",
       "\n",
       "    .dataframe tbody tr th {\n",
       "        vertical-align: top;\n",
       "    }\n",
       "\n",
       "    .dataframe thead th {\n",
       "        text-align: right;\n",
       "    }\n",
       "</style>\n",
       "<table border=\"1\" class=\"dataframe\">\n",
       "  <thead>\n",
       "    <tr style=\"text-align: right;\">\n",
       "      <th></th>\n",
       "      <th>Survived</th>\n",
       "    </tr>\n",
       "    <tr>\n",
       "      <th>Pclass</th>\n",
       "      <th></th>\n",
       "    </tr>\n",
       "  </thead>\n",
       "  <tbody>\n",
       "    <tr>\n",
       "      <th>1</th>\n",
       "      <td>136</td>\n",
       "    </tr>\n",
       "    <tr>\n",
       "      <th>2</th>\n",
       "      <td>87</td>\n",
       "    </tr>\n",
       "    <tr>\n",
       "      <th>3</th>\n",
       "      <td>119</td>\n",
       "    </tr>\n",
       "  </tbody>\n",
       "</table>\n",
       "</div>"
      ],
      "text/plain": [
       "        Survived\n",
       "Pclass          \n",
       "1            136\n",
       "2             87\n",
       "3            119"
      ]
     },
     "execution_count": 14,
     "metadata": {},
     "output_type": "execute_result"
    }
   ],
   "source": [
    "titanic[['Pclass', 'Survived']].groupby('Pclass').sum()"
   ]
  },
  {
   "cell_type": "markdown",
   "id": "efa128ec",
   "metadata": {},
   "source": [
    "#### Observaciones \n",
    "- **136** pasajeros **sobrevivieron de 1ra clase**\n",
    "- **87** pasajeros **sobrevivieron de 2da clase**\n",
    "- **119** pasajeros **sobrevivieron de 3ra clase**"
   ]
  },
  {
   "cell_type": "markdown",
   "id": "25a21aa0",
   "metadata": {},
   "source": [
    "### Análisis gráfico\n",
    "Ahora que vemos en números las cantidades de pasajeros de cada clase y los que sobrevivieron vamos a visualizar gráficamente estás estadísticas usando la librería matplotlib.\n",
    "\n",
    "\n",
    "- Analizamos **gráficamente la cantidad de pasajeros que sobrevivieron y cantidad de pasajeros que fallecieron**.\n"
   ]
  },
  {
   "cell_type": "code",
   "execution_count": 15,
   "id": "a6849169",
   "metadata": {},
   "outputs": [
    {
     "data": {
      "image/png": "[encoded data removed]",
      "text/plain": [
       "<Figure size 300x300 with 1 Axes>"
      ]
     },
     "metadata": {},
     "output_type": "display_data"
    }
   ],
   "source": [
    "# Fijamos el tamaño del grafico que va a contener los subgraficos \n",
    "plt.figure(figsize=(3,3))\n",
    "\n",
    "# El grafico es del tipo Bar (gráfico de Barras)\n",
    "figure=titanic.Survived.value_counts().plot(kind='bar')\n",
    "\n",
    "# Fijamos en 0 el valor de rotación de los ticks del eje x para su mejor visualización (por defecto es 90 grados)\n",
    "plt.xticks(rotation = 0)\n",
    "\n",
    "# Definimos los labels para cada eje\n",
    "figure.set_xlabel('Sobrevivió',fontsize=9)\n",
    "figure.set_ylabel('Cantidad de Pasajeros', fontsize=9)\n",
    "plt.show()"
   ]
  },
  {
   "cell_type": "markdown",
   "id": "4e81a28f",
   "metadata": {},
   "source": [
    "- Veamos ahora **gráficamente la cantidad de pasajeros en relación a los siguientes features**:\n",
    "    - Clase de la cabina\n",
    "    - Género\n",
    "    - Puerto de embarque\n",
    "    - Cant. de Hermanos y/o Esposos\n",
    "    - Cant. de Padres y/o Hijos"
   ]
  },
  {
   "cell_type": "code",
   "execution_count": 17,
   "id": "e76ce759",
   "metadata": {},
   "outputs": [
    {
     "data": {
      "image/png": "[encoded data removed]",
      "text/plain": [
       "<Figure size 1000x700 with 5 Axes>"
      ]
     },
     "metadata": {},
     "output_type": "display_data"
    }
   ],
   "source": [
    "# Fijamos el tamaño del grafico que va a contener los subgraficos \n",
    "plt.figure(figsize=(10,7))\n",
    "\n",
    "# Grafico 1: Cantidad de pasajeros vs. Clase\n",
    "# Con plt.subplot() Ubicamos el primer gráfico (el primer y segundo argumento de subplot define el tamaño \n",
    "# de la grilla que contiene los subgraficos, en este caso 2x3). El ultimo argumento define el indice donde \n",
    "# ira ubicado el grafico. En este caso es el primero (arriba a la izquierda)\n",
    "plt.subplot(2,3,1)\n",
    "figure = titanic.Pclass.value_counts().sort_index().plot(kind='bar', title='')\n",
    "plt.xticks(rotation = 0)\n",
    "figure.set_xlabel('Clase',fontsize=9)\n",
    "figure.set_ylabel('Cantidad de Pasajeros', fontsize=9)\n",
    "\n",
    "# Grafico 2: Cantidad de pasajeros vs. Género\n",
    "plt.subplot(2,3,2)\n",
    "figure = titanic.Sex.value_counts().sort_index().plot(kind='bar')\n",
    "plt.xticks(rotation = 0)\n",
    "figure.set_xlabel('Género',fontsize=9)\n",
    "figure.set_ylabel('Cantidad de Pasajeros',fontsize=9)\n",
    "\n",
    "# Grafico 3: Cantidad de pasajeros vs. Puerto de embarque\n",
    "plt.subplot(2,3,3)\n",
    "figure = titanic.Embarked.value_counts().sort_index().plot(kind='bar')\n",
    "plt.xticks(rotation = 0)\n",
    "figure.set_xlabel('Puerto de embarque',fontsize=9)\n",
    "figure.set_ylabel('Cantidad de Pasajeros',fontsize=9)\n",
    "\n",
    "# Grafico 4: Cantidad de pasajeros vs. Cant. de Hermanos y/o Esposos\n",
    "plt.subplot(2,3,4)\n",
    "figure = titanic.SibSp.value_counts().sort_index().plot(kind='bar')\n",
    "plt.xticks(rotation = 0)\n",
    "figure.set_xlabel('Cant. de Hermanos y/o Esposos',fontsize=9)\n",
    "figure.set_ylabel('Cantidad de Pasajeros',fontsize=9)\n",
    "\n",
    "# Grafico 5: Cantidad de pasajeros vs. Cant. de Padres y/o Hijos\n",
    "plt.subplot(2,3,5)\n",
    "figure = titanic.Parch.value_counts().sort_index().plot(kind='bar')\n",
    "plt.xticks(rotation = 0)\n",
    "figure.set_xlabel('Cant. de Padres y/o Hijos',fontsize=9)\n",
    "figure.set_ylabel('Cantidad de Pasajeros',fontsize=9)\n",
    "\n",
    "# Dejamos espacio entre los graficos para mayor legibilidad\n",
    "plt.tight_layout(pad=2.0)\n",
    "plt.show()"
   ]
  },
  {
   "cell_type": "markdown",
   "id": "7a7e6bca",
   "metadata": {},
   "source": [
    "Puntualmente lo que nos interesa es observar la **probabilidad de sobrevivir segun cada feature**. Analicemos esto según los siguientes features:\n",
    "- Clase de la cabina\n",
    "- Género\n",
    "- Puerto de embarque\n",
    "- Cant. de Hermanos y/o Esposos\n",
    "- Cant. de Padres y/o Hijos"
   ]
  },
  {
   "cell_type": "code",
   "execution_count": 18,
   "id": "647fcc19",
   "metadata": {},
   "outputs": [
    {
     "data": {
      "image/png": "[encoded data removed]",
      "text/plain": [
       "<Figure size 1000x700 with 5 Axes>"
      ]
     },
     "metadata": {},
     "output_type": "display_data"
    }
   ],
   "source": [
    "# Vemos gráficamente la probabilidad de sobrevivir en relación a otros features\n",
    "plt.figure(figsize=(10,7))\n",
    "\n",
    "# Grafico 1: Probabilidad de Sobrevivir vs. Clase\n",
    "plt.subplot(2,3,1)\n",
    "figure = titanic[['Pclass', 'Survived']].groupby('Pclass').mean().Survived.plot(kind='bar')\n",
    "plt.xticks(rotation = 0)\n",
    "figure.set_xlabel('Clase',fontsize=9)\n",
    "figure.set_ylabel('Probabilidad de Sobrevivir',fontsize=9)\n",
    "\n",
    "# Grafico 2: Probabilidad de Sobrevivir vs. Género\n",
    "plt.subplot(2,3,2)\n",
    "figure = titanic[['Sex', 'Survived']].groupby('Sex').mean().Survived.plot(kind='bar')\n",
    "plt.xticks(rotation = 0)\n",
    "figure.set_xlabel('Género',fontsize=9)\n",
    "figure.set_ylabel('Probabilidad de Sobrevivir',fontsize=9)\n",
    "\n",
    "# Grafico 3: Probabilidad de Sobrevivir vs. Puerto de embarque\n",
    "plt.subplot(2,3,3)\n",
    "figure = titanic[['Embarked', 'Survived']].groupby('Embarked').mean().Survived.plot(kind='bar')\n",
    "plt.xticks(rotation = 0)\n",
    "figure.set_xlabel('Puerto de embarque',fontsize=9)\n",
    "figure.set_ylabel('Probabilidad de Sobrevivir',fontsize=9)\n",
    "\n",
    "# Grafico 4: Probabilidad de Sobrevivir vs. Cant. de Hermanos y/o Esposos\n",
    "plt.subplot(2,3,4)\n",
    "figure = titanic[['SibSp', 'Survived']].groupby('SibSp').mean().Survived.plot(kind='bar')\n",
    "plt.xticks(rotation = 0)\n",
    "figure.set_xlabel('Cant. de Hermanos y/o Esposos',fontsize=9)\n",
    "figure.set_ylabel('Probabilidad de Sobrevivir',fontsize=9)\n",
    "\n",
    "# Grafico 5: Probabilidad de Sobrevivir vs. Cant. de Padres y/o Hijos\n",
    "plt.subplot(2,3,5)\n",
    "figure = titanic[['Parch', 'Survived']].groupby('Parch').mean().Survived.plot(kind='bar')\n",
    "plt.xticks(rotation = 0)\n",
    "figure.set_xlabel('Cant. de Padres y/o Hijos',fontsize=9)\n",
    "figure.set_ylabel('Probabilidad de Sobrevivir',fontsize=9)\n",
    "\n",
    "plt.tight_layout(pad=2.0)\n",
    "plt.show()"
   ]
  },
  {
   "cell_type": "markdown",
   "id": "45ce250e",
   "metadata": {},
   "source": [
    "### Feature Selection\n",
    "Luego de haber analizado gráficamente algunas combinaciones de features vamos a hacer **selección de features**.\n",
    "Para ello, eliminamos  aquellos que tienen muchos valores faltantes o aquellos que no consideramos de utilidad para el problema:\n",
    "- **Cabin** se elimina porque tiene demasiados valores faltantes\n",
    "- **Ticket** (Id de ticket) se elimina por no considerarse relevante \n",
    "\n",
    "Con el método **drop** podemos eliminar filas o columnas. Para borrar columnas se pasa como parámetro: axis=1.\n",
    "\n",
    "<font color='red'>**IMPORTANTE:**</font> Una vez que se ejecutó esta celda, si se vuelve a ejecutar arrojará error, porque las columnas ya fueron eliminadas del DataFrame."
   ]
  },
  {
   "cell_type": "code",
   "execution_count": 19,
   "id": "a8a452d8",
   "metadata": {},
   "outputs": [
    {
     "data": {
      "text/html": [
       "<div>\n",
       "<style scoped>\n",
       "    .dataframe tbody tr th:only-of-type {\n",
       "        vertical-align: middle;\n",
       "    }\n",
       "\n",
       "    .dataframe tbody tr th {\n",
       "        vertical-align: top;\n",
       "    }\n",
       "\n",
       "    .dataframe thead th {\n",
       "        text-align: right;\n",
       "    }\n",
       "</style>\n",
       "<table border=\"1\" class=\"dataframe\">\n",
       "  <thead>\n",
       "    <tr style=\"text-align: right;\">\n",
       "      <th></th>\n",
       "      <th>Survived</th>\n",
       "      <th>Pclass</th>\n",
       "      <th>Name</th>\n",
       "      <th>Sex</th>\n",
       "      <th>Age</th>\n",
       "      <th>SibSp</th>\n",
       "      <th>Parch</th>\n",
       "      <th>Fare</th>\n",
       "      <th>Embarked</th>\n",
       "    </tr>\n",
       "    <tr>\n",
       "      <th>PassengerId</th>\n",
       "      <th></th>\n",
       "      <th></th>\n",
       "      <th></th>\n",
       "      <th></th>\n",
       "      <th></th>\n",
       "      <th></th>\n",
       "      <th></th>\n",
       "      <th></th>\n",
       "      <th></th>\n",
       "    </tr>\n",
       "  </thead>\n",
       "  <tbody>\n",
       "    <tr>\n",
       "      <th>1</th>\n",
       "      <td>0</td>\n",
       "      <td>3</td>\n",
       "      <td>Braund, Mr. Owen Harris</td>\n",
       "      <td>male</td>\n",
       "      <td>22.0</td>\n",
       "      <td>1</td>\n",
       "      <td>0</td>\n",
       "      <td>7.2500</td>\n",
       "      <td>S</td>\n",
       "    </tr>\n",
       "    <tr>\n",
       "      <th>2</th>\n",
       "      <td>1</td>\n",
       "      <td>1</td>\n",
       "      <td>Cumings, Mrs. John Bradley (Florence Briggs Th...</td>\n",
       "      <td>female</td>\n",
       "      <td>38.0</td>\n",
       "      <td>1</td>\n",
       "      <td>0</td>\n",
       "      <td>71.2833</td>\n",
       "      <td>C</td>\n",
       "    </tr>\n",
       "    <tr>\n",
       "      <th>3</th>\n",
       "      <td>1</td>\n",
       "      <td>3</td>\n",
       "      <td>Heikkinen, Miss. Laina</td>\n",
       "      <td>female</td>\n",
       "      <td>26.0</td>\n",
       "      <td>0</td>\n",
       "      <td>0</td>\n",
       "      <td>7.9250</td>\n",
       "      <td>S</td>\n",
       "    </tr>\n",
       "    <tr>\n",
       "      <th>4</th>\n",
       "      <td>1</td>\n",
       "      <td>1</td>\n",
       "      <td>Futrelle, Mrs. Jacques Heath (Lily May Peel)</td>\n",
       "      <td>female</td>\n",
       "      <td>35.0</td>\n",
       "      <td>1</td>\n",
       "      <td>0</td>\n",
       "      <td>53.1000</td>\n",
       "      <td>S</td>\n",
       "    </tr>\n",
       "    <tr>\n",
       "      <th>5</th>\n",
       "      <td>0</td>\n",
       "      <td>3</td>\n",
       "      <td>Allen, Mr. William Henry</td>\n",
       "      <td>male</td>\n",
       "      <td>35.0</td>\n",
       "      <td>0</td>\n",
       "      <td>0</td>\n",
       "      <td>8.0500</td>\n",
       "      <td>S</td>\n",
       "    </tr>\n",
       "  </tbody>\n",
       "</table>\n",
       "</div>"
      ],
      "text/plain": [
       "             Survived  Pclass  \\\n",
       "PassengerId                     \n",
       "1                   0       3   \n",
       "2                   1       1   \n",
       "3                   1       3   \n",
       "4                   1       1   \n",
       "5                   0       3   \n",
       "\n",
       "                                                          Name     Sex   Age  \\\n",
       "PassengerId                                                                    \n",
       "1                                      Braund, Mr. Owen Harris    male  22.0   \n",
       "2            Cumings, Mrs. John Bradley (Florence Briggs Th...  female  38.0   \n",
       "3                                       Heikkinen, Miss. Laina  female  26.0   \n",
       "4                 Futrelle, Mrs. Jacques Heath (Lily May Peel)  female  35.0   \n",
       "5                                     Allen, Mr. William Henry    male  35.0   \n",
       "\n",
       "             SibSp  Parch     Fare Embarked  \n",
       "PassengerId                                  \n",
       "1                1      0   7.2500        S  \n",
       "2                1      0  71.2833        C  \n",
       "3                0      0   7.9250        S  \n",
       "4                1      0  53.1000        S  \n",
       "5                0      0   8.0500        S  "
      ]
     },
     "execution_count": 19,
     "metadata": {},
     "output_type": "execute_result"
    }
   ],
   "source": [
    "titanic = titanic.drop(['Ticket', 'Cabin'], axis=1)\n",
    "titanic.head()"
   ]
  },
  {
   "cell_type": "markdown",
   "id": "773302aa",
   "metadata": {},
   "source": [
    "### Extracción de Features\n",
    "Una forma de hacer extracción de features es manualmente crear nuevas features con algunas existentes en el dataset en este caso vamos a crear dos features nuevas:\n",
    "- **FamilySize**, que es una combinación de **SibSp** (cantidad de hermanos y/o esposa/o) y **Parch** (cantidad de padres y/o hijos) \n",
    "- **Title**, para la cual extraeremos del feature **Name** el título social del pasajero (el nombre lo descartamos porque consideramos que no aporta información relevante)"
   ]
  },
  {
   "cell_type": "code",
   "execution_count": 20,
   "id": "f9caac7e",
   "metadata": {},
   "outputs": [
    {
     "data": {
      "text/html": [
       "<div>\n",
       "<style scoped>\n",
       "    .dataframe tbody tr th:only-of-type {\n",
       "        vertical-align: middle;\n",
       "    }\n",
       "\n",
       "    .dataframe tbody tr th {\n",
       "        vertical-align: top;\n",
       "    }\n",
       "\n",
       "    .dataframe thead th {\n",
       "        text-align: right;\n",
       "    }\n",
       "</style>\n",
       "<table border=\"1\" class=\"dataframe\">\n",
       "  <thead>\n",
       "    <tr style=\"text-align: right;\">\n",
       "      <th></th>\n",
       "      <th>Survived</th>\n",
       "      <th>Pclass</th>\n",
       "      <th>Name</th>\n",
       "      <th>Sex</th>\n",
       "      <th>Age</th>\n",
       "      <th>SibSp</th>\n",
       "      <th>Parch</th>\n",
       "      <th>Fare</th>\n",
       "      <th>Embarked</th>\n",
       "      <th>FamilySize</th>\n",
       "    </tr>\n",
       "    <tr>\n",
       "      <th>PassengerId</th>\n",
       "      <th></th>\n",
       "      <th></th>\n",
       "      <th></th>\n",
       "      <th></th>\n",
       "      <th></th>\n",
       "      <th></th>\n",
       "      <th></th>\n",
       "      <th></th>\n",
       "      <th></th>\n",
       "      <th></th>\n",
       "    </tr>\n",
       "  </thead>\n",
       "  <tbody>\n",
       "    <tr>\n",
       "      <th>1</th>\n",
       "      <td>0</td>\n",
       "      <td>3</td>\n",
       "      <td>Braund, Mr. Owen Harris</td>\n",
       "      <td>male</td>\n",
       "      <td>22.0</td>\n",
       "      <td>1</td>\n",
       "      <td>0</td>\n",
       "      <td>7.2500</td>\n",
       "      <td>S</td>\n",
       "      <td>2</td>\n",
       "    </tr>\n",
       "    <tr>\n",
       "      <th>2</th>\n",
       "      <td>1</td>\n",
       "      <td>1</td>\n",
       "      <td>Cumings, Mrs. John Bradley (Florence Briggs Th...</td>\n",
       "      <td>female</td>\n",
       "      <td>38.0</td>\n",
       "      <td>1</td>\n",
       "      <td>0</td>\n",
       "      <td>71.2833</td>\n",
       "      <td>C</td>\n",
       "      <td>2</td>\n",
       "    </tr>\n",
       "    <tr>\n",
       "      <th>3</th>\n",
       "      <td>1</td>\n",
       "      <td>3</td>\n",
       "      <td>Heikkinen, Miss. Laina</td>\n",
       "      <td>female</td>\n",
       "      <td>26.0</td>\n",
       "      <td>0</td>\n",
       "      <td>0</td>\n",
       "      <td>7.9250</td>\n",
       "      <td>S</td>\n",
       "      <td>1</td>\n",
       "    </tr>\n",
       "    <tr>\n",
       "      <th>4</th>\n",
       "      <td>1</td>\n",
       "      <td>1</td>\n",
       "      <td>Futrelle, Mrs. Jacques Heath (Lily May Peel)</td>\n",
       "      <td>female</td>\n",
       "      <td>35.0</td>\n",
       "      <td>1</td>\n",
       "      <td>0</td>\n",
       "      <td>53.1000</td>\n",
       "      <td>S</td>\n",
       "      <td>2</td>\n",
       "    </tr>\n",
       "    <tr>\n",
       "      <th>5</th>\n",
       "      <td>0</td>\n",
       "      <td>3</td>\n",
       "      <td>Allen, Mr. William Henry</td>\n",
       "      <td>male</td>\n",
       "      <td>35.0</td>\n",
       "      <td>0</td>\n",
       "      <td>0</td>\n",
       "      <td>8.0500</td>\n",
       "      <td>S</td>\n",
       "      <td>1</td>\n",
       "    </tr>\n",
       "  </tbody>\n",
       "</table>\n",
       "</div>"
      ],
      "text/plain": [
       "             Survived  Pclass  \\\n",
       "PassengerId                     \n",
       "1                   0       3   \n",
       "2                   1       1   \n",
       "3                   1       3   \n",
       "4                   1       1   \n",
       "5                   0       3   \n",
       "\n",
       "                                                          Name     Sex   Age  \\\n",
       "PassengerId                                                                    \n",
       "1                                      Braund, Mr. Owen Harris    male  22.0   \n",
       "2            Cumings, Mrs. John Bradley (Florence Briggs Th...  female  38.0   \n",
       "3                                       Heikkinen, Miss. Laina  female  26.0   \n",
       "4                 Futrelle, Mrs. Jacques Heath (Lily May Peel)  female  35.0   \n",
       "5                                     Allen, Mr. William Henry    male  35.0   \n",
       "\n",
       "             SibSp  Parch     Fare Embarked  FamilySize  \n",
       "PassengerId                                              \n",
       "1                1      0   7.2500        S           2  \n",
       "2                1      0  71.2833        C           2  \n",
       "3                0      0   7.9250        S           1  \n",
       "4                1      0  53.1000        S           2  \n",
       "5                0      0   8.0500        S           1  "
      ]
     },
     "execution_count": 20,
     "metadata": {},
     "output_type": "execute_result"
    }
   ],
   "source": [
    "# FamilySize se compone de la cantidad de parientes en el barco + 1 (el pasajero del ejemplo)\n",
    "titanic['FamilySize'] = titanic['SibSp'] + titanic['Parch'] + 1\n",
    "titanic.head()"
   ]
  },
  {
   "cell_type": "code",
   "execution_count": 21,
   "id": "cc411f4d",
   "metadata": {},
   "outputs": [
    {
     "data": {
      "text/html": [
       "<div>\n",
       "<style scoped>\n",
       "    .dataframe tbody tr th:only-of-type {\n",
       "        vertical-align: middle;\n",
       "    }\n",
       "\n",
       "    .dataframe tbody tr th {\n",
       "        vertical-align: top;\n",
       "    }\n",
       "\n",
       "    .dataframe thead th {\n",
       "        text-align: right;\n",
       "    }\n",
       "</style>\n",
       "<table border=\"1\" class=\"dataframe\">\n",
       "  <thead>\n",
       "    <tr style=\"text-align: right;\">\n",
       "      <th></th>\n",
       "      <th>Survived</th>\n",
       "      <th>Pclass</th>\n",
       "      <th>Sex</th>\n",
       "      <th>Age</th>\n",
       "      <th>SibSp</th>\n",
       "      <th>Parch</th>\n",
       "      <th>Fare</th>\n",
       "      <th>Embarked</th>\n",
       "      <th>FamilySize</th>\n",
       "      <th>Title</th>\n",
       "    </tr>\n",
       "    <tr>\n",
       "      <th>PassengerId</th>\n",
       "      <th></th>\n",
       "      <th></th>\n",
       "      <th></th>\n",
       "      <th></th>\n",
       "      <th></th>\n",
       "      <th></th>\n",
       "      <th></th>\n",
       "      <th></th>\n",
       "      <th></th>\n",
       "      <th></th>\n",
       "    </tr>\n",
       "  </thead>\n",
       "  <tbody>\n",
       "    <tr>\n",
       "      <th>1</th>\n",
       "      <td>0</td>\n",
       "      <td>3</td>\n",
       "      <td>male</td>\n",
       "      <td>22.0</td>\n",
       "      <td>1</td>\n",
       "      <td>0</td>\n",
       "      <td>7.2500</td>\n",
       "      <td>S</td>\n",
       "      <td>2</td>\n",
       "      <td>Mr</td>\n",
       "    </tr>\n",
       "    <tr>\n",
       "      <th>2</th>\n",
       "      <td>1</td>\n",
       "      <td>1</td>\n",
       "      <td>female</td>\n",
       "      <td>38.0</td>\n",
       "      <td>1</td>\n",
       "      <td>0</td>\n",
       "      <td>71.2833</td>\n",
       "      <td>C</td>\n",
       "      <td>2</td>\n",
       "      <td>Mrs</td>\n",
       "    </tr>\n",
       "    <tr>\n",
       "      <th>3</th>\n",
       "      <td>1</td>\n",
       "      <td>3</td>\n",
       "      <td>female</td>\n",
       "      <td>26.0</td>\n",
       "      <td>0</td>\n",
       "      <td>0</td>\n",
       "      <td>7.9250</td>\n",
       "      <td>S</td>\n",
       "      <td>1</td>\n",
       "      <td>Miss</td>\n",
       "    </tr>\n",
       "    <tr>\n",
       "      <th>4</th>\n",
       "      <td>1</td>\n",
       "      <td>1</td>\n",
       "      <td>female</td>\n",
       "      <td>35.0</td>\n",
       "      <td>1</td>\n",
       "      <td>0</td>\n",
       "      <td>53.1000</td>\n",
       "      <td>S</td>\n",
       "      <td>2</td>\n",
       "      <td>Mrs</td>\n",
       "    </tr>\n",
       "    <tr>\n",
       "      <th>5</th>\n",
       "      <td>0</td>\n",
       "      <td>3</td>\n",
       "      <td>male</td>\n",
       "      <td>35.0</td>\n",
       "      <td>0</td>\n",
       "      <td>0</td>\n",
       "      <td>8.0500</td>\n",
       "      <td>S</td>\n",
       "      <td>1</td>\n",
       "      <td>Mr</td>\n",
       "    </tr>\n",
       "  </tbody>\n",
       "</table>\n",
       "</div>"
      ],
      "text/plain": [
       "             Survived  Pclass     Sex   Age  SibSp  Parch     Fare Embarked  \\\n",
       "PassengerId                                                                   \n",
       "1                   0       3    male  22.0      1      0   7.2500        S   \n",
       "2                   1       1  female  38.0      1      0  71.2833        C   \n",
       "3                   1       3  female  26.0      0      0   7.9250        S   \n",
       "4                   1       1  female  35.0      1      0  53.1000        S   \n",
       "5                   0       3    male  35.0      0      0   8.0500        S   \n",
       "\n",
       "             FamilySize Title  \n",
       "PassengerId                    \n",
       "1                     2    Mr  \n",
       "2                     2   Mrs  \n",
       "3                     1  Miss  \n",
       "4                     2   Mrs  \n",
       "5                     1    Mr  "
      ]
     },
     "execution_count": 21,
     "metadata": {},
     "output_type": "execute_result"
    }
   ],
   "source": [
    "# Para crear Title se extrae el título social del nombre del pasajero\n",
    "titanic['Title'] = titanic.Name.str.extract(' ([A-Za-z]+)\\.', expand=False)\n",
    "\n",
    "# Se elimina el feature Name\n",
    "titanic = titanic.drop(columns='Name')\n",
    "titanic.head()"
   ]
  },
  {
   "cell_type": "markdown",
   "id": "e917e075",
   "metadata": {},
   "source": [
    "- Vemos graficamente como quedó el feature **Title**"
   ]
  },
  {
   "cell_type": "code",
   "execution_count": 22,
   "id": "fac72205",
   "metadata": {},
   "outputs": [
    {
     "data": {
      "image/png": "[encoded data removed]",
      "text/plain": [
       "<Figure size 2000x500 with 1 Axes>"
      ]
     },
     "metadata": {},
     "output_type": "display_data"
    }
   ],
   "source": [
    "plt.figure(figsize=(20,5))\n",
    "figure = titanic.Title.value_counts().plot(kind='bar')\n",
    "plt.xticks(rotation=0, fontsize=12)\n",
    "figure.set_xlabel('Título',fontsize=14)\n",
    "figure.set_ylabel('Cantidad de pasajeros',fontsize=14)\n",
    "plt.show()"
   ]
  },
  {
   "cell_type": "markdown",
   "id": "608138cf",
   "metadata": {},
   "source": [
    "- Como tenemos demasiadas clases con pocos ejemplos vamos a combinar algunas de ellas y agrupar a los casos de títulos atípicos en \"Others_titles\". Además corregimos algunos errores.\n"
   ]
  },
  {
   "cell_type": "code",
   "execution_count": null,
   "id": "3f529fc8",
   "metadata": {},
   "outputs": [],
   "source": [
    "# Agrupamos los titulos atipicos en \"Others_Titles\"\n",
    "titanic['Title'] = titanic['Title'].replace(['Dr', 'Rev', 'Col', 'Major', 'Countess', 'Sir', 'Jonkheer', 'Lady', 'Capt', 'Don'], 'Others_Titles')\n",
    "\n",
    "# Corregimos errores para unificar\n",
    "titanic['Title'] = titanic['Title'].replace('Ms', 'Miss')\n",
    "titanic['Title'] = titanic['Title'].replace('Mme', 'Mrs')\n",
    "titanic['Title'] = titanic['Title'].replace('Mlle', 'Miss')\n",
    "titanic.head()\n"
   ]
  },
  {
   "cell_type": "markdown",
   "id": "b3770e1f",
   "metadata": {},
   "source": [
    "- Vemos graficamente como quedó el feature **Title** en relación a la cantidad de pasajeros\n"
   ]
  },
  {
   "cell_type": "code",
   "execution_count": null,
   "id": "7c934260",
   "metadata": {},
   "outputs": [],
   "source": [
    "plt.figure(figsize=(5,3))\n",
    "figure = titanic.Title.value_counts().sort_index().plot(kind='bar')\n",
    "plt.xticks(rotation=0, fontsize=12)\n",
    "figure.set_xlabel('Title', fontsize=12)\n",
    "figure.set_ylabel('Cantidad de pasajeros', fontsize=12)\n",
    "plt.show()"
   ]
  },
  {
   "cell_type": "markdown",
   "id": "0ce2b014",
   "metadata": {},
   "source": [
    "- Vemos graficamente como quedó el feature **Title** en relación a la probabilidad de sobrevivir.\n"
   ]
  },
  {
   "cell_type": "code",
   "execution_count": null,
   "id": "46d37cff",
   "metadata": {},
   "outputs": [],
   "source": [
    "plt.figure(figsize=(5,3))\n",
    "figure = titanic[['Title', 'Survived']].groupby('Title').mean().Survived.plot(kind='bar')\n",
    "figure.set_xlabel('Title', fontsize=12)\n",
    "figure.set_ylabel('Probabilidad de Sobrevivir', fontsize=12)\n",
    "plt.show()"
   ]
  },
  {
   "cell_type": "markdown",
   "id": "15e18042",
   "metadata": {},
   "source": [
    "### Manejo de valores faltantes:  Age y Embarked\n",
    "\n",
    "Analicemos ahora los features con valores faltantes: **Age** y **Embarked**\n",
    "\n",
    "Comenzamos observando los valores faltantes del feature **Age**"
   ]
  },
  {
   "cell_type": "code",
   "execution_count": null,
   "id": "7e245e33",
   "metadata": {},
   "outputs": [],
   "source": [
    "titanic['Age'].isnull().sum()"
   ]
  },
  {
   "cell_type": "markdown",
   "id": "a02ca1e9",
   "metadata": {},
   "source": [
    "En el caso de **Age** vamos a llenar los valores faltantes con la edad promedio de las personas que no sobrevivieron"
   ]
  },
  {
   "cell_type": "code",
   "execution_count": null,
   "id": "99c76d27",
   "metadata": {},
   "outputs": [],
   "source": [
    "# Buscamos la edad promedio de los pasajeros que no sobrevivieron\n",
    "titanic['Age'] = titanic.Age.fillna(titanic[titanic.Survived==0].Age.mean())"
   ]
  },
  {
   "cell_type": "markdown",
   "id": "3e2eb6a3",
   "metadata": {},
   "source": [
    "Observamos los valores faltantes del feature **Embarked**"
   ]
  },
  {
   "cell_type": "code",
   "execution_count": null,
   "id": "d0273c90",
   "metadata": {},
   "outputs": [],
   "source": [
    "# Cantidad de valores faltantes de Embarked\n",
    "titanic['Embarked'].isnull().sum()"
   ]
  },
  {
   "cell_type": "markdown",
   "id": "378567c7",
   "metadata": {},
   "source": [
    "Analizamos estadísticamente el feature **Embarked**"
   ]
  },
  {
   "cell_type": "code",
   "execution_count": null,
   "id": "6a1b5b1d",
   "metadata": {},
   "outputs": [],
   "source": [
    "# Analizamos estadisticamente el feature Embarked\n",
    "titanic['Embarked'].describe()"
   ]
  },
  {
   "cell_type": "markdown",
   "id": "66ed79ab",
   "metadata": {},
   "source": [
    "#### Observaciones:\n",
    "- Vemos que de los 889 valores, hay **3 clases únicas** y la que más se repite es el puerto de **S** (Southampton). Vamos a usar este valor para completar los faltantes"
   ]
  },
  {
   "cell_type": "code",
   "execution_count": null,
   "id": "bfea1b34",
   "metadata": {},
   "outputs": [],
   "source": [
    "common_value = 'S'\n",
    "titanic['Embarked'] = titanic['Embarked'].fillna(common_value)\n",
    "titanic.head()"
   ]
  },
  {
   "cell_type": "markdown",
   "id": "d9e9b225",
   "metadata": {},
   "source": [
    "Observamos nuevamente la **cantidad valores nulos** por cada feature para confirmar que completamos todos."
   ]
  },
  {
   "cell_type": "code",
   "execution_count": null,
   "id": "dc74cde7",
   "metadata": {},
   "outputs": [],
   "source": [
    "titanic.isnull().sum()"
   ]
  },
  {
   "cell_type": "markdown",
   "id": "cd2652b9",
   "metadata": {},
   "source": [
    "### Manejo de features categóricos:  Sex, Embarked, Pclass y Title"
   ]
  },
  {
   "cell_type": "markdown",
   "id": "50041ca0",
   "metadata": {},
   "source": [
    "La mayoría de los algoritmos de ML no pueden manejar datos categóricos, es por ello que hay que transformarlos en valores numéricos. \n",
    "\n",
    "Analicemos los features categóricos presentes en el dataset. Para la visualización de features categóricos la librería Seaborn ofrece un gráfico, conocido como **catplot()**, que permite comparar valores categóricos en tan sólo una línea de código.\n",
    "\n",
    "Analicemos todos los pares de features categóricos del dataset (algunos ofrecen más información que otros)\n"
   ]
  },
  {
   "cell_type": "code",
   "execution_count": null,
   "id": "a6983fb5",
   "metadata": {},
   "outputs": [],
   "source": [
    "sns.set(font_scale=1)\n",
    "\n",
    "# Combinamos todos los pares de features categóricos\n",
    "sns.catplot(x='Sex', col = 'Embarked', data = titanic, kind = 'count', height=3)\n",
    "sns.catplot(x='Sex', col = 'Pclass', data = titanic, kind = 'count', height=3)\n",
    "sns.catplot(x='Sex', col = 'Title', data = titanic, kind = 'count', height=3)\n",
    "\n",
    "sns.catplot(x='Embarked', col='Pclass', data=titanic, kind='count', height=3)\n",
    "sns.catplot(x='Embarked', col='Title', data=titanic, kind='count', height=3)\n",
    "\n",
    "sns.catplot(x='Pclass', col='Title', data=titanic, kind='count', height=3)\n"
   ]
  },
  {
   "cell_type": "markdown",
   "id": "b24253cd",
   "metadata": {},
   "source": [
    "### One-hot encoding \n",
    "Lo primero que vamos a hacer para el manejo de features categóricos es utilizar la técnica de one-hot encoding para **Sex**, **Embarked** y **Title**.\n",
    "\n",
    "El método get_dummies de pandas nos simplifica la tarea de hacer one-hot encoding en valores categóricos. El primer parámetro define el nombre del feature categórico. Este método va a generar una nueva columna por cada valor categórico del feature (por ejemplo, para el feature Sex va a generar dos nuevas columnas en el dataset: Female y Male).\n",
    "\n",
    "Primero, hacemos one-hot encoding para el feature **Sex**."
   ]
  },
  {
   "cell_type": "code",
   "execution_count": null,
   "id": "293c2a72",
   "metadata": {},
   "outputs": [],
   "source": [
    "male_female_df = pd.get_dummies(titanic.Sex)\n",
    "\n",
    "# Renombramos las columnas generadas para unificar formato con el resto\n",
    "male_female_df.rename(columns = {'male':'Male', 'female':'Female'}, inplace = True)\n",
    "\n",
    "# Concatenamos las nuevas columnas a nuestro dataset\n",
    "titanic = pd.concat([titanic, male_female_df], axis=1)\n",
    "\n",
    "titanic.head()"
   ]
  },
  {
   "cell_type": "markdown",
   "id": "85acc298",
   "metadata": {},
   "source": [
    "Ahora, realizamos one-hot encoding con el feature **Embarked**\n"
   ]
  },
  {
   "cell_type": "code",
   "execution_count": null,
   "id": "81b365db",
   "metadata": {},
   "outputs": [],
   "source": [
    "embarked_df = pd.get_dummies(titanic.Embarked, prefix='Embarked')\n",
    "titanic = pd.concat([titanic, embarked_df], axis=1)\n",
    "titanic.head()"
   ]
  },
  {
   "cell_type": "markdown",
   "id": "0cc0d6f1",
   "metadata": {},
   "source": [
    "Finalmente, realizamos one-hot encoding en el feature **Title**\n"
   ]
  },
  {
   "cell_type": "code",
   "execution_count": null,
   "id": "3a7853d9",
   "metadata": {},
   "outputs": [],
   "source": [
    "title_df = pd.get_dummies(titanic.Title)\n",
    "titanic = pd.concat([titanic, title_df], axis=1)\n",
    "titanic.head()"
   ]
  },
  {
   "cell_type": "markdown",
   "id": "f7221819",
   "metadata": {},
   "source": [
    "Eliminamos los features categóricos convertidos a numéricos: **Embarked, Title y Sex**"
   ]
  },
  {
   "cell_type": "code",
   "execution_count": null,
   "id": "2aaab6d2",
   "metadata": {},
   "outputs": [],
   "source": [
    "titanic = titanic.drop(columns='Embarked')\n",
    "titanic = titanic.drop(columns='Title')\n",
    "titanic = titanic.drop(columns='Sex')"
   ]
  },
  {
   "cell_type": "markdown",
   "id": "48c1c0cd",
   "metadata": {},
   "source": [
    "### Análisis de Correlación\n",
    "\n",
    "Por último, vamos a realizar un **análisis de correlación entre los distintos features numéricos buscando features innecesarios por estar altamente correlacionados con otros**. \n",
    "Además podemos observar cuales son los features que mayor correlación presentan con el Label"
   ]
  },
  {
   "cell_type": "code",
   "execution_count": null,
   "id": "4614c4cb",
   "metadata": {},
   "outputs": [],
   "source": [
    "corr_matrix = titanic.corr(numeric_only=True)\n",
    "plt.figure(figsize=(20, 20))\n",
    "sns.heatmap(data = corr_matrix,cmap='BrBG', annot=True, linewidths=0.2)\n",
    "plt.show()"
   ]
  },
  {
   "cell_type": "markdown",
   "id": "e791c380",
   "metadata": {},
   "source": [
    "Como es de esperar **SibSp y Parch** estan altamente correlacionados con el feature creado **FamilySize**. \n",
    "Es por ello que vamos a eliminar estos features y dejamos solamente el feature creado por nosotros."
   ]
  },
  {
   "cell_type": "code",
   "execution_count": null,
   "id": "d099d73f",
   "metadata": {},
   "outputs": [],
   "source": [
    "titanic = titanic.drop(columns=['SibSp', 'Parch'])"
   ]
  },
  {
   "cell_type": "code",
   "execution_count": null,
   "id": "72fdf420",
   "metadata": {},
   "outputs": [],
   "source": [
    "titanic.head()"
   ]
  },
  {
   "cell_type": "markdown",
   "id": "1b35bf73",
   "metadata": {},
   "source": [
    "Al final del preprocesamiento tenemos un dataset con todos features numéricos lo que nos va a permitir utilizar la mayoría de las técnicas de Machine Learning.\n",
    "\n",
    "Ahora que tenemos un dataset preprocesado podemos dividirlo en dataset de features (X) y dataset de labels (y)"
   ]
  },
  {
   "cell_type": "code",
   "execution_count": null,
   "id": "ba84d0f9",
   "metadata": {},
   "outputs": [],
   "source": [
    "features = titanic.columns.values[titanic.columns.values !='Survived']\n",
    "\n",
    "X = titanic[features]\n",
    "y = titanic[['Survived']]"
   ]
  },
  {
   "cell_type": "code",
   "execution_count": null,
   "id": "90d5dacd",
   "metadata": {},
   "outputs": [],
   "source": [
    "X.head()"
   ]
  },
  {
   "cell_type": "code",
   "execution_count": null,
   "id": "a54af767",
   "metadata": {},
   "outputs": [],
   "source": [
    "y.head()"
   ]
  },
  {
   "cell_type": "markdown",
   "id": "157c91cf",
   "metadata": {},
   "source": [
    "Por ultimo, dividimos el dataset en **dataset de entrenamiento**, **dataset de validación** y **dataset de testeo**.\n",
    "\n",
    "Para ello, importamos el método train_test_split() de Scikit-Learn que facilita el proceso de división del dataset.\n",
    "\n",
    "Dado que el método train_test_split() solamente divide el dataset en dos (un dataset de entrenamiento y otro de testing) y nosotros queremos tener además un dataset más para realizar la validación de nuestro algortimo antes de hacer el testo final, en este ejemplo utilizamos el método dos veces: \n",
    "- Primero, sobre nuestro dataset original para obtener el dataset de entrenamiento (que comprende el 80% de los datos) \n",
    "- Luego, de ese 80% volvemos a dividir en dos para obtener un 20% más y reservarlo para validación.\n",
    "\n",
    "Es decir, reservamos un 60% para entrenamiento, un 20% para validación y un 20% para testeo.\n"
   ]
  },
  {
   "cell_type": "code",
   "execution_count": null,
   "id": "efef5754",
   "metadata": {},
   "outputs": [],
   "source": [
    "from sklearn.model_selection import train_test_split\n",
    "X_train, X_test, y_train, y_test = train_test_split(X, y, test_size=0.2, random_state=1)\n",
    "\n",
    "X_train, X_val, y_train, y_val = train_test_split(X_train, y_train, test_size=0.25, random_state=1) # 0.25 x 0.8 = 0.2"
   ]
  },
  {
   "cell_type": "code",
   "execution_count": null,
   "id": "7ea3d688",
   "metadata": {},
   "outputs": [],
   "source": [
    "print('Tamaño de X_train:', X_train.shape,'- y_train:', y_train.shape)\n",
    "print('Tamaño de X_val:',X_val.shape,'- y_val:', y_val.shape)\n",
    "print('Tamaño de X_test:',X_test.shape,'- y_test:', y_test.shape)"
   ]
  },
  {
   "cell_type": "markdown",
   "id": "cbeb616c",
   "metadata": {},
   "source": [
    "### Conclusiones\n",
    "\n",
    "En este ejemplo usamos el dataset del Titanic para hacer el preprocesamiento de los datos. Analizamos sus features, filtramos aquellos que presentaban muchos valores faltantes, seleccionamos los más relevantes, creamos nuevos features en base a los existentes. \n",
    "\n",
    "Analizamos las correlaciones entre los distintos features y entre el label. Además, analizamos graficamente las estadisticas de los distintos features, en relacion al Label y a otros features. Trabajamos con features categóricos y usamos One-Hot Encoding para poder usarlos en algortimos de ML que sólo funcionan con datos numéricos. \n",
    "\n",
    "Finalmente, dividimos el dataset en training, dev (o validation), testing y dejamos todo listo para poder desarrollar un algoritmo de ML que sea capaz de predecir nuestro Label."
   ]
  },
  {
   "cell_type": "code",
   "execution_count": null,
   "id": "0e7eeaa8",
   "metadata": {},
   "outputs": [],
   "source": []
  }
 ],
 "metadata": {
  "kernelspec": {
   "display_name": "Python 3 (ipykernel)",
   "language": "python",
   "name": "python3"
  },
  "language_info": {
   "codemirror_mode": {
    "name": "ipython",
    "version": 3
   },
   "file_extension": ".py",
   "mimetype": "text/x-python",
   "name": "python",
   "nbconvert_exporter": "python",
   "pygments_lexer": "ipython3",
   "version": "3.11.9"
  }
 },
 "nbformat": 4,
 "nbformat_minor": 5
}
