{
 "cells": [
  {
   "cell_type": "code",
   "execution_count": 1,
   "id": "d879245c-b604-40c5-8753-0f95697f3e2e",
   "metadata": {},
   "outputs": [],
   "source": [
    "# Paso 1 - Importar modulo\n",
    "from sklearn.linear_model import LogisticRegression"
   ]
  },
  {
   "cell_type": "code",
   "execution_count": 2,
   "id": "34a9e827-2ab3-44a8-ab25-5af8a7a9f18e",
   "metadata": {},
   "outputs": [],
   "source": [
    "# Paso 2 - Crear una instancia del modelo\n",
    "logisticRegr = LogisticRegression()"
   ]
  },
  {
   "cell_type": "code",
   "execution_count": 6,
   "id": "03c60bc3-5ef9-444a-8af6-5b96dc05c298",
   "metadata": {},
   "outputs": [
    {
     "ename": "NameError",
     "evalue": "name 'x_train' is not defined",
     "output_type": "error",
     "traceback": [
      "\u001b[31m---------------------------------------------------------------------------\u001b[39m",
      "\u001b[31mNameError\u001b[39m                                 Traceback (most recent call last)",
      "\u001b[36mCell\u001b[39m\u001b[36m \u001b[39m\u001b[32mIn[6]\u001b[39m\u001b[32m, line 2\u001b[39m\n\u001b[32m      1\u001b[39m \u001b[38;5;66;03m# Paso 3 - Entrenar el modelo con el dataset de entrenamiento\u001b[39;00m\n\u001b[32m----> \u001b[39m\u001b[32m2\u001b[39m logisticRegr.fit(\u001b[43mx_train\u001b[49m, y_train)\n",
      "\u001b[31mNameError\u001b[39m: name 'x_train' is not defined"
     ]
    }
   ],
   "source": [
    "# Paso 3 - Entrenar el modelo con el dataset de entrenamiento\n",
    "logisticRegr.fit(x_train, y_train)"
   ]
  },
  {
   "cell_type": "code",
   "execution_count": 7,
   "id": "98785f70-397e-402a-a823-317c3d320574",
   "metadata": {},
   "outputs": [
    {
     "ename": "NameError",
     "evalue": "name 'x_test' is not defined",
     "output_type": "error",
     "traceback": [
      "\u001b[31m---------------------------------------------------------------------------\u001b[39m",
      "\u001b[31mNameError\u001b[39m                                 Traceback (most recent call last)",
      "\u001b[36mCell\u001b[39m\u001b[36m \u001b[39m\u001b[32mIn[7]\u001b[39m\u001b[32m, line 2\u001b[39m\n\u001b[32m      1\u001b[39m \u001b[38;5;66;03m# Paso 4 - Crear predicciones para imagenes nuevas\u001b[39;00m\n\u001b[32m----> \u001b[39m\u001b[32m2\u001b[39m logisticRegr.predict(\u001b[43mx_test\u001b[49m[\u001b[32m0\u001b[39m].reshape(\u001b[32m1\u001b[39m,-\u001b[32m1\u001b[39m))\n\u001b[32m      3\u001b[39m \u001b[38;5;66;03m# Imprimimos la imagen para chequear si la predicción es correcta\u001b[39;00m\n\u001b[32m      4\u001b[39m plt.figure(figsize=(\u001b[32m3\u001b[39m,\u001b[32m1\u001b[39m))\n",
      "\u001b[31mNameError\u001b[39m: name 'x_test' is not defined"
     ]
    }
   ],
   "source": [
    "# Paso 4 - Crear predicciones para imagenes nuevas\n",
    "logisticRegr.predict(x_test[0].reshape(1,-1))\n",
    "# Imprimimos la imagen para chequear si la predicción es correcta\n",
    "plt.figure(figsize=(3,1))\n",
    "image = x_test[0]\n",
    "plt.imshow(np.reshape(image, (8,8)), cmap=plt.cm.gray)\n"
   ]
  },
  {
   "cell_type": "code",
   "execution_count": 8,
   "id": "8f9fceef-6909-4e6c-8b14-7c2ca35be8af",
   "metadata": {},
   "outputs": [
    {
     "ename": "IndentationError",
     "evalue": "expected an indented block after 'for' statement on line 4 (3653753582.py, line 5)",
     "output_type": "error",
     "traceback": [
      "  \u001b[36mCell\u001b[39m\u001b[36m \u001b[39m\u001b[32mIn[8]\u001b[39m\u001b[32m, line 5\u001b[39m\n\u001b[31m    \u001b[39m\u001b[31mplt.subplot(1, 10, index + 1)\u001b[39m\n    ^\n\u001b[31mIndentationError\u001b[39m\u001b[31m:\u001b[39m expected an indented block after 'for' statement on line 4\n"
     ]
    }
   ],
   "source": [
    "logisticRegr.predict(x_test)\n",
    "# Imprimimos las 10 primeras imágenes con el label real y el estimado por el modelo\n",
    "plt.figure(figsize=(10,5))\n",
    "for index, (image, pred, label) in enumerate(zip(x_test[10:20], predictions[10:20], y_test[10:20])):\n",
    "plt.subplot(1, 10, index + 1)\n",
    "plt.imshow(np.reshape(image, (8,8)), cmap=plt.cm.gray)\n",
    "plt.title('Pred: %i\\n' % pred + 'Label: %i\\n' % label, fontsize = 9)"
   ]
  },
  {
   "cell_type": "code",
   "execution_count": null,
   "id": "b7cd04eb-8ef8-4807-be6d-f2d48afe2b70",
   "metadata": {},
   "outputs": [],
   "source": []
  }
 ],
 "metadata": {
  "kernelspec": {
   "display_name": "Python 3 (ipykernel)",
   "language": "python",
   "name": "python3"
  },
  "language_info": {
   "codemirror_mode": {
    "name": "ipython",
    "version": 3
   },
   "file_extension": ".py",
   "mimetype": "text/x-python",
   "name": "python",
   "nbconvert_exporter": "python",
   "pygments_lexer": "ipython3",
   "version": "3.11.9"
  }
 },
 "nbformat": 4,
 "nbformat_minor": 5
}
