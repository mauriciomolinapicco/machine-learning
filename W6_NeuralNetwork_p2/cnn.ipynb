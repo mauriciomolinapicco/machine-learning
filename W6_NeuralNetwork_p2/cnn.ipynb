{
 "cells": [
  {
   "cell_type": "code",
   "execution_count": 5,
   "id": "6fcf0ee6-1f7b-4a49-8d4d-6ccc1f801d3a",
   "metadata": {},
   "outputs": [],
   "source": [
    "\"\"\" partimos de deep_learning.py e implementamos CNN\"\"\"\n",
    "import tensorflow as tf\n",
    "\n",
    "#importar dataset\n",
    "fashion_mnist = tf.keras.datasets.fashion_mnist\n",
    "#cargar dataset\n",
    "(train_images_imp, train_labels), (test_images_imp, test_labels) = fashion_mnist.load_data()\n",
    "#normalizar valores de pixeles (el valor maximo es 255 entonces divido por 255)\n",
    "train_images = train_images_imp / 255.0\n",
    "test_images = test_images_imp / 255.0\n",
    "\n",
    "#desarrollar red neuronal\n",
    "model = tf.keras.models.Sequential([\n",
    "    #antes de las capas de red neuronal tradicional agregamos capas CONVOLUCIONALES y POOLING\n",
    "    #capa de 64 filtros 3x3, tamanio de entrada 28x28 con un solo canal de color\n",
    "    tf.keras.layers.Conv2D(64,(3,3), activation='relu', input_shape=(28,28,1)),\n",
    "    #reducir imagen con pooling (matriz 2x2)\n",
    "    tf.keras.layers.MaxPooling2D(2,2),\n",
    "    tf.keras.layers.Conv2D(64, (3,3), activation='relu'),\n",
    "    tf.keras.layers.MaxPooling2D(2,2),\n",
    "\n",
    "    #ahora si layers tradicionales\n",
    "    tf.keras.layers.Flatten(),\n",
    "    tf.keras.layers.Dense(128, activation='relu'), \n",
    "    tf.keras.layers.Dense(64, activation='relu'),\n",
    "    tf.keras.layers.Dense(10, activation='softmax') \n",
    "])\n",
    "\n",
    "#Flatten significa que convierte la matrix 28x28 en un vector\n",
    "#Dense significa que cada neurona esta conectada a todas las neuronas de la capa anterior\n",
    "\n",
    "\n",
    "\n"
   ]
  },
  {
   "cell_type": "code",
   "execution_count": 9,
   "id": "8cbe205a-5023-44ff-a188-7be1a491db8a",
   "metadata": {},
   "outputs": [],
   "source": [
    "model.compile(optimizer=tf.keras.optimizers.Adam(), #ajusta los pesos de red automaticamente\n",
    "              loss='sparse_categorical_crossentropy', #mide el error del modelo\n",
    "              metrics=['accuracy'])\n"
   ]
  },
  {
   "cell_type": "code",
   "execution_count": null,
   "id": "6e9b3034-4150-4540-9def-388da5f7bd94",
   "metadata": {},
   "outputs": [],
   "source": [
    "model.fit(train_images, train_labels, epochs=10)\n",
    "#epochs se refiere a la cantidad de veces que el algoritmo recorre la totalidad del conjunto \n",
    "#de datos de entrenamiento"
   ]
  },
  {
   "cell_type": "code",
   "execution_count": null,
   "id": "0eef9389-c3e8-4c3f-b436-08759eca39ed",
   "metadata": {},
   "outputs": [],
   "source": [
    "model.evaluate(test_images, test_labels)\n"
   ]
  },
  {
   "cell_type": "code",
   "execution_count": null,
   "id": "fb8d9fcd-d3d3-4977-9a72-aae2e7c791c0",
   "metadata": {},
   "outputs": [],
   "source": [
    "#analizar el modelo. Muestra capas, parametros, etc\n",
    "model.summary()"
   ]
  },
  {
   "cell_type": "code",
   "execution_count": null,
   "id": "2c75d46d-ba78-4ee9-8564-78f946a9b58d",
   "metadata": {},
   "outputs": [],
   "source": []
  }
 ],
 "metadata": {
  "kernelspec": {
   "display_name": "Python 3 (ipykernel)",
   "language": "python",
   "name": "python3"
  },
  "language_info": {
   "codemirror_mode": {
    "name": "ipython",
    "version": 3
   },
   "file_extension": ".py",
   "mimetype": "text/x-python",
   "name": "python",
   "nbconvert_exporter": "python",
   "pygments_lexer": "ipython3",
   "version": "3.11.9"
  }
 },
 "nbformat": 4,
 "nbformat_minor": 5
}
