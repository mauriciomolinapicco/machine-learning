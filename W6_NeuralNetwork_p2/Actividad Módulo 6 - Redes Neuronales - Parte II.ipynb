{
 "cells": [
  {
   "cell_type": "markdown",
   "id": "ef5a4c2e-1082-4e49-91cd-c1ec2abb237e",
   "metadata": {},
   "source": [
    "# INTEGRANTES:\n",
    "#####            -GONZALO DANIEL GRECCO\n",
    "#####            -MAURICIO NICOLÁS MOLINA PICCO\n",
    "#####            -MARÍA INÉS BERDIÑAS"
   ]
  },
  {
   "cell_type": "markdown",
   "id": "0a6b98d7",
   "metadata": {},
   "source": [
    "# Módulo 6: Redes Neuronales - Parte II\n",
    "\n",
    "## Redes Neuronales para clasificación multiclase\n",
    "\n",
    "En esta actividad vamos a aprender a desarrollar una red neuronal profunda para reconocimiento de imágenes.\n",
    "\n",
    "Además, estudiaremos algunos detalles de implementación que nos ayudarán a organizar mejor nuestro código y hacerlo más eficiente.\n",
    "\n",
    "Por otro lado, aprenderemos a utilizar **Callbacks** para detener el proceso de entrenamiento anticipadamente si se alcanza un objetivo deseado.\n",
    "\n",
    "Para ello, vamos a trabajar con un dataset provisto por Keras: **Fashion MNIST**. Este dataset consta de **70.000 imágenes en escala de grises de 28x28 píxeles**, pertenecientes a una de **10 clases de prendas de vestir** diferentes.\n",
    "\n",
    "El dataset está dividido en **60.000 imágenes para entrenamiento y 10.000 para testeo**.\n",
    "\n",
    "Cada imagen representa una prenda de vestir de una de las siguientes categorías:\n",
    "\n",
    "                                0. T-shirt/top\n",
    "                                1. Trouser\n",
    "                                2. Pullover\n",
    "                                3. Dress\n",
    "                                4. Coat\n",
    "                                5. Sandal\n",
    "                                6. Shirt\n",
    "                                7. Sneaker\n",
    "                                8. Bag\n",
    "                                9. Ankle boot \n",
    "\n",
    "Cada píxel tiene un valor asociado entre 0 y 255 que indica su nivel de luminosidad u oscuridad (valores más altos indican mayor oscuridad).\n",
    "\n",
    "El dataset tiene **785 columnas**, donde la primera corresponde al **label** (la categoría de la prenda) y las 784 restantes representan los features, es decir, los valores de cada uno de los píxeles de la imagen.\n",
    "\n",
    "La idea es utilizar este dataset para **reconocer prendas de vestir mediante una red neuronal profunda**, compuesta por varias capas (**layers**) y múltiples neuronas. Para ello, será necesario definir un **modelo de clasificación multiclase**.\n",
    "\n",
    "En primer lugar, vamos a **cargar el dataset en memoria**, dividiéndolo en conjunto de entrenamiento y conjunto de testeo, e imprimiremos sus dimensiones para confirmar que se haya cargado correctamente.\n",
    "\n",
    "\n",
    "### <font color='red'>**Actividad 1:**</font>\n",
    "**a)** Escribir un programa en Python para obtener, desde el framework Keras, **el dataset Fashion MNIST dividido en conjunto de entrenamiento (X_train, y_train) y conjunto de testeo (X_test, y_test)**.\n",
    "\n",
    "**AYUDA:** el dataset fashion_mnist se encuentra dentro de la libreria keras.datasets. Keras provee una forma de obtener el dataset dividido en entrenamiento y testeo con el método [.load_data() ](https://www.tensorflow.org/api_docs/python/tf/keras/datasets/fashion_mnist/load_data#expandable-1)."
   ]
  },
  {
   "cell_type": "code",
   "execution_count": 2,
   "id": "4083004b",
   "metadata": {},
   "outputs": [],
   "source": [
    "from tensorflow.keras.datasets import fashion_mnist\n",
    "\n",
    "# Carga del dataset (ya dividido en train y test)\n",
    "(X_train, y_train), (X_test, y_test) = fashion_mnist.load_data()\n",
    "\n",
    "#Carga el dataset. load_data() devuelve dos tuplas: la primera (X_train, y_train) para entrenamiento y la segunda (X_test, y_test) para testeo"
   ]
  },
  {
   "cell_type": "markdown",
   "id": "b9c8ec82",
   "metadata": {},
   "source": [
    "**b)** Imprimir las **dimensiones** de todos los datasets (X_train, y_train, X_test, y test)"
   ]
  },
  {
   "cell_type": "code",
   "execution_count": 3,
   "id": "c7516835",
   "metadata": {},
   "outputs": [
    {
     "name": "stdout",
     "output_type": "stream",
     "text": [
      "\n",
      "--- Dimensiones (shapes) ---\n",
      "X_train.shape: (60000, 28, 28)\n",
      "y_train.shape: (60000,)\n",
      "X_test.shape:  (10000, 28, 28)\n",
      "y_test.shape:  (10000,)\n"
     ]
    }
   ],
   "source": [
    "print(\"\\n--- Dimensiones (shapes) ---\")\n",
    "print(\"X_train.shape:\", X_train.shape)\n",
    "print(\"y_train.shape:\", y_train.shape)\n",
    "print(\"X_test.shape: \", X_test.shape)\n",
    "print(\"y_test.shape: \", y_test.shape)"
   ]
  },
  {
   "cell_type": "markdown",
   "id": "d7f7b640-217c-4102-9e1d-bbf53a3a8054",
   "metadata": {},
   "source": [
    "### El resultado de shape de X es (60000,28,28) significa que son:\n",
    "- 60000 muestras (imagenes)\n",
    "- 28x28 tamanio de imagenes\n",
    "- la otra dimension no se muestra porque es 1 (1 dimension para color) pero si fuera rgb tendria otra"
   ]
  },
  {
   "cell_type": "markdown",
   "id": "9a7d6ad7",
   "metadata": {},
   "source": [
    "### <font color='red'>**Actividad 2:**</font>\n",
    "**a)** Imprimir dos imágenes cualquiera utilizando la librería **matplotlib**.\n",
    "\n",
    "**AYUDA:** Recordemos que para imprimir una imagen con matplotlib se puede utilizar el metodo [.imshow(image)](https://matplotlib.org/stable/api/_as_gen/matplotlib.pyplot.imshow.html#matplotlib-pyplot-imshow), siendo image el vector que contiene los 784 pixeles de la imagen."
   ]
  },
  {
   "cell_type": "code",
   "execution_count": 26,
   "id": "56a5d318",
   "metadata": {},
   "outputs": [
    {
     "data": {
      "image/png": "[encoded data removed]",
      "text/plain": [
       "<Figure size 640x480 with 2 Axes>"
      ]
     },
     "metadata": {},
     "output_type": "display_data"
    }
   ],
   "source": [
    "import matplotlib.pyplot as plt #matplotlib es la biblioteca de graficos \n",
    "\n",
    "# Mostrar la primera imagen de entrenamiento\n",
    "plt.subplot(1, 2, 1)                # 1 fila, 2 columnas, primer gráfico\n",
    "plt.imshow(X_train[0], cmap=\"gray\") # X_train[0] es una matriz 28x28\n",
    "plt.title(f\"Etiqueta: {y_train[0]}\")\n",
    "plt.axis(\"off\")                     \n",
    "#plt.axis(\"off\") quita los ejes para que se vea más limpio\n",
    "\n",
    "# Mostrar la segunda imagen de entrenamiento\n",
    "plt.subplot(1, 2, 2)                # 1 fila, 2 columnas, segundo gráfico\n",
    "plt.imshow(X_train[1], cmap=\"gray\") # X_train[1] es otra imagen\n",
    "plt.title(f\"Etiqueta: {y_train[1]}\")\n",
    "plt.axis(\"off\")\n",
    "\n",
    "plt.show()"
   ]
  },
  {
   "cell_type": "markdown",
   "id": "c6f20b58",
   "metadata": {},
   "source": [
    "### <font color='red'>**Actividad 3:**</font>\n",
    "**a)** **Normalizar los valores de los features** en los datasets de entrenamiento y testeo (X_train y X_test) dividiendo los valores de los pixeles por 255."
   ]
  },
  {
   "cell_type": "code",
   "execution_count": 11,
   "id": "c828b4c1",
   "metadata": {},
   "outputs": [
    {
     "name": "stdout",
     "output_type": "stream",
     "text": [
      "Rango X_train: min = 0.0 , max = 1.0\n",
      "Rango X_test:  min = 0.0 , max = 1.0\n"
     ]
    }
   ],
   "source": [
    "\"\"\"\n",
    "Los píxeles en Fashion MNIST van de 0 a 255 (uint8).\n",
    "Al dividir entre 255, los llevamos al rango [0, 1], lo que hace que el entrenamiento sea más estable y eficiente.\n",
    "\"\"\"\n",
    "#astype(\"float32\") convierte los pixeles enteros a números decimales\n",
    "X_train = X_train.astype(\"float32\") / 255.0 \n",
    "X_test  = X_test.astype(\"float32\") / 255.0\n",
    "\n",
    "# Verificamos resultados\n",
    "print(\"Rango X_train: min =\", X_train.min(), \", max =\", X_train.max())\n",
    "print(\"Rango X_test:  min =\", X_test.min(),  \", max =\", X_test.max())\n"
   ]
  },
  {
   "cell_type": "markdown",
   "id": "a6993e0b",
   "metadata": {},
   "source": [
    "### Callbacks\n",
    "\n",
    "Los Callbacks de Keras son objetos que ejecutan acciones en distintas etapas del proceso de entrenamiento (por ejemplo, al comienzo o al final de cada epoch). Generalmente, se utilizan para escribir registros (logs) de monitoreo, guardar el modelo en disco periódicamente, detener el entrenamiento anticipadamente, entre otras funciones.\n",
    "\n",
    "El siguiente código muestra cómo crear un Callback personalizado en TensorFlow/Keras que detiene el entrenamiento cuando se alcanza un valor máximo de precisión definido previamente:\n",
    "\n",
    "```\n",
    "class callbacks(tf.keras.callbacks.Callback):\n",
    "    def on_epoch_end(self, epoch, logs={}):\n",
    "        if logs.get(\"accuracy\") > MAX_ACC:\n",
    "            self.model.stop_training = True\n",
    "```\n",
    "\n",
    "Este tipo de callback se pasa como parámetro al método .fit() mediante el argumento callbacks.\n",
    "\n",
    "### <font color='red'>**Actividad 4:**</font>\n",
    "**a)** Crear una clase **Callback** que detenga el proceso de entrenamiento al finalizar un epoch si se alcanza un valor de accuracy igual o superior a 0.95, e imprima el siguiente mensaje de aviso:\n",
    "\n",
    "\t“Se alcanzó el máximo de precisión y, por lo tanto, se canceló el proceso de entrenamiento.”\n"
   ]
  },
  {
   "cell_type": "code",
   "execution_count": 32,
   "id": "bf9cac2e",
   "metadata": {},
   "outputs": [],
   "source": [
    "import tensorflow as tf\n",
    "\n",
    "# Definición de Callback personalizado\n",
    "class EarlyStopAtAcc(tf.keras.callbacks.Callback):\n",
    "    def on_epoch_end(self, epoch, logs=None):\n",
    "        logs = logs or {}\n",
    "        max_accuracy = 0.95\n",
    "        acc = logs.get(\"accuracy\")\n",
    "        if acc is not None and acc >= max_accuracy:\n",
    "            print(\"\\nSe alcanzó el máximo de precisión y, por lo tanto, se canceló el proceso de entrenamiento.\")\n",
    "            self.model.stop_training = True"
   ]
  },
  {
   "cell_type": "markdown",
   "id": "fb5cf506",
   "metadata": {},
   "source": [
    "### Ordenando el código\n",
    "Ahora que tenemos los datasets de entrenamiento y testeo normalizados, y hemos observado algunos ejemplos, vamos a crear el modelo, compilarlo y entrenarlo.\n",
    "\n",
    "Para ello, definiremos un método que reúna todo el proceso completo:\n",
    "1. Obtener el dataset de entrenamiento y de testeo (resuelto en Actividad 1.a.)\n",
    "2. Normalizar los features de entrenamiento y testeo (resuelto en Actividad 3.)\n",
    "3. Crear el modelo en Keras\n",
    "4. Compilar el modelo (.compile(...))\n",
    "5. Ajustar o entrenar (.fit(...)) el modelo pasandole el callback creado y almacenando el historial del proceso de entrenamiento.\n",
    "6. Retornar el historial del proceso de entrenamiento y el modelo creado.\n",
    "\n",
    "#### 🔧 Creación del modelo\n",
    "\n",
    "Vamos a construir una red neuronal con cuatro capas ocultas:\n",
    "- La primera con **512 neuronas**,\n",
    "- La segunda con **256 neuronas**,\n",
    "- La tercera con **128 neuronas**,\n",
    "- La cuarta con **64 neuronas**.\n",
    "\n",
    "Como se trata de un problema de **clasificación multiclase**, al final del modelo utilizaremos la función de activación **softmax**. Sin embargo, implementaremos la **versión mejorada** vista en el apunte: la última capa tendrá activación **lineal**, y la función **softmax** se aplicará luego, por fuera del modelo.\n",
    "\n",
    "Además, como estamos trabajando con imágenes, la primera capa de nuestra red debe ser una capa Flatten(), que transforma cada imagen 28x28 en un vector de 784 elementos.\n",
    "\n",
    "#### ⚙️ Compilación del modelo\n",
    "\n",
    "Al compilar el modelo:\n",
    "- Usaremos el optimizador **Adam** (optimizer='adam')\n",
    "- Como métrica de evaluación, emplearemos **accuracy** (metrics=['accuracy'])\n",
    "- Usaremos *SparseCategoricalCrossentropy(from_logits=True)* como función de pérdida ya que estamos utilizando logits como salida (activación lineal en la última capa)\n",
    "\n",
    "#### 🏋️ Entrenamiento del modelo\n",
    "\n",
    "Al entrenar el modelo con .fit(), le pasaremos:\n",
    "- Le pasaremos el **callback personalizado** creado anteriormente (callbacks=[myCallback])\n",
    "- Definiremos la cantidad de **epochs en 100** (epochs=100)\n",
    "\n",
    "#### 📈 Historial del entrenamiento\n",
    "\n",
    "El historial del proceso es devuelto por el método .fit() como un objeto History. Este objeto guarda, en su atributo .history, los registros de los valores de error y las métricas obtenidas en cada epoch.\n",
    "\n",
    "\n",
    "### <font color='red'>**Actividad 5:**</font>\n",
    "**a)** Crear un método llamado train_fashion_mnist() que englobe los seis pasos mencionados anteriormente. Notar que algunos de estos pasos ya fueron resueltos en ejercicios anteriores, por lo tanto, simplemente debemos **copiar las líneas de código correspondientes dentro de este nuevo método** para integrarlos al flujo completo de entrenamiento."
   ]
  },
  {
   "cell_type": "code",
   "execution_count": 34,
   "id": "fde0f631",
   "metadata": {},
   "outputs": [],
   "source": [
    "\n",
    "import tensorflow as tf\n",
    "from tensorflow.keras.datasets import fashion_mnist\n",
    "from tensorflow.keras import layers, models\n",
    "from tensorflow.keras.losses import SparseCategoricalCrossentropy\n",
    "from tensorflow.nn import softmax\n",
    "\n",
    "# Callback personalizado que detiene el entrenamiento al alcanzar 95% de accuracy\n",
    "class EarlyStopAtAcc(tf.keras.callbacks.Callback):\n",
    "    def on_epoch_end(self, epoch, logs=None):\n",
    "        logs = logs or {}\n",
    "        acc = logs.get(\"accuracy\")\n",
    "        if acc is not None and acc >= 0.95:\n",
    "            print(\"\\nSe alcanzó el máximo de precisión y, por lo tanto, se canceló el proceso de entrenamiento.\")\n",
    "            self.model.stop_training = True\n",
    "\n",
    "def train_fashion_mnist():\n",
    "\n",
    "    # Creamos un objeto de la clase callbacks creada anteriormente\n",
    "    myCallback = EarlyStopAtAcc()\n",
    "    \n",
    "    # 1. Obtener el dataset de entrenamiento y de testeo (resuelto en Ejercicio 1) a.)\n",
    "    (X_train, y_train), (X_test, y_test) = fashion_mnist.load_data()\n",
    "    \n",
    "    # 2. Normalizar los features de entrenamiento y testeo (resuelto en Ejercicio 3.)\n",
    "    X_train = X_train.astype(\"float32\") / 255.0\n",
    "    X_test  = X_test.astype(\"float32\") / 255.0\n",
    "    \n",
    "    # 3. Crear el modelo en Keras\n",
    "    model = models.Sequential([\n",
    "        layers.Flatten(input_shape=(28, 28)),   # Aplana la imagen 28x28 en vector 784\n",
    "        layers.Dense(512, activation=\"relu\"),\n",
    "        layers.Dense(256, activation=\"relu\"),\n",
    "        layers.Dense(128, activation=\"relu\"),\n",
    "        layers.Dense(64, activation=\"relu\"),\n",
    "        layers.Dense(10, activation=\"linear\")   # salida lineal\n",
    "    ])\n",
    "    \n",
    "    # 4. Compilar el modelo (.compile(...))\n",
    "    model.compile(\n",
    "        optimizer=\"adam\",\n",
    "        loss=SparseCategoricalCrossentropy(from_logits=True), \n",
    "        metrics=[\"accuracy\"]\n",
    "    ) #Cuando from_logits=True, Keras aplica internamente un softmax a los logits antes de calcular la entropía cruzada. \n",
    "        #De esta forma, no necesitamos poner activation=\"softmax\" dentro del modelo.\n",
    "    \n",
    "    # 5. Ajustar o entrenar (.fit(...)) el modelo pasandole el callback creado y almacenando el historial del proceso de entrenamiento.\n",
    "    history = model.fit(\n",
    "        X_train, y_train,\n",
    "        epochs=100,\n",
    "        callbacks=[myCallback],\n",
    "        validation_data=(X_test, y_test),\n",
    "        verbose=2\n",
    "    )\n",
    "    \n",
    "    # 6.Retornar el historial del proceso de entrenamiento.\n",
    "    return history.history, model\n"
   ]
  },
  {
   "cell_type": "markdown",
   "id": "4ff64da4",
   "metadata": {},
   "source": [
    "Ahora que tenemos un método capaz de realizar todo el proceso completo, **lo único que resta es llamar a dicho método** para obtener el objeto history y el model.\n",
    "\n",
    "El entrenamiento debería finalizar aproximadamente en el **epoch 35**, si se alcanza el nivel de precisión definido en el callback."
   ]
  },
  {
   "cell_type": "code",
   "execution_count": 35,
   "id": "77794dfd",
   "metadata": {},
   "outputs": [
    {
     "name": "stderr",
     "output_type": "stream",
     "text": [
      "C:\\Users\\Ezequiel\\AppData\\Local\\Packages\\PythonSoftwareFoundation.Python.3.11_qbz5n2kfra8p0\\LocalCache\\local-packages\\Python311\\site-packages\\keras\\src\\layers\\reshaping\\flatten.py:37: UserWarning: Do not pass an `input_shape`/`input_dim` argument to a layer. When using Sequential models, prefer using an `Input(shape)` object as the first layer in the model instead.\n",
      "  super().__init__(**kwargs)\n"
     ]
    },
    {
     "name": "stdout",
     "output_type": "stream",
     "text": [
      "Epoch 1/100\n",
      "1875/1875 - 17s - 9ms/step - accuracy: 0.8207 - loss: 0.4926 - val_accuracy: 0.8575 - val_loss: 0.3928\n",
      "Epoch 2/100\n",
      "1875/1875 - 14s - 8ms/step - accuracy: 0.8641 - loss: 0.3701 - val_accuracy: 0.8660 - val_loss: 0.3719\n",
      "Epoch 3/100\n",
      "1875/1875 - 14s - 7ms/step - accuracy: 0.8774 - loss: 0.3340 - val_accuracy: 0.8597 - val_loss: 0.3933\n",
      "Epoch 4/100\n",
      "1875/1875 - 13s - 7ms/step - accuracy: 0.8869 - loss: 0.3076 - val_accuracy: 0.8684 - val_loss: 0.3591\n",
      "Epoch 5/100\n",
      "1875/1875 - 13s - 7ms/step - accuracy: 0.8921 - loss: 0.2905 - val_accuracy: 0.8773 - val_loss: 0.3449\n",
      "Epoch 6/100\n",
      "1875/1875 - 14s - 7ms/step - accuracy: 0.8982 - loss: 0.2730 - val_accuracy: 0.8685 - val_loss: 0.3627\n",
      "Epoch 7/100\n",
      "1875/1875 - 14s - 8ms/step - accuracy: 0.9017 - loss: 0.2625 - val_accuracy: 0.8813 - val_loss: 0.3358\n",
      "Epoch 8/100\n",
      "1875/1875 - 14s - 7ms/step - accuracy: 0.9066 - loss: 0.2513 - val_accuracy: 0.8787 - val_loss: 0.3430\n",
      "Epoch 9/100\n",
      "1875/1875 - 14s - 7ms/step - accuracy: 0.9076 - loss: 0.2427 - val_accuracy: 0.8838 - val_loss: 0.3384\n",
      "Epoch 10/100\n",
      "1875/1875 - 14s - 7ms/step - accuracy: 0.9125 - loss: 0.2329 - val_accuracy: 0.8833 - val_loss: 0.3527\n",
      "Epoch 11/100\n",
      "1875/1875 - 14s - 7ms/step - accuracy: 0.9146 - loss: 0.2249 - val_accuracy: 0.8758 - val_loss: 0.3822\n",
      "Epoch 12/100\n",
      "1875/1875 - 14s - 7ms/step - accuracy: 0.9183 - loss: 0.2169 - val_accuracy: 0.8873 - val_loss: 0.3326\n",
      "Epoch 13/100\n",
      "1875/1875 - 21s - 11ms/step - accuracy: 0.9192 - loss: 0.2103 - val_accuracy: 0.8887 - val_loss: 0.3592\n",
      "Epoch 14/100\n",
      "1875/1875 - 13s - 7ms/step - accuracy: 0.9233 - loss: 0.2044 - val_accuracy: 0.8901 - val_loss: 0.3751\n",
      "Epoch 15/100\n",
      "1875/1875 - 13s - 7ms/step - accuracy: 0.9247 - loss: 0.1991 - val_accuracy: 0.8804 - val_loss: 0.3783\n",
      "Epoch 16/100\n",
      "1875/1875 - 13s - 7ms/step - accuracy: 0.9268 - loss: 0.1939 - val_accuracy: 0.8900 - val_loss: 0.3581\n",
      "Epoch 17/100\n",
      "1875/1875 - 14s - 7ms/step - accuracy: 0.9293 - loss: 0.1881 - val_accuracy: 0.8935 - val_loss: 0.3774\n",
      "Epoch 18/100\n",
      "1875/1875 - 14s - 7ms/step - accuracy: 0.9288 - loss: 0.1826 - val_accuracy: 0.8879 - val_loss: 0.3739\n",
      "Epoch 19/100\n",
      "1875/1875 - 14s - 7ms/step - accuracy: 0.9334 - loss: 0.1770 - val_accuracy: 0.8910 - val_loss: 0.3709\n",
      "Epoch 20/100\n",
      "1875/1875 - 14s - 7ms/step - accuracy: 0.9334 - loss: 0.1749 - val_accuracy: 0.8906 - val_loss: 0.3992\n",
      "Epoch 21/100\n",
      "1875/1875 - 14s - 8ms/step - accuracy: 0.9352 - loss: 0.1699 - val_accuracy: 0.8956 - val_loss: 0.3822\n",
      "Epoch 22/100\n",
      "1875/1875 - 14s - 7ms/step - accuracy: 0.9377 - loss: 0.1639 - val_accuracy: 0.8928 - val_loss: 0.3726\n",
      "Epoch 23/100\n",
      "1875/1875 - 14s - 7ms/step - accuracy: 0.9386 - loss: 0.1601 - val_accuracy: 0.8973 - val_loss: 0.4024\n",
      "Epoch 24/100\n",
      "1875/1875 - 13s - 7ms/step - accuracy: 0.9412 - loss: 0.1544 - val_accuracy: 0.8933 - val_loss: 0.4052\n",
      "Epoch 25/100\n",
      "1875/1875 - 13s - 7ms/step - accuracy: 0.9411 - loss: 0.1543 - val_accuracy: 0.8949 - val_loss: 0.3979\n",
      "Epoch 26/100\n",
      "1875/1875 - 13s - 7ms/step - accuracy: 0.9433 - loss: 0.1494 - val_accuracy: 0.8951 - val_loss: 0.4299\n",
      "Epoch 27/100\n",
      "1875/1875 - 14s - 7ms/step - accuracy: 0.9438 - loss: 0.1498 - val_accuracy: 0.8919 - val_loss: 0.4662\n",
      "Epoch 28/100\n",
      "1875/1875 - 13s - 7ms/step - accuracy: 0.9447 - loss: 0.1472 - val_accuracy: 0.8966 - val_loss: 0.4448\n",
      "Epoch 29/100\n",
      "1875/1875 - 13s - 7ms/step - accuracy: 0.9467 - loss: 0.1414 - val_accuracy: 0.8960 - val_loss: 0.4470\n",
      "Epoch 30/100\n",
      "1875/1875 - 14s - 7ms/step - accuracy: 0.9472 - loss: 0.1385 - val_accuracy: 0.8947 - val_loss: 0.4470\n",
      "Epoch 31/100\n",
      "1875/1875 - 13s - 7ms/step - accuracy: 0.9484 - loss: 0.1357 - val_accuracy: 0.8963 - val_loss: 0.4723\n",
      "Epoch 32/100\n",
      "1875/1875 - 13s - 7ms/step - accuracy: 0.9485 - loss: 0.1361 - val_accuracy: 0.8935 - val_loss: 0.4714\n",
      "Epoch 33/100\n",
      "\n",
      "Se alcanzó el máximo de precisión y, por lo tanto, se canceló el proceso de entrenamiento.\n",
      "1875/1875 - 13s - 7ms/step - accuracy: 0.9510 - loss: 0.1306 - val_accuracy: 0.8953 - val_loss: 0.4704\n"
     ]
    }
   ],
   "source": [
    "history, model = train_fashion_mnist()"
   ]
  },
  {
   "cell_type": "markdown",
   "id": "e8ec3d74",
   "metadata": {},
   "source": [
    "Hay que tener en cuenta que, en el modelo creado, **aún no se ha aplicado la función softmax**, por lo que las salidas **no representan probabilidades**. Es decir, los valores de salida pueden estar en el rango **[-∞, +∞]**.\n",
    "\n",
    "A continuación, vamos a observar los valores de salida para el **primer ejemplo** del conjunto de entrenamiento. Además, analizaremos **los valores máximos y mínimos** de todas las salidas para confirmar que **no se trata de probabilidades**."
   ]
  },
  {
   "cell_type": "code",
   "execution_count": 36,
   "id": "6aede106",
   "metadata": {},
   "outputs": [
    {
     "name": "stdout",
     "output_type": "stream",
     "text": [
      "\u001b[1m1875/1875\u001b[0m \u001b[32m━━━━━━━━━━━━━━━━━━━━\u001b[0m\u001b[37m\u001b[0m \u001b[1m6s\u001b[0m 3ms/step\n",
      "Salidas sin softmax para el primer ejemplo:\n",
      "[-3125.329   -4231.3447  -6613.497   -8286.363   -4685.825   -2365.0823\n",
      " -6052.7036    852.36694 -1734.9478   3653.459  ]\n",
      "\n",
      "Valor máximo entre todas las salidas: 86792.7\n",
      "Valor mínimo entre todas las salidas: -264602.38\n"
     ]
    }
   ],
   "source": [
    "import numpy as np\n",
    "\n",
    "# Obtener las salidas del modelo (logits) sin aplicar softmax\n",
    "train_logits = model.predict(X_train)\n",
    "\n",
    "# Mostrar los valores de salida para el primer ejemplo\n",
    "print(\"Salidas sin softmax para el primer ejemplo:\")\n",
    "print(train_logits[0])\n",
    "\n",
    "# Obtener el valor máximo y mínimo entre todas las salidas\n",
    "valor_maximo = np.max(train_logits)\n",
    "valor_minimo = np.min(train_logits)\n",
    "\n",
    "print(\"\\nValor máximo entre todas las salidas:\", valor_maximo)\n",
    "print(\"Valor mínimo entre todas las salidas:\", valor_minimo)"
   ]
  },
  {
   "cell_type": "markdown",
   "id": "4eda7ba0",
   "metadata": {},
   "source": [
    "##### ¿Qué esperar de la salida?\n",
    "\n",
    "- Un array de 10 valores para logits[0], correspondientes a las 10 clases posibles.\n",
    "- Valores fuera del rango [0, 1], confirmando que **no son probabilidades**.\n",
    "- Máximos y mínimos que podrían estar bastante alejados de 0 o 1 (por ejemplo, negativos o mayores que 1).\n",
    "\n",
    "Si queremos poder interpretar las salidas, debemos **aplicar la función Softmax para convertirlas en probabilidades**. Esta operación transforma los valores en un rango entre 0 y 1, y asegura que la suma total sea igual a 1, lo cual es característico de una distribución de probabilidad."
   ]
  },
  {
   "cell_type": "code",
   "execution_count": 25,
   "id": "dbaeb28b",
   "metadata": {},
   "outputs": [
    {
     "name": "stdout",
     "output_type": "stream",
     "text": [
      "Probabilidades para el primer ejemplo:\n",
      "[4.2198710e-11 1.1826308e-09 2.1591042e-08 1.6675794e-07 7.6881296e-10\n",
      " 2.2415340e-06 8.3009993e-10 6.9456242e-02 6.4860366e-08 9.3054128e-01]\n",
      "\n",
      "Suma de probabilidades (primeros 5 ejemplos):\n",
      "[1.        1.        1.0000001 1.0000001 1.       ]\n"
     ]
    }
   ],
   "source": [
    "# Aplicar softmax a todas las salidas\n",
    "train_pred = softmax(train_logits).numpy()\n",
    "\n",
    "# Mostrar las probabilidades del primer ejemplo\n",
    "print(\"Probabilidades para el primer ejemplo:\")\n",
    "print(train_pred[0])\n",
    "\n",
    "# Verificar que la suma de cada fila sea 1 (opcional)\n",
    "sum_train_pred = np.sum(train_pred, axis=1)\n",
    "\n",
    "# Mostrar suma de probabilidades de los primeros 5 ejemplos\n",
    "print(\"\\nSuma de probabilidades (primeros 5 ejemplos):\")\n",
    "print(sum_train_pred[:5])"
   ]
  },
  {
   "cell_type": "markdown",
   "id": "3096fec4",
   "metadata": {},
   "source": [
    "\n",
    "Como se observa, los valores de salida se encuentran en el rango **[0, 1]**. \n",
    "\n",
    "Además, si sumamos las probabilidades correspondientes a un ejemplo, el resultado debería ser **1.0**, ya que representan una distribución de probabilidad.\n",
    "\n",
    "(**Nota:** Se puede modificar el índice del ejemplo y verificar que, efectivamente, para cualquier caso, la suma de las probabilidades siempre da 1.0).\n"
   ]
  },
  {
   "cell_type": "markdown",
   "id": "0baf2cb0",
   "metadata": {},
   "source": [
    "#### ¿Cómo obtener las categorías estimadas?\n",
    "Para obtener que categoría que se estimó con el modelo para un ejemplo dado se debe seleccionar la categoría más probable. \n",
    "\n",
    "Para ello, es posible encontrar el índice de la salida con mayor probabilidad utilizando np.argmax(). \n",
    "\n",
    "A continuación se muestran las categorías estimadas y las reales para los 10 primeros ejemplos del dataset de testeo."
   ]
  },
  {
   "cell_type": "code",
   "execution_count": 26,
   "id": "cc980ad7",
   "metadata": {},
   "outputs": [
    {
     "name": "stdout",
     "output_type": "stream",
     "text": [
      "\u001b[1m313/313\u001b[0m \u001b[32m━━━━━━━━━━━━━━━━━━━━\u001b[0m\u001b[37m\u001b[0m \u001b[1m1s\u001b[0m 2ms/step\n",
      "Etiquetas estimadas vs etiquetas reales (primeros 10 ejemplos):\n",
      "Ejemplo 0: Estimada = 9, Real = 9\n",
      "Ejemplo 1: Estimada = 2, Real = 2\n",
      "Ejemplo 2: Estimada = 1, Real = 1\n",
      "Ejemplo 3: Estimada = 1, Real = 1\n",
      "Ejemplo 4: Estimada = 6, Real = 6\n",
      "Ejemplo 5: Estimada = 1, Real = 1\n",
      "Ejemplo 6: Estimada = 4, Real = 4\n",
      "Ejemplo 7: Estimada = 6, Real = 6\n",
      "Ejemplo 8: Estimada = 5, Real = 5\n",
      "Ejemplo 9: Estimada = 7, Real = 7\n"
     ]
    }
   ],
   "source": [
    "test_logits = model.predict(X_test)\n",
    "\n",
    "test_pred = softmax(test_logits)\n",
    "    \n",
    "# Obtener las categorías predichas seleccionando el índice con la mayor probabilidad\n",
    "test_predicted_labels = np.argmax(test_pred, axis=1)\n",
    "\n",
    "# Mostrar las etiquetas predichas y reales para los primeros 10 ejemplos\n",
    "print(\"Etiquetas estimadas vs etiquetas reales (primeros 10 ejemplos):\")\n",
    "for i in range(10):\n",
    "    print(f\"Ejemplo {i}: Estimada = {test_predicted_labels[i]}, Real = {y_test[i]}\")"
   ]
  },
  {
   "cell_type": "markdown",
   "id": "4082bf95",
   "metadata": {},
   "source": [
    "### Evaluación del modelo\n",
    "\n",
    "Para evaluar el desempeño del modelo de forma cuantitativa, vamos a calcular el **accuracy** tanto sobre el conjunto de entrenamiento como sobre el de testeo.\n",
    "Para ello, utilizaremos la función **accuracy_score** del módulo sklearn.metrics, que compara las etiquetas verdaderas con las predicciones generadas por el modelo."
   ]
  },
  {
   "cell_type": "code",
   "execution_count": 27,
   "id": "3300b224",
   "metadata": {},
   "outputs": [
    {
     "name": "stdout",
     "output_type": "stream",
     "text": [
      "\u001b[1m1875/1875\u001b[0m \u001b[32m━━━━━━━━━━━━━━━━━━━━\u001b[0m\u001b[37m\u001b[0m \u001b[1m4s\u001b[0m 2ms/step\n",
      "Accuracy en entrenamiento: 0.9564\n",
      "\u001b[1m313/313\u001b[0m \u001b[32m━━━━━━━━━━━━━━━━━━━━\u001b[0m\u001b[37m\u001b[0m \u001b[1m1s\u001b[0m 2ms/step\n",
      "Accuracy en testeo: 0.8878\n"
     ]
    }
   ],
   "source": [
    "from sklearn.metrics import accuracy_score\n",
    "\n",
    "# Predicciones en entrenamiento\n",
    "train_logits = model.predict(X_train)\n",
    "train_pred = np.argmax(softmax(train_logits).numpy(), axis=1)\n",
    "train_acc = accuracy_score(y_train, train_pred)\n",
    "print(f\"Accuracy en entrenamiento: {train_acc:.4f}\")\n",
    "\n",
    "# Predicciones en testeo\n",
    "test_logits = model.predict(X_test)\n",
    "test_pred = np.argmax(softmax(test_logits).numpy(), axis=1)\n",
    "test_acc = accuracy_score(y_test, test_pred)\n",
    "print(f\"Accuracy en testeo: {test_acc:.4f}\")"
   ]
  },
  {
   "cell_type": "markdown",
   "id": "53fa6edb",
   "metadata": {},
   "source": [
    "## Observaciones finales:\n",
    "\n",
    "Si todo salió bien, en este punto el modelo de red neuronal debería alcanzar un accuracy del >90% en el conjunto de entrenamiento y un poco menor en el conjunto de testeo, lo cual indica un buen desempeño general en la tarea de clasificación multiclase. Sin embargo, habría que analizar la diferencia entre ambos valores porque puede sugerir un **ligero overfitting**, es decir, el modelo se ajustó mejor a los datos de entrenamiento que a los datos nuevos. De cualquier forma, la generalización sigue siendo aceptable.\n",
    "\n",
    "Podría evaluarse el uso de técnicas de regularización (como dropout o L2), aumento de datos o ajuste de hiperparámetros para reducir esta brecha y mejorar la robustez del modelo."
   ]
  }
 ],
 "metadata": {
  "kernelspec": {
   "display_name": "Python 3 (ipykernel)",
   "language": "python",
   "name": "python3"
  },
  "language_info": {
   "codemirror_mode": {
    "name": "ipython",
    "version": 3
   },
   "file_extension": ".py",
   "mimetype": "text/x-python",
   "name": "python",
   "nbconvert_exporter": "python",
   "pygments_lexer": "ipython3",
   "version": "3.11.9"
  }
 },
 "nbformat": 4,
 "nbformat_minor": 5
}
