{
 "cells": [
  {
   "cell_type": "markdown",
   "id": "53352115-c9e5-4f57-aaf7-ae495d6ea983",
   "metadata": {},
   "source": [
    "- usando modulo svc"
   ]
  },
  {
   "cell_type": "code",
   "execution_count": 2,
   "id": "e432b656-d2d8-4cb8-8d89-fd6fea74ff53",
   "metadata": {},
   "outputs": [
    {
     "ename": "NameError",
     "evalue": "name 'X_train' is not defined",
     "output_type": "error",
     "traceback": [
      "\u001b[31m---------------------------------------------------------------------------\u001b[39m",
      "\u001b[31mNameError\u001b[39m                                 Traceback (most recent call last)",
      "\u001b[36mCell\u001b[39m\u001b[36m \u001b[39m\u001b[32mIn[2]\u001b[39m\u001b[32m, line 2\u001b[39m\n\u001b[32m      1\u001b[39m \u001b[38;5;28;01mfrom\u001b[39;00m \u001b[34;01msklearn\u001b[39;00m\u001b[34;01m.\u001b[39;00m\u001b[34;01msvm\u001b[39;00m \u001b[38;5;28;01mimport\u001b[39;00m SVC\n\u001b[32m----> \u001b[39m\u001b[32m2\u001b[39m clf = SVC(kernel=\u001b[33m'\u001b[39m\u001b[33mlinear\u001b[39m\u001b[33m'\u001b[39m).fit(\u001b[43mX_train\u001b[49m, y_train)\n",
      "\u001b[31mNameError\u001b[39m: name 'X_train' is not defined"
     ]
    }
   ],
   "source": [
    "from sklearn.svm import SVC\n",
    "clf = SVC(kernel='linear').fit(X_train, y_train)"
   ]
  },
  {
   "cell_type": "markdown",
   "id": "ba1761a6-f525-454a-8457-8530a2cb97fe",
   "metadata": {},
   "source": [
    "- directamente el módulo LinearSVC"
   ]
  },
  {
   "cell_type": "code",
   "execution_count": 3,
   "id": "d5eacdc6-e271-4135-aa11-b7b5004360e2",
   "metadata": {},
   "outputs": [
    {
     "ename": "NameError",
     "evalue": "name 'X_train' is not defined",
     "output_type": "error",
     "traceback": [
      "\u001b[31m---------------------------------------------------------------------------\u001b[39m",
      "\u001b[31mNameError\u001b[39m                                 Traceback (most recent call last)",
      "\u001b[36mCell\u001b[39m\u001b[36m \u001b[39m\u001b[32mIn[3]\u001b[39m\u001b[32m, line 2\u001b[39m\n\u001b[32m      1\u001b[39m \u001b[38;5;28;01mfrom\u001b[39;00m \u001b[34;01msklearn\u001b[39;00m\u001b[34;01m.\u001b[39;00m\u001b[34;01msvm\u001b[39;00m \u001b[38;5;28;01mimport\u001b[39;00m LinearSVC\n\u001b[32m----> \u001b[39m\u001b[32m2\u001b[39m clf = LinearSVC(C=\u001b[32m1.0\u001b[39m).fit(\u001b[43mX_train\u001b[49m, y_train)\n",
      "\u001b[31mNameError\u001b[39m: name 'X_train' is not defined"
     ]
    }
   ],
   "source": [
    "from sklearn.svm import LinearSVC\n",
    "clf = LinearSVC(C=1.0).fit(X_train, y_train)"
   ]
  },
  {
   "cell_type": "code",
   "execution_count": 4,
   "id": "fd286627-3a62-441b-b7ca-fcebf0f6312b",
   "metadata": {},
   "outputs": [
    {
     "ename": "NameError",
     "evalue": "name 'svm' is not defined",
     "output_type": "error",
     "traceback": [
      "\u001b[31m---------------------------------------------------------------------------\u001b[39m",
      "\u001b[31mNameError\u001b[39m                                 Traceback (most recent call last)",
      "\u001b[36mCell\u001b[39m\u001b[36m \u001b[39m\u001b[32mIn[4]\u001b[39m\u001b[32m, line 2\u001b[39m\n\u001b[32m      1\u001b[39m \u001b[38;5;66;03m#- Para el Kernel Polinomial:\u001b[39;00m\n\u001b[32m----> \u001b[39m\u001b[32m2\u001b[39m svc = \u001b[43msvm\u001b[49m.SVC(kernel=\u001b[33m'\u001b[39m\u001b[33mpoly\u001b[39m\u001b[33m'\u001b[39m).fit(X_train, y_train)\n\u001b[32m      3\u001b[39m \u001b[38;5;66;03m#- Para e Kernel RBF Gaussiano:\u001b[39;00m\n\u001b[32m      4\u001b[39m svc = svm.SVC(kernel=\u001b[33m'\u001b[39m\u001b[33mrbf\u001b[39m\u001b[33m'\u001b[39m).fit(X_train, y_train)\n",
      "\u001b[31mNameError\u001b[39m: name 'svm' is not defined"
     ]
    }
   ],
   "source": [
    "#- Para el Kernel Polinomial:\n",
    "svc = svm.SVC(kernel='poly').fit(X_train, y_train)\n",
    "#- Para e Kernel RBF Gaussiano:\n",
    "svc = svm.SVC(kernel='rbf').fit(X_train, y_train)\n",
    "#- Para el Kernel Sigmoideo:\n",
    "svc = svm.SVC(kernel='sigmoid').fit(X_train, y_train)"
   ]
  },
  {
   "cell_type": "markdown",
   "id": "79cd7af2-1e52-414f-ac69-2be6d11d6963",
   "metadata": {},
   "source": [
    "## Regresion "
   ]
  },
  {
   "cell_type": "code",
   "execution_count": null,
   "id": "a3185687-506f-4002-a4f8-0b08367d99c6",
   "metadata": {},
   "outputs": [],
   "source": [
    "#Para Regresión lineal:\n",
    "rom sklearn.svm import LinearSVR\n",
    "svm_reg = LinearSVR(epsilon=1.5).fit(X_train, y_train)\n",
    "\n",
    "#Para Regresión no lineal:\n",
    "from sklearn.svm import SVR\n",
    "Svm_poly_reg = SVR(kernel=’poly’, degree=2, C=100, epsilon=0.1).fit(X_train, y_train)"
   ]
  },
  {
   "cell_type": "code",
   "execution_count": null,
   "id": "7cccc83f-09c2-4b69-9697-0034f327c62b",
   "metadata": {},
   "outputs": [],
   "source": []
  }
 ],
 "metadata": {
  "kernelspec": {
   "display_name": "Python 3 (ipykernel)",
   "language": "python",
   "name": "python3"
  },
  "language_info": {
   "codemirror_mode": {
    "name": "ipython",
    "version": 3
   },
   "file_extension": ".py",
   "mimetype": "text/x-python",
   "name": "python",
   "nbconvert_exporter": "python",
   "pygments_lexer": "ipython3",
   "version": "3.11.9"
  }
 },
 "nbformat": 4,
 "nbformat_minor": 5
}
