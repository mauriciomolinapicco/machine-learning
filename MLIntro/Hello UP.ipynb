{
 "cells": [
  {
   "cell_type": "code",
   "execution_count": 3,
   "id": "7988a3c7-ffb6-47d5-b16e-b8fdfe58e51e",
   "metadata": {},
   "outputs": [
    {
     "name": "stdout",
     "output_type": "stream",
     "text": [
      "hola mundo\n"
     ]
    }
   ],
   "source": [
    "print(\"hola mundo\")"
   ]
  },
  {
   "cell_type": "code",
   "execution_count": 8,
   "id": "a6e55c3c-a184-4520-ae34-ed044cc3043f",
   "metadata": {},
   "outputs": [
    {
     "name": "stdout",
     "output_type": "stream",
     "text": [
      "1\n"
     ]
    }
   ],
   "source": [
    "c=1\n",
    "print(c)"
   ]
  },
  {
   "cell_type": "code",
   "execution_count": 11,
   "id": "3b4a24b7-b14e-4083-abb1-ba7476847aaa",
   "metadata": {},
   "outputs": [
    {
     "data": {
      "text/plain": [
       "7"
      ]
     },
     "execution_count": 11,
     "metadata": {},
     "output_type": "execute_result"
    }
   ],
   "source": [
    "c+=2\n",
    "c"
   ]
  },
  {
   "cell_type": "markdown",
   "id": "4458d274-94a0-48ab-8030-f6e39d69bffd",
   "metadata": {},
   "source": [
    "## Subtitulo\n",
    "Texto plano *italica* **negrita**\n",
    "* bullet points\n",
    "* more bullet points :)\n",
    "\n",
    "``` print(\"Estoy en formato codigo\") ```"
   ]
  },
  {
   "cell_type": "code",
   "execution_count": 12,
   "id": "d61fd2de-a073-4ec0-b431-7a60f07f26b2",
   "metadata": {},
   "outputs": [],
   "source": []
  },
  {
   "cell_type": "code",
   "execution_count": null,
   "id": "0924815c-51e1-4fb4-a73d-7ea0655c55f4",
   "metadata": {},
   "outputs": [],
   "source": []
  },
  {
   "cell_type": "code",
   "execution_count": null,
   "id": "cd0f2550-72dc-4dbb-bb77-50dc7180bbbd",
   "metadata": {},
   "outputs": [],
   "source": []
  }
 ],
 "metadata": {
  "kernelspec": {
   "display_name": "Python 3 (ipykernel)",
   "language": "python",
   "name": "python3"
  },
  "language_info": {
   "codemirror_mode": {
    "name": "ipython",
    "version": 3
   },
   "file_extension": ".py",
   "mimetype": "text/x-python",
   "name": "python",
   "nbconvert_exporter": "python",
   "pygments_lexer": "ipython3",
   "version": "3.11.9"
  }
 },
 "nbformat": 4,
 "nbformat_minor": 5
}
