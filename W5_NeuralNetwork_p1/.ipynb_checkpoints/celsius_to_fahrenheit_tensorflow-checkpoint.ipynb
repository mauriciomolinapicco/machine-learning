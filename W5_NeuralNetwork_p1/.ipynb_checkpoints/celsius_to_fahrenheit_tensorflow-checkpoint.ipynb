{
 "cells": [
  {
   "cell_type": "code",
   "execution_count": null,
   "id": "5bc9bc82-0a97-4f03-b88d-65f98aed218e",
   "metadata": {},
   "outputs": [],
   "source": [
    "import tensorflow as tf\n",
    "import numpy as np"
   ]
  },
  {
   "cell_type": "code",
   "execution_count": null,
   "id": "33fa6ebc-eaeb-4639-96e4-22e8c4bbcd73",
   "metadata": {},
   "outputs": [],
   "source": [
    "celsius = np.array([-40, -10, 0, 8, 15, 22, 38], dtype=float)\n",
    "fahrenheit = np.array([-40., 14., 32., 46., 59., 72., 100.], dtype=float)\n",
    "celsius"
   ]
  },
  {
   "cell_type": "code",
   "execution_count": null,
   "id": "3dedca94-71d2-4a36-85cb-8fc6cefee992",
   "metadata": {},
   "outputs": [],
   "source": [
    "#vamos a usar keras para simplificar codigo\n",
    "#puedo especificar las capas de entrada y de salida o solo la de salida\n",
    "capa = tf.keras.layers.Dense(units=1, input_shape=[1])\n",
    "#units es la cant de neuronas de salida e input shape la cant de neuronas de entrada\n",
    "\n",
    "#modelo secuencial\n",
    "modelo = tf.keras.Sequential([capa])"
   ]
  },
  {
   "cell_type": "code",
   "execution_count": null,
   "id": "c42b0c0d-9cd9-4497-a0c2-8ef5ab574d76",
   "metadata": {},
   "outputs": [],
   "source": [
    "modelo.compile(\n",
    "    pti\n",
    ")"
   ]
  }
 ],
 "metadata": {
  "kernelspec": {
   "display_name": "Python 3 (ipykernel)",
   "language": "python",
   "name": "python3"
  },
  "language_info": {
   "codemirror_mode": {
    "name": "ipython",
    "version": 3
   },
   "file_extension": ".py",
   "mimetype": "text/x-python",
   "name": "python",
   "nbconvert_exporter": "python",
   "pygments_lexer": "ipython3",
   "version": "3.11.9"
  }
 },
 "nbformat": 4,
 "nbformat_minor": 5
}
