{
 "cells": [
  {
   "cell_type": "code",
   "execution_count": null,
   "id": "fa2e05f4",
   "metadata": {
    "vscode": {
     "languageId": "plaintext"
    }
   },
   "outputs": [],
   "source": [
    "from sklearn.tree import DecisionTreeRegressor\n",
    "from sklearn.datasets import load_boston\n",
    "from sklearn.model_selection import train_test_split\n",
    "from sklearn.metrics import mean_squared_error\n",
    "data = load_boston()\n",
    "X = data.data\n",
    "y = data.target"
   ]
  },
  {
   "cell_type": "code",
   "execution_count": null,
   "id": "b7d7ea5f-6180-43cd-b282-14c625ffa1dc",
   "metadata": {},
   "outputs": [],
   "source": []
  },
  {
   "cell_type": "code",
   "execution_count": null,
   "id": "fb9ba08c",
   "metadata": {
    "vscode": {
     "languageId": "plaintext"
    }
   },
   "outputs": [],
   "source": [
    "# Dividir el conjunto de datos en datos de entrenamiento y prueba\n",
    "X_train, X_test, y_train, y_test = train_test_split(X, y, test_size=0.2)\n",
    "# Crear un modelo de árbol de decisión CART\n",
    "model = DecisionTreeRegressor()\n",
    "# Entrenar el modelo\n",
    "model.fit(X_train, y_train)"
   ]
  },
  {
   "cell_type": "code",
   "execution_count": null,
   "id": "5cb3f9a3-be30-442b-9b03-1e9b04648827",
   "metadata": {},
   "outputs": [],
   "source": [
    "# Realizar predicciones en los datos de prueba\n",
    "y_pred = model.predict(X_test)\n",
    "# Calcular el error cuadrado medio (MSE)\n",
    "mse = mean_squared_error(y_test, y_pred)\n",
    "print(\"Error cuadrado medio (MSE):\", mse)"
   ]
  },
  {
   "cell_type": "markdown",
   "id": "7d9ed245-219a-4450-8e5f-99df322659c2",
   "metadata": {},
   "source": [
    "para la creación de modelos Random Forest en Scikit-Learn solo basta con\n",
    "crear una instancia del módulo RandomForestClassifier o RandomForestRegressor"
   ]
  },
  {
   "cell_type": "markdown",
   "id": "330b2805-4997-40e9-b06d-9fc7b178fbef",
   "metadata": {},
   "source": [
    "## Random Forest"
   ]
  },
  {
   "cell_type": "code",
   "execution_count": 2,
   "id": "b78ab64e-adfe-4a69-9ece-a36789deaff1",
   "metadata": {},
   "outputs": [
    {
     "name": "stdout",
     "output_type": "stream",
     "text": [
      "Precisión del modelo: 1.0\n"
     ]
    }
   ],
   "source": [
    "# Importar las bibliotecas necesarias\n",
    "from sklearn.ensemble import RandomForestClassifier\n",
    "from sklearn.datasets import load_iris\n",
    "from sklearn.model_selection import train_test_split\n",
    "from sklearn.metrics import accuracy_score\n",
    "# Cargar el conjunto de datos de ejemplo (Iris)\n",
    "data = load_iris()\n",
    "X = data.data\n",
    "y = data.target\n",
    "# Dividir el conjunto de datos en datos de entrenamiento y prueba\n",
    "X_train, X_test, y_train, y_test = train_test_split(X, y, test_size=0.2)\n",
    "# Crear un modelo de Random Forest\n",
    "model = RandomForestClassifier(n_estimators=100)\n",
    "# Entrenar el modelo\n",
    "model.fit(X_train, y_train)\n",
    "# Realizar predicciones en los datos de prueba\n",
    "y_pred = model.predict(X_test)\n",
    "# Calcular la precisión del modelo\n",
    "accuracy = accuracy_score(y_test, y_pred)\n",
    "print(\"Precisión del modelo:\", accuracy)"
   ]
  },
  {
   "cell_type": "markdown",
   "id": "9662fd37-2c10-4ba9-b561-24bc8539831c",
   "metadata": {},
   "source": [
    "### Predicciones y calculo de precision"
   ]
  },
  {
   "cell_type": "code",
   "execution_count": null,
   "id": "69485573-1e69-45e2-aa49-3f748770c63f",
   "metadata": {},
   "outputs": [],
   "source": [
    "# Importar las bibliotecas necesarias\n",
    "from sklearn.ensemble import GradientBoostingRegressor\n",
    "from sklearn.datasets import fetch_california_housing\n",
    "from sklearn.model_selection import train_test_split\n",
    "from sklearn.metrics import mean_squared_error\n",
    "# Cargar el conjunto de datos de ejemplo (California Housing)\n",
    "data = fetch_california_housing()\n",
    "X = data.data\n",
    "y = data.target\n",
    "# Dividir el conjunto de datos en datos de entrenamiento y testeo\n",
    "X_train, X_test, y_train, y_test = train_test_split(X, y, test_size=0.2)\n",
    "# Crear un modelo de Gradient Boosting\n",
    "model = GradientBoostingRegressor(n_estimators=500, learning_rate=0.1, max_depth=3)\n",
    "# Entrenar el modelo\n",
    "model.fit(X_train, y_train)\n",
    "# Realizar predicciones en los datos de prueba\n",
    "y_pred = model.predict(X_test)\n",
    "# Calcular el error cuadrado medio (MSE)\n",
    "mse = mean_squared_error(y_test, y_pred)\n",
    "print(\"Error cuadrado medio (MSE):\", mse)"
   ]
  },
  {
   "cell_type": "code",
   "execution_count": null,
   "id": "a4f347c7-8153-4389-ad87-37a54027404c",
   "metadata": {},
   "outputs": [],
   "source": [
    "Parametros:\n"
   ]
  }
 ],
 "metadata": {
  "kernelspec": {
   "display_name": "Python 3 (ipykernel)",
   "language": "python",
   "name": "python3"
  },
  "language_info": {
   "codemirror_mode": {
    "name": "ipython",
    "version": 3
   },
   "file_extension": ".py",
   "mimetype": "text/x-python",
   "name": "python",
   "nbconvert_exporter": "python",
   "pygments_lexer": "ipython3",
   "version": "3.11.9"
  }
 },
 "nbformat": 4,
 "nbformat_minor": 5
}
