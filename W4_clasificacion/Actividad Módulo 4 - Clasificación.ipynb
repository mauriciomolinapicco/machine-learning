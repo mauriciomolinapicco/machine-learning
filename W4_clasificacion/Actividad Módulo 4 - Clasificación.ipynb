{
 "cells": [
  {
   "cell_type": "markdown",
   "id": "962fe3e8-a7b2-4a17-92d4-4ff0637aa767",
   "metadata": {},
   "source": [
    "# Integrantes\n",
    "\n",
    "### MARÍA INÉS BERDIÑAS\n",
    "### GONZALO DANIEL GRECCO\n",
    "### MAURICIO NICOLÁS MOLINA PICCO\n",
    "\n",
    "--------------------\n",
    "\n",
    "#### Aclaración:\n",
    "En caso de que se ejecute el código dará error, porque no existe el dataset al que se hace referencia ya que el desarrollo se hace sobre un dataset hipotético"
   ]
  },
  {
   "cell_type": "markdown",
   "id": "2a2efd43",
   "metadata": {},
   "source": [
    "# Módulo 4: Clasificación\n",
    "\n",
    "## Clasificación multiclase: Wine Dataset\n",
    "\n",
    "El wine dataset consta de **13 parámetros** diferentes del vino medidos en 178 muestras distintas de vino. Estos vinos se cultivaron en la misma región de Italia pero se derivaron de tres cultivares diferentes; por lo tanto, hay **tres clases diferentes de vino**.\n",
    "\n",
    "El objetivo es predecir la clase del vino dados los 13 parámetros observados (features). Para ello, vamos a crear 2 modelos de clasificación utilizando Regresión Logistica y K-NN y vamos a evaluar la precisión de cada uno de ellos.\n",
    "\n",
    "Los features del dataset son:\n",
    "\n",
    "    1) Alcohol\n",
    "    2) Malic acid\n",
    "    3) Ash\n",
    "    4) Alcalinity of ash\n",
    "    5) Magnesium\n",
    "    6) Total phenols\n",
    "    7) Flavanoids\n",
    "    8) Nonflavanoid phenols\n",
    "    9) Proanthocyanins\n",
    "    10) Color intensity\n",
    "    11) Hue\n",
    "    12) OD280/OD315 of diluted wines\n",
    "    13) Proline       \n",
    "    \n",
    "El label esta representado por los valores 1, 2 y 3 para identificar cada tipo de vino."
   ]
  },
  {
   "cell_type": "markdown",
   "id": "1f32592b",
   "metadata": {},
   "source": [
    "### <font color='red'>**Actividad 1:**</font>\n",
    "**a)** Escribir en Python un programa para dividir el dataset del archivo wine.csv almacenando **los features en una variable llamada X**  y **los labels en una variable llamada y**."
   ]
  },
  {
   "cell_type": "code",
   "execution_count": 8,
   "id": "857c39ab",
   "metadata": {},
   "outputs": [],
   "source": [
    "import pandas as pd # Para manejar datos en forma de DataFrame\n",
    "wineData = pd.read_csv(\"wine.csv\")\n",
    "\n",
    "#Separamos los features (todas las columnas menos la última que ocntiene el label)\n",
    "X = wineData.iloc[:,:-1]\n",
    "# : --> todas las filas\n",
    "# :-1 --> todas las columnas menos la última\n",
    "\n",
    "#Separamos el label (todas las filas de solo la última columna)\n",
    "Y = wineData.iloc[:,-1]\n",
    "# : --> todas las filas\n",
    "# -1 --> última columna"
   ]
  },
  {
   "cell_type": "markdown",
   "id": "d03f2d22",
   "metadata": {},
   "source": [
    "**b)** Imprimir los **5 primeros ejemplos (filas) de X**"
   ]
  },
  {
   "cell_type": "code",
   "execution_count": null,
   "id": "5df66a2a",
   "metadata": {},
   "outputs": [],
   "source": [
    "print(wineData.head(5))"
   ]
  },
  {
   "cell_type": "markdown",
   "id": "866f2c34",
   "metadata": {},
   "source": [
    "**c)** Imprimir la **cantidad de ejemplos por cada clase**\n",
    "\n",
    "**Ayuda:**\n",
    "- **pandas.read_csv(file)** crea un DataFrame a partir de un archivo .csv\n",
    "- **Dataframe.iloc[]** permite filtrar columnas\n",
    "- **DataFrame.head()** permite imprimir las primeras filas del DataFrame\n",
    "- **Series.value_counts()** cuenta la cantidad de ocurrencias por cada valor en la serie (columna)"
   ]
  },
  {
   "cell_type": "code",
   "execution_count": null,
   "id": "0c153399",
   "metadata": {},
   "outputs": [],
   "source": [
    "print(Y.value_counts())\n",
    "\n",
    "#esto imprime la cantidad de vinos de clase 1,2 y 3 (valores que se encuentran en el label)"
   ]
  },
  {
   "cell_type": "markdown",
   "id": "f4ea2e63",
   "metadata": {},
   "source": [
    "### <font color='red'>**Actividad 2:**</font>\n",
    "**a)** Utilizar la librería Scikit-learn para **dividir el dataset de vinos en un 70 % de datos de entrenamiento y un 30 % de datos de testeo**. Del total de 178 registros, 124 quedarán en el conjunto de entrenamiento y 54 en el conjunto de prueba. Las variables **X_train**, **y_train** deberán contener los features y los labels del dataset de entrenamiento, mientras que **X_test** e **y_test** deberán contener los features y los labels del dataset de testeo.\n",
    "\n",
    "**Ayuda:** Se puede utilizar el método **train_test_split** de Scikit-Learn "
   ]
  },
  {
   "cell_type": "code",
   "execution_count": null,
   "id": "7965bcad",
   "metadata": {},
   "outputs": [],
   "source": [
    "from sklearn.model_selection import train_test_split\n",
    "\n",
    "#Dividir el dataset en entrenamiento (70%) y prueba (30%)\n",
    "X_train, X_test, Y_train, Y_test = train_test_split(X, Y, test_size=0.3, random_state=13, stratify=Y)\n",
    "\n",
    "#X --> variable de features\n",
    "#Y --> variable de labels\n",
    "#test_size --> definimos que el 30% será para testeo (y en consecuencia el 70% para entrenamiento)\n",
    "#random_state --> es una semilla que fija para que la partición sea siempre igual, de esta manera el algoritmo sigue una secuencia aleatoria interna, obteniendo siempre la misma partición de entrenamiento y prueba (El número es 13 porque me gusta ese número, pero puede ser cualquier entero)\n",
    "#stratify=Y --> stratify asegura que la proporción de clases (1, 2, 3) sea la misma en entrenamiento y prueba, debe siempre estar igualada a la variable que contenga los labels (en este caso Y)"
   ]
  },
  {
   "cell_type": "markdown",
   "id": "1fc1956a",
   "metadata": {},
   "source": [
    "**b)** Imprimir el tamaño de cada dataset resultante (**X** e **y** para entrenamiento y para testeo).\n",
    "\n",
    "**Ayuda:** **DataFrame.shape** permite conocer el tamaño del Dataframe (Filas, Columnas)"
   ]
  },
  {
   "cell_type": "code",
   "execution_count": null,
   "id": "9b03a727",
   "metadata": {},
   "outputs": [],
   "source": [
    "print(\"Tamaño de X_train: \", X_train.shape)\n",
    "print(\"Tamaño de X_test: \", X_test.shape)\n",
    "print(\"Tamaño de Y_train: \", Y_train.shape)\n",
    "print(\"Tamaño de Y_test: \", Y_test.shape)"
   ]
  },
  {
   "cell_type": "markdown",
   "id": "081e4de1",
   "metadata": {},
   "source": [
    "### <font color='red'>**Actividad 3:**</font>\n",
    "Escribir un programa Python para ver algunos detalles estadísticos básicos como cantidades, percentiles, media, desviación estándar, etc. de los tipos de vino (1, 2 y 3) solamente de los siguientes features: **Alcohol**, **Phenols** y **Color.int**\n",
    "\n",
    "**Ayuda:**\n",
    "- En Pandas se utilizan filtros para seleccionar ejemplos especificos. Por ejemplo, para obtener todas los ejemplos (filas) correspondientes al vino \"Tipo 1\" se puede hacer **X[y == 1]**, esto crea un DataFrame nuevo con los ejemplos de **X** que en el DataFrame y tengan el label 1.\n",
    "- Si ademas se quieren filtrar columnas se pueden listar por su nombre. Por ejemplo **X[['Alcohol', 'Phenols']]** devuelve un DataFrame solo con las columnas **Alcohol** y **Phenols**.\n",
    "- **DataFrame.describe()** se utiliza para obtener estadisticas de un DataFrame como media, std, etc."
   ]
  },
  {
   "cell_type": "code",
   "execution_count": null,
   "id": "3f165169",
   "metadata": {},
   "outputs": [],
   "source": [
    "#Usaremos Pandas (ya importamos esta librería más arriba en el código)\n",
    "\n",
    "for clase in range(1,4):\n",
    "    vinos = X[Y == clase]['Alcohol', 'Phenols', 'Color intensity']\n",
    "    #ejemplo X[y == 1] devuelve un subconjunto de X con solo los vinos de tipo 1, y luego especifico las tres columnas que quiero\n",
    "    #Puse Color intensity en vez de Color.int ya que el primero es como dice la consigna (al principio de la actividad) que se llama el feature\n",
    "    print(f\"Valores estadisticos de la clase {clase}\")\n",
    "    print(vinos.describe())\n",
    "    print(\"-\"*45) #separacion"
   ]
  },
  {
   "cell_type": "markdown",
   "id": "1fe28e47",
   "metadata": {},
   "source": [
    "### <font color='red'>**Actividad 4:**</font>\n",
    "Escribir un programa en Python para crear un diagrama de dispersión de forma que en el eje x se encuentre el feature **Alcohol**, en el eje y el feature **Color.int** y que los puntos de dispersión presenten colores diferentes que distingan las tres clases de vinos.\n",
    "\n",
    "**Ayuda:**\n",
    "- En matplotlib se puede utilizar el método **.scatter** para crear un grafico de dispersión. Los valores del eje x y del eje y se pasan por parámetro, como así también este método acepta un parámetro, llamado **c**, el cual puede ser un arreglo numérico que define los colores de los puntos de dispersión (la variable y, anteriormente creada, es un arreglo de números -1, 2 y 3- que puede utilizarse para definir el parametro **c**)\n",
    "\n"
   ]
  },
  {
   "cell_type": "code",
   "execution_count": null,
   "id": "6a97973e",
   "metadata": {},
   "outputs": [],
   "source": [
    "import matplotlib.pyplot as plt   #Sirve para crear gráficos\n",
    "\n",
    "#Creo gráficos de dispersión\n",
    "plt.scatter(\n",
    "    X['Alcohol'],                # eje X --> feature Alcohol\n",
    "    X['Color intensity'],        # eje Y --> feature Color intensity\n",
    "    c=y,                         # colores según la clase (1, 2 o 3)\n",
    "    cmap='viridis',              # paleta de colores, Matplotlib elige automáticamente los colores para cada clase\n",
    "    edgecolor='k',               # borde negro para distinguir puntos\n",
    "    alpha=0.7                    # transparencia para que no se tapen demasiado\n",
    ")\n",
    "\n",
    "# 2) Agregamos etiquetas a los ejes\n",
    "plt.xlabel(\"Alcohol\")\n",
    "plt.ylabel(\"Color intensity\")\n",
    "\n",
    "# 3) Título del gráfico\n",
    "plt.title(\"Diagrama de dispersión: Alcohol vs Color intensity\")\n",
    "\n",
    "# 4) Mostramos el gráfico en pantalla\n",
    "plt.show()"
   ]
  },
  {
   "cell_type": "markdown",
   "id": "5950fdca",
   "metadata": {},
   "source": [
    "## Modelo 1: Regresión Logística\n",
    "A continuación, vamos a entrenar un modelo de Regresión Logística considerando únicamente los features **Alcohol** y **Color.int** para poder observar gráficamente el limite de decisión creado automáticamente por el modelo entrenado con Scikit-Learn.\n",
    "\n",
    "**Nota:** El módulo **DecisionBoundaryDisplay** nos permitirá visualizar el límite de decisión en el gráfico de dispersión.\n"
   ]
  },
  {
   "cell_type": "code",
   "execution_count": null,
   "id": "452b8667",
   "metadata": {},
   "outputs": [],
   "source": [
    "from sklearn.inspection import DecisionBoundaryDisplay\n",
    "\n",
    "from sklearn.linear_model import LogisticRegression \n",
    "\n",
    "\n",
    "#Creamos un método que grafique el límite de decisión en el grafico de dispersión\n",
    "def plot_model(X_plot, y, model, ax):\n",
    "    \n",
    "    disp = DecisionBoundaryDisplay.from_estimator(\n",
    "        model,\n",
    "        X_plot,\n",
    "        response_method=\"predict\",\n",
    "        alpha=0.5,\n",
    "        ax=ax,\n",
    "    )\n",
    "    \n",
    "    disp.ax_.scatter(X_plot[\"Alcohol\"], X_plot[\"Color.int\"], c=y, s=20, edgecolor=\"k\")\n",
    "    disp.ax_.set_xlim((X_plot[\"Alcohol\"].min(), X_plot[\"Alcohol\"].max()))\n",
    "    disp.ax_.set_ylim((X_plot[\"Color.int\"].min(), X_plot[\"Color.int\"].max()))\n",
    "\n",
    "    #devuelve el grafico\n",
    "    return disp.ax_"
   ]
  },
  {
   "cell_type": "markdown",
   "id": "57bbb689",
   "metadata": {},
   "source": [
    "Creamos una instancia del objeto **LogisticRegression** de Scikit-learn. "
   ]
  },
  {
   "cell_type": "code",
   "execution_count": null,
   "id": "b2739e2a",
   "metadata": {},
   "outputs": [],
   "source": [
    "lg = LogisticRegression(max_iter=200)\n",
    "\n",
    "# Entrenamos el modelo considerando solamente 2 features\n",
    "lg.fit(X_train[[\"Alcohol\", \"Color.int\"]], Y_train)\n",
    "\n",
    "# Graficamos el resultado\n",
    "fig, (ax1) = plt.subplots(ncols=1, figsize=(6, 5))\n",
    "\n",
    "plot_model(X_train[[\"Alcohol\", \"Color.int\"]], Y_train, lg, ax1)\n",
    "ax1.set_xlabel(\"Alcohol\")\n",
    "ax1.set_ylabel(\"Color.int\")\n",
    "_ = ax1.set_title(\"Logistic Regression\")"
   ]
  },
  {
   "cell_type": "markdown",
   "id": "087fa675",
   "metadata": {},
   "source": [
    "### <font color='red'>**Actividad 5:**</font>\n",
    "\n",
    "Considerando el dataset de entrenamiento y el dataset de testeo creados anteriormente:\n",
    "1. Escribir un programa en Python para obtener y entrenar un modelo de Regresión Logística con el dataset de entrenamiento completo (para todos los features). \n",
    "2. Obtener las predicciones para todo el dataset de testeo.\n",
    "3. Evaluar el modelo con la métrica Accuracy.\n",
    "**Ayuda:**\n",
    "- Recordar los 4 pasos para entrenar un modelo: **(1) Importar módulo, (2)Crear la instancia, (3) Entrenar el modelo y (4) Predecir para nuevos ejemplos**.\n",
    "- Para obtener la métrica de Accuracy se puede utilizar el **método .accuracy_score(y_pred, y_test)**\n"
   ]
  },
  {
   "cell_type": "code",
   "execution_count": null,
   "id": "b4ced3f5",
   "metadata": {},
   "outputs": [],
   "source": [
    "#(1) Importo las librerías necesarias\n",
    "from sklearn.linear_model import LogisticRegression   \n",
    "from sklearn.metrics import accuracy_score    #función que mide qué porcentaje de predicciones fueron correctas        \n",
    "\n",
    "#(2) Creo la instancia del modelo\n",
    "logistic_reg = LogisticRegression(max_iter=200)  # max_iter asegura que el modelo converja\n",
    "\n",
    "#(3) Entreno el modelo con el dataset de entrenamiento (todas las columnas/features)\n",
    "logistic_reg.fit(X_train, Y_train)\n",
    "\n",
    "#(4) Predigo los nuevos ejemplos\n",
    "Y_pred = logistic_reg.predict(X_test)\n",
    "\n",
    "#Evalúo el modelo con la métrica Accuracy\n",
    "accuracy = accuracy_score(Y_test, Y_pred)\n",
    "\n",
    "print(\"Accuracy del modelo de Regresión Logística:\", accuracy)\n"
   ]
  },
  {
   "cell_type": "markdown",
   "id": "15a4e301",
   "metadata": {},
   "source": [
    "# Modelo 2: K-NN"
   ]
  },
  {
   "cell_type": "markdown",
   "id": "6018968d",
   "metadata": {},
   "source": [
    "### <font color='red'>**Actividad 6:**</font>\n",
    "Considerando el dataset de entrenamiento y el dataset de testeo creados anteriormente:\n",
    "1. Escribir un programa en Python para obtener y entrenar un modelo de K-NN con el dataset de entrenamiento completo (para todos los features). Utilice una cantidad de vecinos igual a 5 (K=5).\n",
    "2. Obtener las predicciones para todo el dataset de testeo.\n",
    "3. Evaluar el modelo con la métrica Accuracy.\n",
    " "
   ]
  },
  {
   "cell_type": "code",
   "execution_count": null,
   "id": "d241d0a1",
   "metadata": {},
   "outputs": [],
   "source": [
    "#Importo las librerías\n",
    "from sklearn.neighbors import KNeighborsClassifier   \n",
    "from sklearn.metrics import accuracy_score           \n",
    "\n",
    "#Creación de la instancia del modelo con k=5 (buscara los 5 \"vecinos\" mas cercanos y en \n",
    "# base a esto realizara la prediccion/es\n",
    "knn = KNeighborsClassifier(n_neighbors=5)\n",
    "\n",
    "#Entrenamiento del modelo con el dataset de entrenamiento\n",
    "knn.fit(X_train, Y_train)\n",
    "\n",
    "#Obtención de las predicciones para el dataset de testeo\n",
    "Y_pred_knn = knn.predict(X_test)\n",
    "#Y_pred_knn es un arrat de NumPy que contiene las predicciones de todas las filas de test\n",
    "\n",
    "#Evaluación del modelo con Accuracy\n",
    "accuracy_knn = accuracy_score(Y_test, Y_pred_knn)\n",
    "\n",
    "print(\"Accuracy del modelo K-NN (k=5):\", accuracy_knn)\n"
   ]
  },
  {
   "cell_type": "markdown",
   "id": "f92a32df",
   "metadata": {},
   "source": [
    "### <font color='red'>**Actividad 7:**</font>\n",
    "Utilizando el algoritmo de clasificación K-NN, calcular el rendimiento para diferentes valores de k, tomando como referencia valores de k entre 1 y 30."
   ]
  },
  {
   "cell_type": "code",
   "execution_count": null,
   "id": "a002fa91",
   "metadata": {},
   "outputs": [],
   "source": [
    "#Uso las mismas librerías que importé anteriormente\n",
    "resultados = {} # Diccionario para guardar los resultados (clave=k, valor=accuracy)\n",
    "\n",
    "# Recorro valores de k entre 1 y 30\n",
    "for k in range(1, 31):\n",
    "    # Creo el modelo con el valor de k actual\n",
    "    knn = KNeighborsClassifier(n_neighbors=k)\n",
    "    \n",
    "    # Entreno el modelo\n",
    "    knn.fit(X_train, Y_train)\n",
    "    \n",
    "    # Predigo con el modelo entrenado\n",
    "    Y_pred = knn.predict(X_test)\n",
    "    \n",
    "    # Calculo el accuracy\n",
    "    accuracy = accuracy_score(Y_test, Y_pred)\n",
    "    \n",
    "    # Guardo el resultado\n",
    "    resultados[k] = accuracy\n",
    "\n",
    "# Muestro el diccionario de resultados\n",
    "for k, accuracy in resultados.items():\n",
    "    print(f\"k={k}: Accuracy={accuracy:.4f}\")"
   ]
  }
 ],
 "metadata": {
  "kernelspec": {
   "display_name": "Python 3 (ipykernel)",
   "language": "python",
   "name": "python3"
  },
  "language_info": {
   "codemirror_mode": {
    "name": "ipython",
    "version": 3
   },
   "file_extension": ".py",
   "mimetype": "text/x-python",
   "name": "python",
   "nbconvert_exporter": "python",
   "pygments_lexer": "ipython3",
   "version": "3.11.9"
  }
 },
 "nbformat": 4,
 "nbformat_minor": 5
}
