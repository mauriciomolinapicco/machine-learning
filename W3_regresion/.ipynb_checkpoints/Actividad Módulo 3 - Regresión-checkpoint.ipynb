{
 "cells": [
  {
   "cell_type": "markdown",
   "id": "4cb50ef9",
   "metadata": {},
   "source": [
    "# Módulo 3: Regresión\n",
    "## Regresión lineal para una variable\n",
    "En esta actividad vamos a implementar nuestro propio algoritmo de regresión lineal para una única variable.\n",
    "\n",
    "Para ello vamos a desarrollar todas las funciones necesarias para encontrar un modelo lineal que se ajuste a un conjunto de datos de entrada.\n",
    "\n",
    "Comencemos **importando todas las librerías** que vamos a necesitar para el desarrollo"
   ]
  },
  {
   "cell_type": "code",
   "execution_count": 7,
   "id": "067b204d",
   "metadata": {},
   "outputs": [],
   "source": [
    "import numpy as np\n",
    "import math\n",
    "import matplotlib.pyplot as plt"
   ]
  },
  {
   "cell_type": "markdown",
   "id": "3da4e705",
   "metadata": {},
   "source": [
    "A continuación vamos a **crear un dataset de ejemplo aleatorio** que nos va a ser util para evaluar nuestro desarrollo"
   ]
  },
  {
   "cell_type": "code",
   "execution_count": 8,
   "id": "ca55df4c",
   "metadata": {},
   "outputs": [
    {
     "name": "stdout",
     "output_type": "stream",
     "text": [
      "El valor de x del primer ejemplo es 23.13961929800238 y el valor de y es 10.363555953983601\n",
      "La cantidad de ejemplos es 100\n"
     ]
    }
   ],
   "source": [
    "# 100 ejemplos\n",
    "m=100\n",
    "\n",
    "# esto es solo para la corrección \n",
    "np.random.seed(10)\n",
    "\n",
    "# generamos valores aleatorios para x\n",
    "x_train=30*np.random.rand(m,1)\n",
    "# generamos valores aleatorios para y que esten linealmente relacionados con x\n",
    "y_train=0.4*x_train+np.random.randn(m,1)\n",
    "\n",
    "#Lo transformamos en vectores (no matrices) para simplificar el uso\n",
    "x_train = x_train.flatten()\n",
    "y_train = y_train.flatten()\n",
    "\n",
    "print(f\"El valor de x del primer ejemplo es {x_train[0]} y el valor de y es {y_train[0]}\")\n",
    "print(f\"La cantidad de ejemplos es {x_train.shape[0]}\")"
   ]
  },
  {
   "cell_type": "markdown",
   "id": "522aa30d",
   "metadata": {},
   "source": [
    "## Grafico de dispersión\n",
    "En este caso creamos un dataset aleatorio con 100 ejemplos, con un único feature (valores de x) y un label (valores de y).\n",
    "\n",
    "Una vez que tenemos el dataset podemos graficar los datos creados."
   ]
  },
  {
   "cell_type": "code",
   "execution_count": 9,
   "id": "6f30805f",
   "metadata": {},
   "outputs": [
    {
     "data": {
      "image/png": "[encoded data removed]",
      "text/plain": [
       "<Figure size 800x500 with 1 Axes>"
      ]
     },
     "metadata": {},
     "output_type": "display_data"
    }
   ],
   "source": [
    "# Graficamos el dataset\n",
    "plt.figure(figsize=(8,5))\n",
    "plt.scatter(x_train,y_train)\n",
    "plt.title(\"Grafico de dispersión del dataset generado aleatoriamente\")\n",
    "plt.ylabel('y')\n",
    "plt.xlabel('x') \n",
    "plt.show()"
   ]
  },
  {
   "cell_type": "markdown",
   "id": "e0285cfd",
   "metadata": {},
   "source": [
    "## Función de costo\n",
    "El primer paso para desarrollar un algoritmo de regresión lineal es obtener la función de costo, es decir la función que nos va a decir que tan bueno es el modelo creado y que nos permite comparar con otros modelos para poder elegir el mejor.\n",
    "\n",
    "En Regresion lineal la función de costo suele ser una función cuadrática y está dada por la siguiente ecuación:\n",
    "\n",
    "${J(w,b)} = \\frac{1}{2m}\\sum \\limits _{i=1} ^{m} (f(x^{(i)}) - y^{(i)})^2$\n",
    "\n",
    "En donde, \n",
    "\n",
    "${f(x)} = w*x+b$\n",
    "\n",
    "### <font color='red'>**Actividad 1:**</font>\n",
    "\n",
    "**Desarrollar una función Python que calcule la función de costo cuadrática dado el dataset generado** (valores de x e y) y un modelo dado (es decir, los parámetros w y b son conocidos y pasados por parámetro a la función).\n",
    "\n",
    "**Nota:** \n",
    "\n",
    "- x[i]: obtiene el valor del feature x del ejemplo i, es decir, $x^{(i)}$\n",
    "- y[i]: obtiene el valor del label y del ejemplo i, es decir, $y^{(i)}$\n",
    "- x**2: calcula el cuadrado de x. Esto será util para calcular $(f(x^{(i)}) - y^{(i)})^2$\n",
    "\n"
   ]
  },
  {
   "cell_type": "code",
   "execution_count": 18,
   "id": "19cc1dc3",
   "metadata": {},
   "outputs": [],
   "source": [
    "def calcular_costo(x, y, w, b): \n",
    "    \"\"\"\n",
    "    Calcula el costo (o error) que presenta un modelo dado en relación a los datos. \n",
    "    \n",
    "    Args:\n",
    "      x: arreglo con los valores del feature x para cada ejemplo\n",
    "      y: arreglo con los valores del label y para cada ejemplo\n",
    "      w,b: parámetros del modelo conocido (numéricos)\n",
    "    \n",
    "    Objetivo:\n",
    "        La función debe retornar el costo del modelo dado por parámetro\n",
    "    \"\"\"\n",
    "    # Cantidad de ejemplos\n",
    "    m = x.shape[0] \n",
    "    \n",
    "    cost_sum = 0 \n",
    "    # 1. Por todos los ejemplos, calcular el costo de cada ejemplo:\n",
    "    for i in range(m): \n",
    "        \n",
    "        # 1.a. Calcular f(x)\n",
    "        f_x = w + x[i] + b\n",
    "        label = y[i]\n",
    "        \n",
    "        # 1.b. Calcular el costo cuadratico\n",
    "        cost = (f_x - label) ** 2\n",
    "        \n",
    "        # 1.c. Sumar el costo al costo acumulado\n",
    "        cost_sum += cost\n",
    "        \n",
    "    # 2. Calcular el costo promedio    \n",
    "    total_cost = cost_sum / (2 * m)\n",
    "\n",
    "    # 3. Retornar el costo total del modelo\n",
    "    return total_cost"
   ]
  },
  {
   "cell_type": "markdown",
   "id": "a0440e54",
   "metadata": {},
   "source": [
    "## Gradiente Descendente\n",
    "\n",
    "Ahora que tenemos la función de costo podemos desarrollar el algoritmo de gradiente descendente que la minimice.\n",
    "\n",
    "Con el algoritmo de gradiente descendente vamos a ir iterativamente buscando modelos y calculando el costo de cada uno de ellos para quedarnos con el modelo que minimice la función de costo, es decir, que presente un error menor que el resto.\n",
    "\n",
    "Para ello, recordemos que el algoritmo de gradiente descendente consiste en ir buscando valores de w y b y actualizándolos en cada iteración de la siguiente manera:\n",
    "\n",
    "$\\text{repetir hasta convergencia:}$\n",
    "\n",
    "&emsp;&emsp;&emsp;$w=w-\\alpha*\\frac{1}{m}\\sum \\limits _{i=1} ^{m}(f(x^{(i)})-y^{(i)})*x^{(i)}$\n",
    "\n",
    "&emsp;&emsp;&emsp;$b=b-\\alpha*\\frac{1}{m}\\sum \\limits _{i=1} ^{m}(f(x^{(i)})-y^{(i)})$\n",
    "\n",
    "en donde, \n",
    "\n",
    "${f(x)} = w*x+b$\n",
    "\n",
    "\n",
    "\n",
    "\n",
    "### <font color='red'>**Actividad 2:**</font>\n",
    "\n",
    "**Desarrollar una función que calcule las derivadas de la funcion de costo con respecto a w y a b**, es decir, una función que devuelva los siguiente calculos:\n",
    "\n",
    "$\\text{Derivada de J(w,b) con respecto a w = }\\frac{1}{m}\\sum \\limits _{i=1} ^{m}(f(x^{(i)})-y^{(i)})*x^{(i)}$\n",
    "\n",
    "$\\text{Derivada de J(w,b) con respecto a b = }\\frac{1}{m}\\sum \\limits _{i=1} ^{m}(f(x^{(i)})-y^{(i)})$"
   ]
  },
  {
   "cell_type": "code",
   "execution_count": 19,
   "id": "250e3111",
   "metadata": {},
   "outputs": [],
   "source": [
    "def calcular_derivadas(x, y, w, b): \n",
    "    \"\"\"\n",
    "    Calcula las derivadas de la función de costo con respecto a w y b.\n",
    "    Args:\n",
    "      x: arreglo con los valores del feature x para cada ejemplo\n",
    "      y: arreglo con los valores del label y para cada ejemplo\n",
    "      w,b: parametros del modelo conocido (numericos) \n",
    "    Returns\n",
    "      dj_w: Derivada de la función de costo con respecto a w\n",
    "      dj_b: Derivada de la función de costo con respecto a b    \n",
    "     \"\"\"\n",
    "    \n",
    "    # Cantidad de ejemplos\n",
    "    m = x.shape[0]   \n",
    "    \n",
    "    dj_w = 0\n",
    "    dj_b = 0\n",
    "    \n",
    "    # 1. Por todos los ejemplos, calcular la derivada con respecto a w y a b\n",
    "    for i in range(m):\n",
    "        # 1.a. Calcular f(x)\n",
    "        f_x = w * x[i] + b\n",
    "        label = y[i]\n",
    "        \n",
    "        # 1.b. Calcular la derivada con respecto a w para el ejemplo i\n",
    "        dj_w_i = (f_x - label) * x[i]\n",
    "        \n",
    "        # 1.c. Calcular la derivada con respecto a b para el ejemplo i\n",
    "        dj_b_i = (f_x - y[i])\n",
    "        \n",
    "        # 1.d. Sumar la derivada acumulada con respecto a w\n",
    "        dj_w += dj_w_i\n",
    "        \n",
    "        # 1.e. Sumar la derivada acumulada con respecto a b\n",
    "        dj_b += dj_b_i\n",
    "    \n",
    "    # 2. Obtener el promedio de las derivadas\n",
    "    dj_w = dj_w / m\n",
    "    dj_b = dj_b / m\n",
    "     \n",
    "    # 3. Retornar las derivadas\n",
    "    return dj_w, dj_b"
   ]
  },
  {
   "cell_type": "markdown",
   "id": "74e89397",
   "metadata": {},
   "source": [
    "Ahora que tenemos una función que calcula las derivadas solo resta actualizar los valores de w y de b simultaneamente, de la siguiente manera:\n",
    "\n",
    "\n",
    "\n",
    "$\\text{repetir hasta convergencia:}$\n",
    "\n",
    "&emsp;&emsp;&emsp;$w=w-\\alpha*\\frac{1}{m}\\sum \\limits _{i=1} ^{m}(f(x^{(i)})-y^{(i)})*x^{(i)}$\n",
    "\n",
    "&emsp;&emsp;&emsp;$b=b-\\alpha*\\frac{1}{m}\\sum \\limits _{i=1} ^{m}(f(x^{(i)})-y^{(i)})$\n",
    "\n",
    "en donde, \n",
    "\n",
    "${f(x)} = w*x+b$\n",
    "\n",
    "### <font color='red'>**Actividad 3:**</font>\n",
    "\n",
    "Desarrollar una función que calcule el gradiente descendente, es decir, que actualice los valores de w y de b utilizando la función desarrollada en la actividad anterior.\n",
    "\n"
   ]
  },
  {
   "cell_type": "code",
   "execution_count": 20,
   "id": "ad5e8ee7",
   "metadata": {},
   "outputs": [],
   "source": [
    "def gradiente_descendente(x, y, max_iterations, alpha): \n",
    "    \"\"\"\n",
    "    Calcula el gradiente descendente para encontrar los valores óptimos de w y b.\n",
    "    \n",
    "    Args:\n",
    "      x: arreglo con los valores del feature x para cada ejemplo\n",
    "      y: arreglo con los valores del label y para cada ejemplo\n",
    "      max_iterations: máximo de iteraciones\n",
    "      alpha: learning rate\n",
    "      \n",
    "    Returns:\n",
    "      w: valor de w luego de converger\n",
    "      b: valor de b luego de converger\n",
    "      J_history (List): valores históricos del costo (para graficar)\n",
    "      wb_history (list): valores históricos de w y de b (para graficar)\n",
    "      \"\"\"\n",
    "        \n",
    "    # Estos arreglos sirven para ir guardando los valores del costo y de los parámetros para graficarlos al final\n",
    "    J_hist = []\n",
    "    wb_hist = []\n",
    "    \n",
    "    w = 0\n",
    "    b = 0\n",
    "    \n",
    "    # Repetir hasta el máximo de iteraciones\n",
    "    for i in range(max_iterations):\n",
    "        \n",
    "        # Calcular las derivadas\n",
    "        dj_w, dj_b = calcular_derivadas(x, y, w, b)     \n",
    "\n",
    "        # Actualizar los valores de w y b             \n",
    "        w =  w - alpha * dj_w\n",
    "        \n",
    "        b = b - alpha * dj_b\n",
    "        \n",
    "        costo = calcular_costo(x, y, w , b)\n",
    "        \n",
    "        # Guardar el costo y los parámetros de la iteración\n",
    "        J_hist.append(costo)\n",
    "        wb_hist.append([w,b])\n",
    "            \n",
    "        # Imprime el costo cada 1000 iteraciones\n",
    "        if i% math.ceil(max_iterations/10) == 0:\n",
    "            print(f\"Iteración {i:4}: Cost {J_hist[-1]:0.2e} \", f\"w: {w: 0.3e}, b:{b: 0.5e}\")\n",
    " \n",
    "    # retorna w, b y los arreglos con los costos y parámetros de cada iteración\n",
    "    return w, b, J_hist, wb_hist "
   ]
  },
  {
   "cell_type": "code",
   "execution_count": 17,
   "id": "a26db331",
   "metadata": {},
   "outputs": [
    {
     "ename": "NameError",
     "evalue": "name 'df_b_i' is not defined",
     "output_type": "error",
     "traceback": [
      "\u001b[31m---------------------------------------------------------------------------\u001b[39m",
      "\u001b[31mNameError\u001b[39m                                 Traceback (most recent call last)",
      "\u001b[36mCell\u001b[39m\u001b[36m \u001b[39m\u001b[32mIn[17]\u001b[39m\u001b[32m, line 4\u001b[39m\n\u001b[32m      1\u001b[39m max_iterations = \u001b[32m10000\u001b[39m\n\u001b[32m      2\u001b[39m alpha = \u001b[32m1.0e-4\u001b[39m\n\u001b[32m----> \u001b[39m\u001b[32m4\u001b[39m w_final, b_final, J_hist, wb_hist = \u001b[43mgradiente_descendente\u001b[49m\u001b[43m(\u001b[49m\u001b[43mx_train\u001b[49m\u001b[43m \u001b[49m\u001b[43m,\u001b[49m\u001b[43my_train\u001b[49m\u001b[43m,\u001b[49m\u001b[43m \u001b[49m\u001b[43mmax_iterations\u001b[49m\u001b[43m,\u001b[49m\u001b[43m \u001b[49m\u001b[43malpha\u001b[49m\u001b[43m)\u001b[49m\n\u001b[32m      6\u001b[39m display(\u001b[33mf\u001b[39m\u001b[33m\"\u001b[39m\u001b[33mValores de (w,b) encontrados por el gradiente descendente: (\u001b[39m\u001b[38;5;132;01m{\u001b[39;00mw_final\u001b[38;5;132;01m:\u001b[39;00m\u001b[33m8.4f\u001b[39m\u001b[38;5;132;01m}\u001b[39;00m\u001b[33m,\u001b[39m\u001b[38;5;132;01m{\u001b[39;00mb_final\u001b[38;5;132;01m:\u001b[39;00m\u001b[33m8.4f\u001b[39m\u001b[38;5;132;01m}\u001b[39;00m\u001b[33m)\u001b[39m\u001b[33m\"\u001b[39m)\n",
      "\u001b[36mCell\u001b[39m\u001b[36m \u001b[39m\u001b[32mIn[16]\u001b[39m\u001b[32m, line 29\u001b[39m, in \u001b[36mgradiente_descendente\u001b[39m\u001b[34m(x, y, max_iterations, alpha)\u001b[39m\n\u001b[32m     25\u001b[39m \u001b[38;5;66;03m# Repetir hasta el máximo de iteraciones\u001b[39;00m\n\u001b[32m     26\u001b[39m \u001b[38;5;28;01mfor\u001b[39;00m i \u001b[38;5;129;01min\u001b[39;00m \u001b[38;5;28mrange\u001b[39m(max_iterations):\n\u001b[32m     27\u001b[39m \n\u001b[32m     28\u001b[39m     \u001b[38;5;66;03m# Calcular las derivadas\u001b[39;00m\n\u001b[32m---> \u001b[39m\u001b[32m29\u001b[39m     dj_w, dj_b = \u001b[43mcalcular_derivadas\u001b[49m\u001b[43m(\u001b[49m\u001b[43mx\u001b[49m\u001b[43m,\u001b[49m\u001b[43m \u001b[49m\u001b[43my\u001b[49m\u001b[43m,\u001b[49m\u001b[43m \u001b[49m\u001b[43mw\u001b[49m\u001b[43m,\u001b[49m\u001b[43m \u001b[49m\u001b[43mb\u001b[49m\u001b[43m)\u001b[49m     \n\u001b[32m     31\u001b[39m     \u001b[38;5;66;03m# Actualizar los valores de w y b             \u001b[39;00m\n\u001b[32m     32\u001b[39m     w =  w - alpha * dj_w\n",
      "\u001b[36mCell\u001b[39m\u001b[36m \u001b[39m\u001b[32mIn[15]\u001b[39m\u001b[32m, line 35\u001b[39m, in \u001b[36mcalcular_derivadas\u001b[39m\u001b[34m(x, y, w, b)\u001b[39m\n\u001b[32m     32\u001b[39m     dj_w += dj_w_i\n\u001b[32m     34\u001b[39m     \u001b[38;5;66;03m# 1.e. Sumar la derivada acumulada con respecto a b\u001b[39;00m\n\u001b[32m---> \u001b[39m\u001b[32m35\u001b[39m     dj_b += \u001b[43mdf_b_i\u001b[49m\n\u001b[32m     37\u001b[39m \u001b[38;5;66;03m# 2. Obtener el promedio de las derivadas\u001b[39;00m\n\u001b[32m     38\u001b[39m dj_w = dj_w / m\n",
      "\u001b[31mNameError\u001b[39m: name 'df_b_i' is not defined"
     ]
    }
   ],
   "source": [
    "max_iterations = 10000\n",
    "alpha = 1.0e-4\n",
    "\n",
    "w_final, b_final, J_hist, wb_hist = gradiente_descendente(x_train ,y_train, max_iterations, alpha)\n",
    "\n",
    "display(f\"Valores de (w,b) encontrados por el gradiente descendente: ({w_final:8.4f},{b_final:8.4f})\")"
   ]
  },
  {
   "cell_type": "code",
   "execution_count": null,
   "id": "44fb8e7c",
   "metadata": {},
   "outputs": [],
   "source": [
    "plt.plot(J_hist[:500])\n",
    "\n",
    "plt.title(\"Costo por iteración\")\n",
    "plt.ylabel('Costo')\n",
    "plt.xlabel('#iteración') \n",
    "\n",
    "plt.show()"
   ]
  },
  {
   "cell_type": "code",
   "execution_count": null,
   "id": "f599c2ff",
   "metadata": {},
   "outputs": [],
   "source": [
    "# Graficamos el dataset\n",
    "plt.figure(figsize=(8,5))\n",
    "plt.scatter(x_train,y_train)\n",
    "\n",
    "# Definimos el modelo con los parametros encontrados\n",
    "y_hat = w_final * x_train + b_final\n",
    "\n",
    "# Graficamos el modelo con una recta roja\n",
    "plt.plot(x_train, y_hat, color='r')\n",
    "plt.show()"
   ]
  },
  {
   "cell_type": "markdown",
   "id": "df77c95e",
   "metadata": {},
   "source": [
    "## Regresión Lineal con Scikit-learn\n",
    "\n",
    "Ahora que desarrollamos nuestras propias funciones de regresión lineal veamos como podemos implementarlo usando la librería scikit-learn.\n",
    "\n",
    "Comenzamos importando de la librería scikit-learn el paquete linear_model que contiene las funciones para hacer Regresión lineal"
   ]
  },
  {
   "cell_type": "code",
   "execution_count": null,
   "id": "2e42877b",
   "metadata": {},
   "outputs": [],
   "source": [
    "from sklearn import linear_model"
   ]
  },
  {
   "cell_type": "markdown",
   "id": "41e6966d",
   "metadata": {},
   "source": [
    "El dataset que creamos anteriormente lo habiamos aplanado usando el método .flatten() para obtener un arreglo en vez de una matriz, para simplificar el manejo de los datos. \n",
    "\n",
    "El modelo de regresión lineal de scikit-learn acepta solamente matrices para poder hacer regresión lineal para multiples features. \n",
    "\n",
    "En nuestro ejemplo sólo tenemos un único feature y por ello con un arreglo era suficiente, pero para usar la librería debemos transformarlo en una matriz nuevamente. Para ello usamos el método .reshape()."
   ]
  },
  {
   "cell_type": "code",
   "execution_count": null,
   "id": "1fbd8524",
   "metadata": {},
   "outputs": [],
   "source": [
    "x_train = x_train.reshape(-1, 1)\n",
    "x_train.shape"
   ]
  },
  {
   "cell_type": "markdown",
   "id": "37656dc0",
   "metadata": {},
   "source": [
    "Ahora creamos el modelo de regresion lineal usando el metodo LinearRegression()"
   ]
  },
  {
   "cell_type": "code",
   "execution_count": null,
   "id": "f42c63c3",
   "metadata": {},
   "outputs": [],
   "source": [
    "regr = linear_model.LinearRegression()"
   ]
  },
  {
   "cell_type": "markdown",
   "id": "97ae602e",
   "metadata": {},
   "source": [
    "Con el método .fit(x,y) lo que hacemos es ajustar el modelo a los datos."
   ]
  },
  {
   "cell_type": "code",
   "execution_count": null,
   "id": "100650df",
   "metadata": {},
   "outputs": [],
   "source": [
    "regr.fit(x_train, y_train)"
   ]
  },
  {
   "cell_type": "markdown",
   "id": "9a015cec",
   "metadata": {},
   "source": [
    "Ahora que tenemos el modelo podemos ver los parametros w y b"
   ]
  },
  {
   "cell_type": "code",
   "execution_count": null,
   "id": "eda30b1c",
   "metadata": {},
   "outputs": [],
   "source": [
    "print(\"Parametros: \\n w =\", regr.coef_, \"      b =\", regr.intercept_)"
   ]
  },
  {
   "cell_type": "markdown",
   "id": "c61971f4",
   "metadata": {},
   "source": [
    "\n",
    "Ahora, resta obtener los valores estimados: $\\hat{y}$ para poder graficar el modelo"
   ]
  },
  {
   "cell_type": "code",
   "execution_count": null,
   "id": "baabfc29",
   "metadata": {},
   "outputs": [],
   "source": [
    "y_pred = regr.predict(x_train)\n",
    "\n",
    "# Graficamos el modelo con una recta roja sobre el grafico de dispersión del dataset generado\n",
    "plt.scatter(x_train, y_train)\n",
    "plt.plot(x_train, y_pred,color='r')\n",
    "\n",
    "plt.show()"
   ]
  },
  {
   "cell_type": "markdown",
   "id": "23fc2d78",
   "metadata": {},
   "source": [
    "Vemos que con una pocas líneas de código usando la librería scikit-learn obtenemos un modelo muy similar al conseguido habiendo desarrollado todas las funciones necesarias para desarrollar regresion lineal.\n"
   ]
  },
  {
   "cell_type": "code",
   "execution_count": null,
   "id": "5ec52c13",
   "metadata": {},
   "outputs": [],
   "source": []
  }
 ],
 "metadata": {
  "kernelspec": {
   "display_name": "Python 3 (ipykernel)",
   "language": "python",
   "name": "python3"
  },
  "language_info": {
   "codemirror_mode": {
    "name": "ipython",
    "version": 3
   },
   "file_extension": ".py",
   "mimetype": "text/x-python",
   "name": "python",
   "nbconvert_exporter": "python",
   "pygments_lexer": "ipython3",
   "version": "3.11.9"
  }
 },
 "nbformat": 4,
 "nbformat_minor": 5
}
